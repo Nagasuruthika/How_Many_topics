{
  "nbformat": 4,
  "nbformat_minor": 0,
  "metadata": {
    "colab": {
      "name": "yelp_part2_coherence.ipynb",
      "provenance": []
    },
    "kernelspec": {
      "display_name": "Python 3",
      "name": "python3"
    }
  },
  "cells": [
    {
      "cell_type": "code",
      "metadata": {
        "colab": {
          "base_uri": "https://localhost:8080/"
        },
        "id": "drP02krNYq2w",
        "outputId": "7b5a1f39-83e2-4fd8-e008-a859549c88cc"
      },
      "source": [
        "import nltk\n",
        "nltk.download(\"stopwords\")\n",
        "nltk.download(\"wordnet\")\n",
        "nltk.download(\"punkt\")\n",
        "from nltk.corpus import stopwords\n",
        "from nltk.stem.wordnet import WordNetLemmatizer\n",
        "import string\n",
        "stop = set(stopwords.words('english'))\n",
        "from gensim.models.coherencemodel import CoherenceModel"
      ],
      "execution_count": 1,
      "outputs": [
        {
          "output_type": "stream",
          "text": [
            "[nltk_data] Downloading package stopwords to /root/nltk_data...\n",
            "[nltk_data]   Unzipping corpora/stopwords.zip.\n",
            "[nltk_data] Downloading package wordnet to /root/nltk_data...\n",
            "[nltk_data]   Unzipping corpora/wordnet.zip.\n",
            "[nltk_data] Downloading package punkt to /root/nltk_data...\n",
            "[nltk_data]   Unzipping tokenizers/punkt.zip.\n"
          ],
          "name": "stdout"
        }
      ]
    },
    {
      "cell_type": "code",
      "metadata": {
        "colab": {
          "resources": {
            "http://localhost:8080/nbextensions/google.colab/files.js": {
              "data": "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",
              "ok": true,
              "headers": [
                [
                  "content-type",
                  "application/javascript"
                ]
              ],
              "status": 200,
              "status_text": ""
            }
          },
          "base_uri": "https://localhost:8080/",
          "height": 72
        },
        "id": "ec5uqa9-ZHGX",
        "outputId": "4c6e5b2c-0fa5-4e74-ed1d-979543f28020"
      },
      "source": [
        "from google.colab import files\n",
        "uploaded = files.upload()"
      ],
      "execution_count": 2,
      "outputs": [
        {
          "output_type": "display_data",
          "data": {
            "text/html": [
              "\n",
              "     <input type=\"file\" id=\"files-db99adf9-92c5-4fe3-b450-9b86c3f1c601\" name=\"files[]\" multiple disabled\n",
              "        style=\"border:none\" />\n",
              "     <output id=\"result-db99adf9-92c5-4fe3-b450-9b86c3f1c601\">\n",
              "      Upload widget is only available when the cell has been executed in the\n",
              "      current browser session. Please rerun this cell to enable.\n",
              "      </output>\n",
              "      <script src=\"/nbextensions/google.colab/files.js\"></script> "
            ],
            "text/plain": [
              "<IPython.core.display.HTML object>"
            ]
          },
          "metadata": {
            "tags": []
          }
        },
        {
          "output_type": "stream",
          "text": [
            "Saving yelp_part2_shruthika.csv to yelp_part2_shruthika.csv\n"
          ],
          "name": "stdout"
        }
      ]
    },
    {
      "cell_type": "code",
      "metadata": {
        "id": "yE42N3VJce_q"
      },
      "source": [
        "import pandas as pd\n",
        "df = pd.read_csv(\"yelp_part2_shruthika.csv\")"
      ],
      "execution_count": 3,
      "outputs": []
    },
    {
      "cell_type": "code",
      "metadata": {
        "colab": {
          "base_uri": "https://localhost:8080/"
        },
        "id": "-bdA2oE8cjuY",
        "outputId": "0a073e0c-a005-488e-cc36-21b8f636fd80"
      },
      "source": [
        "!pip install pyLDAvis"
      ],
      "execution_count": 4,
      "outputs": [
        {
          "output_type": "stream",
          "text": [
            "Collecting pyLDAvis\n",
            "\u001b[?25l  Downloading https://files.pythonhosted.org/packages/a5/3a/af82e070a8a96e13217c8f362f9a73e82d61ac8fff3a2561946a97f96266/pyLDAvis-2.1.2.tar.gz (1.6MB)\n",
            "\u001b[K     |████████████████████████████████| 1.6MB 5.2MB/s \n",
            "\u001b[?25hRequirement already satisfied: wheel>=0.23.0 in /usr/local/lib/python3.6/dist-packages (from pyLDAvis) (0.35.1)\n",
            "Requirement already satisfied: numpy>=1.9.2 in /usr/local/lib/python3.6/dist-packages (from pyLDAvis) (1.18.5)\n",
            "Requirement already satisfied: scipy>=0.18.0 in /usr/local/lib/python3.6/dist-packages (from pyLDAvis) (1.4.1)\n",
            "Requirement already satisfied: pandas>=0.17.0 in /usr/local/lib/python3.6/dist-packages (from pyLDAvis) (1.1.4)\n",
            "Requirement already satisfied: joblib>=0.8.4 in /usr/local/lib/python3.6/dist-packages (from pyLDAvis) (0.17.0)\n",
            "Requirement already satisfied: jinja2>=2.7.2 in /usr/local/lib/python3.6/dist-packages (from pyLDAvis) (2.11.2)\n",
            "Requirement already satisfied: numexpr in /usr/local/lib/python3.6/dist-packages (from pyLDAvis) (2.7.1)\n",
            "Requirement already satisfied: pytest in /usr/local/lib/python3.6/dist-packages (from pyLDAvis) (3.6.4)\n",
            "Requirement already satisfied: future in /usr/local/lib/python3.6/dist-packages (from pyLDAvis) (0.16.0)\n",
            "Collecting funcy\n",
            "  Downloading https://files.pythonhosted.org/packages/66/89/479de0afbbfb98d1c4b887936808764627300208bb771fcd823403645a36/funcy-1.15-py2.py3-none-any.whl\n",
            "Requirement already satisfied: pytz>=2017.2 in /usr/local/lib/python3.6/dist-packages (from pandas>=0.17.0->pyLDAvis) (2018.9)\n",
            "Requirement already satisfied: python-dateutil>=2.7.3 in /usr/local/lib/python3.6/dist-packages (from pandas>=0.17.0->pyLDAvis) (2.8.1)\n",
            "Requirement already satisfied: MarkupSafe>=0.23 in /usr/local/lib/python3.6/dist-packages (from jinja2>=2.7.2->pyLDAvis) (1.1.1)\n",
            "Requirement already satisfied: setuptools in /usr/local/lib/python3.6/dist-packages (from pytest->pyLDAvis) (50.3.2)\n",
            "Requirement already satisfied: six>=1.10.0 in /usr/local/lib/python3.6/dist-packages (from pytest->pyLDAvis) (1.15.0)\n",
            "Requirement already satisfied: more-itertools>=4.0.0 in /usr/local/lib/python3.6/dist-packages (from pytest->pyLDAvis) (8.6.0)\n",
            "Requirement already satisfied: pluggy<0.8,>=0.5 in /usr/local/lib/python3.6/dist-packages (from pytest->pyLDAvis) (0.7.1)\n",
            "Requirement already satisfied: attrs>=17.4.0 in /usr/local/lib/python3.6/dist-packages (from pytest->pyLDAvis) (20.2.0)\n",
            "Requirement already satisfied: atomicwrites>=1.0 in /usr/local/lib/python3.6/dist-packages (from pytest->pyLDAvis) (1.4.0)\n",
            "Requirement already satisfied: py>=1.5.0 in /usr/local/lib/python3.6/dist-packages (from pytest->pyLDAvis) (1.9.0)\n",
            "Building wheels for collected packages: pyLDAvis\n",
            "  Building wheel for pyLDAvis (setup.py) ... \u001b[?25l\u001b[?25hdone\n",
            "  Created wheel for pyLDAvis: filename=pyLDAvis-2.1.2-py2.py3-none-any.whl size=97712 sha256=278764cc597f4f8cbf17735270be1ddec5320ec7e4caf2b207f60c7056641fdf\n",
            "  Stored in directory: /root/.cache/pip/wheels/98/71/24/513a99e58bb6b8465bae4d2d5e9dba8f0bef8179e3051ac414\n",
            "Successfully built pyLDAvis\n",
            "Installing collected packages: funcy, pyLDAvis\n",
            "Successfully installed funcy-1.15 pyLDAvis-2.1.2\n"
          ],
          "name": "stdout"
        }
      ]
    },
    {
      "cell_type": "code",
      "metadata": {
        "id": "NLAC40HBcmZy"
      },
      "source": [
        "import pyLDAvis\n",
        "import pyLDAvis.gensim  \n",
        "import matplotlib.pyplot as plt\n",
        "%matplotlib inline"
      ],
      "execution_count": 6,
      "outputs": []
    },
    {
      "cell_type": "code",
      "metadata": {
        "id": "BAi3Lourcsth"
      },
      "source": [
        "import csv\n",
        "from csv import reader\n",
        "titles = []\n",
        "with open(\"yelp_part2_shruthika.csv\", 'r') as read_obj:\n",
        "    # pass the file object to reader() to get the reader object\n",
        "    csv_reader = reader(read_obj)\n",
        "    # Iterate over each row in the csv using reader object\n",
        "    for row in csv_reader:\n",
        "        # row variable is a list that represents a row in csv\n",
        "        tit.append(row)"
      ],
      "execution_count": 7,
      "outputs": []
    },
    {
      "cell_type": "code",
      "metadata": {
        "colab": {
          "base_uri": "https://localhost:8080/"
        },
        "id": "WADU0CZ6dAJd",
        "outputId": "96532b53-6f8c-44cc-db79-c804808be609"
      },
      "source": [
        "print(len(titles))"
      ],
      "execution_count": 8,
      "outputs": [
        {
          "output_type": "stream",
          "text": [
            "150050\n"
          ],
          "name": "stdout"
        }
      ]
    },
    {
      "cell_type": "code",
      "metadata": {
        "id": "WYPZOrnudFPl"
      },
      "source": [
        "values = []\n",
        "for i in titles:\n",
        "  try:\n",
        "    values.append(i[0])\n",
        "  except:\n",
        "    pass"
      ],
      "execution_count": 9,
      "outputs": []
    },
    {
      "cell_type": "code",
      "metadata": {
        "id": "t2w8Oh0XdHFm"
      },
      "source": [
        "z = []\n",
        "with open(\"yelp_part2_shruthika.csv\", 'r') as read_obj:\n",
        "    # pass the file object to reader() to get the reader object\n",
        "    csv_reader = reader(read_obj)\n",
        "    # Iterate over each row in the csv using reader object\n",
        "    for row in csv_reader:\n",
        "        # row variable is a list that represents a row in csv\n",
        "        z.append(row)"
      ],
      "execution_count": 10,
      "outputs": []
    },
    {
      "cell_type": "code",
      "metadata": {
        "colab": {
          "base_uri": "https://localhost:8080/"
        },
        "id": "1izWMlp7daSf",
        "outputId": "1daa97eb-0428-4e33-c652-649bbaf2bc88"
      },
      "source": [
        "print(z[:10])"
      ],
      "execution_count": 11,
      "outputs": [
        {
          "output_type": "stream",
          "text": [
            "[['wifey took celebrate birthday best boomerang dinner parking breeze enter vegas blvd take elevator restaurant right huge blessing inch heels quietly reminding toes handle pain long look good there cool pawn shop upon entering everything sale even people walking explain later once pawn shop actual restaurant- atmosphere elegant sexy dimly fantastic mixing favorite jams aquanet clouds thing vibe intimate expect hear anything without yelling reading lips quite loud early really like nightclub good food food drink good selection craft cocktails wine even virgin cocktails names like garnet gimlet served coupe gases inbibers menu mostly tapas style options entrees oysters frozen mignonette granita refreshing beets creamy burata good served shmear beet purée tuna poke wonton tacos bite crispy deliciousness tomato soup dumplings surprisingly filled nice bites cheesey dumplings crispy crumbs homemade cavatelli good expecting something different cavatelli broccoli dish blew away wife lucky ordered perfect pasta light tomato sauce speckled spicy italian sausage dots ricotta getting dish next time mexican street corn ravioli exactly would made elote ravioli married surrounded saucy guests mentioned earlier everything sale especially vegas strip evidenced large group walking leaving buxom ladies uniform minis held together shoelaces accompanied unremarkable blue pill poppin grey haired paying night forward probably bring home contagious souvenir hope beauty meh-sex worth'], ['going years last november would stand horrible pain diagnosed arthritis reason walking lazy according bill xrays nerve tests actually spinal injury died seizure days later absolutely horrific still devastated years stye going away quoted removal decided come back months saved came back wanted 2000 they change price brought quote year abscess tried charging 400+ removal medicine pointed year prior same treatment quickly reduced price weeks friends kitten severe diarrhea newly adopted called make appt said walk waited five hours because people came pets craig staff said seen emergency wait people paid skipped wait friends kitten fine five hours absolutely ridiculous especially paying figure worms everything friend kitten spayed went remove stitches forgot stiches back wait several hours remove ones left trust place anymore vets misdiagnose maim animals charge insane rates make absolutely sense waiting times horrific absolutely never going back neither friends famili'], ['family went last night fiance mother boys right back families children placed sunroom section restraunt room temperature uncomfortable even waitress drenched sweat wait minutes drinks even incorrect ordered stuffed mushroom appetizer served entree cold center waitress clearly overwhelmed made quite impossible assistance waited minutes time dropped check pick bill book even'], ['massage every time suffer fibermyalgia allows pain free staff friendly mood relaxing great place stop'], ['daughter requested chick-fil-a lunch loves disappointed experience today customer service terrible cashiers wandering around handing drinks instead taking orders there clean tables someone wipe attitude dirty rag- cleaned hand sanitizer wipe food arrive clean trays they stacked trash food gross fries cold stale chicken tastes looks huge disappoint'], ['this favorite subway what love place tuna full mayonnaise addition staff working hard hours great service especially night eddie location times thank clean yummy favorite subway loc'], ['this always crowded there people always sitting machines using phones groups people always talking instead working come late night good workout'], ['heritage tattoo great place clean spacious relaxing friendly people good music made great experience kelsey lane incredible finished tattoo started atlanta impressed friend recommended great work back update back kelsey lane awesome happy whole attitude makes experience rocks update kelsey lane incredible keep coming back'], ['dleicious blends coconut milk tsoynamis smores twist flavorful would definitely order place always hoppin even line served quickly friendly service around star'], ['came butters vacation wife atmosphere sunday morning fantastic staff amazing very polite professional huevos rancheros different normal mexico style they really good really enjoyed wife mexican omelet really enjoyed flavors great would recommend everyone plac']]\n"
          ],
          "name": "stdout"
        }
      ]
    },
    {
      "cell_type": "code",
      "metadata": {
        "id": "J-8fuCO1ddJ1"
      },
      "source": [
        "values = []\n",
        "values = z"
      ],
      "execution_count": 12,
      "outputs": []
    },
    {
      "cell_type": "code",
      "metadata": {
        "id": "gxyjKHZIdkGZ"
      },
      "source": [
        "values = []\n",
        "for i in titles:\n",
        "  try:\n",
        "    values.append(i[0])\n",
        "  except:\n",
        "    pass\n"
      ],
      "execution_count": 13,
      "outputs": []
    },
    {
      "cell_type": "code",
      "metadata": {
        "id": "VzwzTqN0dm9s"
      },
      "source": [
        "reviews = []\n",
        "for i in z:\n",
        "  try:\n",
        "    reviews.append(i[0])\n",
        "  except:\n",
        "    pass"
      ],
      "execution_count": 14,
      "outputs": []
    },
    {
      "cell_type": "code",
      "metadata": {
        "colab": {
          "base_uri": "https://localhost:8080/"
        },
        "id": "7TLLS27xdqHK",
        "outputId": "0ee2a85f-181a-419d-ea69-c7334f48fc60"
      },
      "source": [
        "print(values[:10])"
      ],
      "execution_count": 15,
      "outputs": [
        {
          "output_type": "stream",
          "text": [
            "['wifey took celebrate birthday best boomerang dinner parking breeze enter vegas blvd take elevator restaurant right huge blessing inch heels quietly reminding toes handle pain long look good there cool pawn shop upon entering everything sale even people walking explain later once pawn shop actual restaurant- atmosphere elegant sexy dimly fantastic mixing favorite jams aquanet clouds thing vibe intimate expect hear anything without yelling reading lips quite loud early really like nightclub good food food drink good selection craft cocktails wine even virgin cocktails names like garnet gimlet served coupe gases inbibers menu mostly tapas style options entrees oysters frozen mignonette granita refreshing beets creamy burata good served shmear beet purée tuna poke wonton tacos bite crispy deliciousness tomato soup dumplings surprisingly filled nice bites cheesey dumplings crispy crumbs homemade cavatelli good expecting something different cavatelli broccoli dish blew away wife lucky ordered perfect pasta light tomato sauce speckled spicy italian sausage dots ricotta getting dish next time mexican street corn ravioli exactly would made elote ravioli married surrounded saucy guests mentioned earlier everything sale especially vegas strip evidenced large group walking leaving buxom ladies uniform minis held together shoelaces accompanied unremarkable blue pill poppin grey haired paying night forward probably bring home contagious souvenir hope beauty meh-sex worth', 'going years last november would stand horrible pain diagnosed arthritis reason walking lazy according bill xrays nerve tests actually spinal injury died seizure days later absolutely horrific still devastated years stye going away quoted removal decided come back months saved came back wanted 2000 they change price brought quote year abscess tried charging 400+ removal medicine pointed year prior same treatment quickly reduced price weeks friends kitten severe diarrhea newly adopted called make appt said walk waited five hours because people came pets craig staff said seen emergency wait people paid skipped wait friends kitten fine five hours absolutely ridiculous especially paying figure worms everything friend kitten spayed went remove stitches forgot stiches back wait several hours remove ones left trust place anymore vets misdiagnose maim animals charge insane rates make absolutely sense waiting times horrific absolutely never going back neither friends famili', 'family went last night fiance mother boys right back families children placed sunroom section restraunt room temperature uncomfortable even waitress drenched sweat wait minutes drinks even incorrect ordered stuffed mushroom appetizer served entree cold center waitress clearly overwhelmed made quite impossible assistance waited minutes time dropped check pick bill book even', 'massage every time suffer fibermyalgia allows pain free staff friendly mood relaxing great place stop', 'daughter requested chick-fil-a lunch loves disappointed experience today customer service terrible cashiers wandering around handing drinks instead taking orders there clean tables someone wipe attitude dirty rag- cleaned hand sanitizer wipe food arrive clean trays they stacked trash food gross fries cold stale chicken tastes looks huge disappoint', 'this favorite subway what love place tuna full mayonnaise addition staff working hard hours great service especially night eddie location times thank clean yummy favorite subway loc', 'this always crowded there people always sitting machines using phones groups people always talking instead working come late night good workout', 'heritage tattoo great place clean spacious relaxing friendly people good music made great experience kelsey lane incredible finished tattoo started atlanta impressed friend recommended great work back update back kelsey lane awesome happy whole attitude makes experience rocks update kelsey lane incredible keep coming back', 'dleicious blends coconut milk tsoynamis smores twist flavorful would definitely order place always hoppin even line served quickly friendly service around star', 'came butters vacation wife atmosphere sunday morning fantastic staff amazing very polite professional huevos rancheros different normal mexico style they really good really enjoyed wife mexican omelet really enjoyed flavors great would recommend everyone plac']\n"
          ],
          "name": "stdout"
        }
      ]
    },
    {
      "cell_type": "code",
      "metadata": {
        "id": "Mdu-70MYdvrS"
      },
      "source": [
        "from nltk.tokenize import RegexpTokenizer\n",
        "from nltk.corpus import stopwords\n",
        "from nltk.stem.wordnet import WordNetLemmatizer\n",
        "import string\n",
        "stop = set(stopwords.words('english'))\n",
        "from nltk.stem.porter import PorterStemmer\n",
        "from gensim import corpora, models\n",
        "import gensim\n",
        "\n",
        "tokenizer = RegexpTokenizer(r'\\w+')\n",
        "\n",
        "# create English stop words list\n",
        "en_stop = set(stopwords.words('english'))\n",
        "# Create p_stemmer of class PorterStemmer\n",
        "p_stemmer = PorterStemmer()\n",
        "    \n",
        "doc_set = values\n",
        "# list for tokenized documents in loop\n",
        "texts = []\n",
        "\n",
        "# loop through document list\n",
        "for i in doc_set:\n",
        "    \n",
        "    # clean and tokenize document string\n",
        "    raw = i.lower()\n",
        "    tokens = tokenizer.tokenize(raw)\n",
        "\n",
        "    # remove stop words from tokens\n",
        "    stopped_tokens = [i for i in tokens if not i in en_stop]\n",
        "    \n",
        "    # stem tokens\n",
        "    stemmed_tokens = [p_stemmer.stem(i) for i in stopped_tokens]\n",
        "    \n",
        "    # add tokens to list\n",
        "    texts.append(stemmed_tokens)\n",
        "\n",
        "\n",
        "dictionary = corpora.Dictionary(texts)\n",
        "    \n",
        "\n",
        "corpus = [dictionary.doc2bow(text) for text in texts]\n",
        "\n",
        "\n"
      ],
      "execution_count": 16,
      "outputs": []
    },
    {
      "cell_type": "code",
      "metadata": {
        "colab": {
          "base_uri": "https://localhost:8080/"
        },
        "id": "gqXelwi3ee6u",
        "outputId": "4503e7c0-93c7-4a15-8cea-e0a899bbafbf"
      },
      "source": [
        "# generate LDA model\n",
        "lda = models.LdaMulticore(corpus, id2word=dictionary, num_topics=8, workers=4, chunksize=20, passes=1, batch=True, alpha='symmetric',\n",
        "                 eta=1, decay=0.8, offset=1.0, eval_every=1, iterations=1,\n",
        "                 gamma_threshold=0.01, random_state=12)\n",
        "top_8 = lda.print_topics(num_topics=8, num_words=5)\n",
        "\n",
        "c = 0\n",
        "for i in top_8:\n",
        "\n",
        "  c += 1\n",
        "  print(\"Topic \"+str(c))\n",
        "  print(i)\n",
        "coherence_model_lda = CoherenceModel(model=lda, texts=texts, dictionary=dictionary, coherence='c_v')\n",
        "\n",
        "print(coherence_model_lda.get_coherence())"
      ],
      "execution_count": 19,
      "outputs": [
        {
          "output_type": "stream",
          "text": [
            "/usr/local/lib/python3.6/dist-packages/gensim/models/ldamodel.py:1077: DeprecationWarning: Calling np.sum(generator) is deprecated, and in the future will give a different result. Use np.sum(np.fromiter(generator)) or the python sum builtin instead.\n",
            "  score += np.sum(cnt * logsumexp(Elogthetad + Elogbeta[:, int(id)]) for id, cnt in doc)\n",
            "/usr/local/lib/python3.6/dist-packages/gensim/models/ldamodel.py:1077: DeprecationWarning: Calling np.sum(generator) is deprecated, and in the future will give a different result. Use np.sum(np.fromiter(generator)) or the python sum builtin instead.\n",
            "  score += np.sum(cnt * logsumexp(Elogthetad + Elogbeta[:, int(id)]) for id, cnt in doc)\n",
            "/usr/local/lib/python3.6/dist-packages/gensim/models/ldamodel.py:1077: DeprecationWarning: Calling np.sum(generator) is deprecated, and in the future will give a different result. Use np.sum(np.fromiter(generator)) or the python sum builtin instead.\n",
            "  score += np.sum(cnt * logsumexp(Elogthetad + Elogbeta[:, int(id)]) for id, cnt in doc)\n",
            "/usr/local/lib/python3.6/dist-packages/gensim/models/ldamodel.py:1077: DeprecationWarning: Calling np.sum(generator) is deprecated, and in the future will give a different result. Use np.sum(np.fromiter(generator)) or the python sum builtin instead.\n",
            "  score += np.sum(cnt * logsumexp(Elogthetad + Elogbeta[:, int(id)]) for id, cnt in doc)\n",
            "/usr/local/lib/python3.6/dist-packages/gensim/models/ldamodel.py:1077: DeprecationWarning: Calling np.sum(generator) is deprecated, and in the future will give a different result. Use np.sum(np.fromiter(generator)) or the python sum builtin instead.\n",
            "  score += np.sum(cnt * logsumexp(Elogthetad + Elogbeta[:, int(id)]) for id, cnt in doc)\n",
            "/usr/local/lib/python3.6/dist-packages/gensim/models/ldamodel.py:1077: DeprecationWarning: Calling np.sum(generator) is deprecated, and in the future will give a different result. Use np.sum(np.fromiter(generator)) or the python sum builtin instead.\n",
            "  score += np.sum(cnt * logsumexp(Elogthetad + Elogbeta[:, int(id)]) for id, cnt in doc)\n",
            "/usr/local/lib/python3.6/dist-packages/gensim/models/ldamodel.py:1077: DeprecationWarning: Calling np.sum(generator) is deprecated, and in the future will give a different result. Use np.sum(np.fromiter(generator)) or the python sum builtin instead.\n",
            "  score += np.sum(cnt * logsumexp(Elogthetad + Elogbeta[:, int(id)]) for id, cnt in doc)\n"
          ],
          "name": "stderr"
        },
        {
          "output_type": "stream",
          "text": [
            "Topic 1\n",
            "(0, '0.011*\"place\" + 0.010*\"good\" + 0.009*\"would\" + 0.009*\"order\" + 0.009*\"great\"')\n",
            "Topic 2\n",
            "(1, '0.012*\"place\" + 0.011*\"food\" + 0.009*\"servic\" + 0.008*\"great\" + 0.008*\"like\"')\n",
            "Topic 3\n",
            "(2, '0.012*\"good\" + 0.011*\"place\" + 0.010*\"time\" + 0.009*\"food\" + 0.008*\"would\"')\n",
            "Topic 4\n",
            "(3, '0.010*\"food\" + 0.010*\"good\" + 0.009*\"place\" + 0.008*\"great\" + 0.007*\"order\"')\n",
            "Topic 5\n",
            "(4, '0.010*\"food\" + 0.009*\"good\" + 0.009*\"great\" + 0.008*\"time\" + 0.008*\"order\"')\n",
            "Topic 6\n",
            "(5, '0.012*\"food\" + 0.011*\"place\" + 0.010*\"time\" + 0.009*\"good\" + 0.008*\"great\"')\n",
            "Topic 7\n",
            "(6, '0.012*\"food\" + 0.011*\"good\" + 0.009*\"great\" + 0.007*\"servic\" + 0.007*\"place\"')\n",
            "Topic 8\n",
            "(7, '0.013*\"place\" + 0.010*\"food\" + 0.009*\"good\" + 0.009*\"time\" + 0.008*\"great\"')\n",
            "0.333092877001367\n"
          ],
          "name": "stdout"
        }
      ]
    },
    {
      "cell_type": "code",
      "metadata": {
        "colab": {
          "base_uri": "https://localhost:8080/"
        },
        "id": "sbBFgF0v-uhp",
        "outputId": "2febccc0-85d8-45b4-93cf-a0b8ef151a2d"
      },
      "source": [
        "coh = []\n",
        "for i in range(6, 12):\n",
        "  lda = models.LdaMulticore(corpus, id2word=dictionary, num_topics=9, workers=20, chunksize=20, passes=1, batch=True, alpha='symmetric',\n",
        "                  eta=1, decay=0.8, offset=1.0, eval_every=1, iterations=i,\n",
        "                  gamma_threshold=0.01, random_state=12)\n",
        "  top_9 = lda.print_topics(num_topics=9, num_words=5)\n",
        "  c = 0\n",
        "  for i in top_9:\n",
        "    c += 1\n",
        "    print(\"Topic \"+str(c))\n",
        "    print(i)\n",
        "\n",
        "  coherence_model_lda = CoherenceModel(model=lda, texts=texts, dictionary=dictionary, coherence='c_v')\n",
        "  coh.append(coherence_model_lda.get_coherence())\n",
        "  print(coherence_model_lda.get_coherence())"
      ],
      "execution_count": 21,
      "outputs": [
        {
          "output_type": "stream",
          "text": [
            "WARNING:gensim.models.ldamulticore:too few updates, training might not converge; consider increasing the number of passes or iterations to improve accuracy\n",
            "/usr/local/lib/python3.6/dist-packages/gensim/models/ldamodel.py:1077: DeprecationWarning: Calling np.sum(generator) is deprecated, and in the future will give a different result. Use np.sum(np.fromiter(generator)) or the python sum builtin instead.\n",
            "  score += np.sum(cnt * logsumexp(Elogthetad + Elogbeta[:, int(id)]) for id, cnt in doc)\n",
            "/usr/local/lib/python3.6/dist-packages/gensim/models/ldamodel.py:1077: DeprecationWarning: Calling np.sum(generator) is deprecated, and in the future will give a different result. Use np.sum(np.fromiter(generator)) or the python sum builtin instead.\n",
            "  score += np.sum(cnt * logsumexp(Elogthetad + Elogbeta[:, int(id)]) for id, cnt in doc)\n",
            "/usr/local/lib/python3.6/dist-packages/gensim/models/ldamodel.py:1077: DeprecationWarning: Calling np.sum(generator) is deprecated, and in the future will give a different result. Use np.sum(np.fromiter(generator)) or the python sum builtin instead.\n",
            "  score += np.sum(cnt * logsumexp(Elogthetad + Elogbeta[:, int(id)]) for id, cnt in doc)\n",
            "/usr/local/lib/python3.6/dist-packages/gensim/models/ldamodel.py:1077: DeprecationWarning: Calling np.sum(generator) is deprecated, and in the future will give a different result. Use np.sum(np.fromiter(generator)) or the python sum builtin instead.\n",
            "  score += np.sum(cnt * logsumexp(Elogthetad + Elogbeta[:, int(id)]) for id, cnt in doc)\n",
            "/usr/local/lib/python3.6/dist-packages/gensim/models/ldamodel.py:1077: DeprecationWarning: Calling np.sum(generator) is deprecated, and in the future will give a different result. Use np.sum(np.fromiter(generator)) or the python sum builtin instead.\n",
            "  score += np.sum(cnt * logsumexp(Elogthetad + Elogbeta[:, int(id)]) for id, cnt in doc)\n",
            "/usr/local/lib/python3.6/dist-packages/gensim/models/ldamodel.py:1077: DeprecationWarning: Calling np.sum(generator) is deprecated, and in the future will give a different result. Use np.sum(np.fromiter(generator)) or the python sum builtin instead.\n",
            "  score += np.sum(cnt * logsumexp(Elogthetad + Elogbeta[:, int(id)]) for id, cnt in doc)\n",
            "/usr/local/lib/python3.6/dist-packages/gensim/models/ldamodel.py:1077: DeprecationWarning: Calling np.sum(generator) is deprecated, and in the future will give a different result. Use np.sum(np.fromiter(generator)) or the python sum builtin instead.\n",
            "  score += np.sum(cnt * logsumexp(Elogthetad + Elogbeta[:, int(id)]) for id, cnt in doc)\n"
          ],
          "name": "stderr"
        },
        {
          "output_type": "stream",
          "text": [
            "Topic 1\n",
            "(0, '0.011*\"place\" + 0.010*\"order\" + 0.010*\"would\" + 0.009*\"great\" + 0.009*\"good\"')\n",
            "Topic 2\n",
            "(1, '0.013*\"place\" + 0.011*\"food\" + 0.009*\"great\" + 0.009*\"servic\" + 0.008*\"order\"')\n",
            "Topic 3\n",
            "(2, '0.012*\"good\" + 0.011*\"place\" + 0.010*\"time\" + 0.009*\"would\" + 0.009*\"great\"')\n",
            "Topic 4\n",
            "(3, '0.010*\"food\" + 0.009*\"place\" + 0.009*\"good\" + 0.009*\"great\" + 0.008*\"order\"')\n",
            "Topic 5\n",
            "(4, '0.010*\"food\" + 0.009*\"great\" + 0.009*\"good\" + 0.008*\"order\" + 0.008*\"time\"')\n",
            "Topic 6\n",
            "(5, '0.012*\"food\" + 0.012*\"place\" + 0.010*\"time\" + 0.009*\"great\" + 0.008*\"good\"')\n",
            "Topic 7\n",
            "(6, '0.013*\"food\" + 0.011*\"good\" + 0.009*\"great\" + 0.008*\"servic\" + 0.007*\"realli\"')\n",
            "Topic 8\n",
            "(7, '0.013*\"place\" + 0.009*\"food\" + 0.009*\"time\" + 0.008*\"good\" + 0.008*\"great\"')\n",
            "Topic 9\n",
            "(8, '0.012*\"good\" + 0.009*\"like\" + 0.009*\"food\" + 0.009*\"time\" + 0.007*\"place\"')\n"
          ],
          "name": "stdout"
        },
        {
          "output_type": "stream",
          "text": [
            "WARNING:gensim.models.ldamulticore:too few updates, training might not converge; consider increasing the number of passes or iterations to improve accuracy\n"
          ],
          "name": "stderr"
        },
        {
          "output_type": "stream",
          "text": [
            "0.33265196996828794\n"
          ],
          "name": "stdout"
        },
        {
          "output_type": "stream",
          "text": [
            "/usr/local/lib/python3.6/dist-packages/gensim/models/ldamodel.py:1077: DeprecationWarning: Calling np.sum(generator) is deprecated, and in the future will give a different result. Use np.sum(np.fromiter(generator)) or the python sum builtin instead.\n",
            "  score += np.sum(cnt * logsumexp(Elogthetad + Elogbeta[:, int(id)]) for id, cnt in doc)\n",
            "/usr/local/lib/python3.6/dist-packages/gensim/models/ldamodel.py:1077: DeprecationWarning: Calling np.sum(generator) is deprecated, and in the future will give a different result. Use np.sum(np.fromiter(generator)) or the python sum builtin instead.\n",
            "  score += np.sum(cnt * logsumexp(Elogthetad + Elogbeta[:, int(id)]) for id, cnt in doc)\n",
            "/usr/local/lib/python3.6/dist-packages/gensim/models/ldamodel.py:1077: DeprecationWarning: Calling np.sum(generator) is deprecated, and in the future will give a different result. Use np.sum(np.fromiter(generator)) or the python sum builtin instead.\n",
            "  score += np.sum(cnt * logsumexp(Elogthetad + Elogbeta[:, int(id)]) for id, cnt in doc)\n",
            "/usr/local/lib/python3.6/dist-packages/gensim/models/ldamodel.py:1077: DeprecationWarning: Calling np.sum(generator) is deprecated, and in the future will give a different result. Use np.sum(np.fromiter(generator)) or the python sum builtin instead.\n",
            "  score += np.sum(cnt * logsumexp(Elogthetad + Elogbeta[:, int(id)]) for id, cnt in doc)\n",
            "/usr/local/lib/python3.6/dist-packages/gensim/models/ldamodel.py:1077: DeprecationWarning: Calling np.sum(generator) is deprecated, and in the future will give a different result. Use np.sum(np.fromiter(generator)) or the python sum builtin instead.\n",
            "  score += np.sum(cnt * logsumexp(Elogthetad + Elogbeta[:, int(id)]) for id, cnt in doc)\n",
            "/usr/local/lib/python3.6/dist-packages/gensim/models/ldamodel.py:1077: DeprecationWarning: Calling np.sum(generator) is deprecated, and in the future will give a different result. Use np.sum(np.fromiter(generator)) or the python sum builtin instead.\n",
            "  score += np.sum(cnt * logsumexp(Elogthetad + Elogbeta[:, int(id)]) for id, cnt in doc)\n",
            "/usr/local/lib/python3.6/dist-packages/gensim/models/ldamodel.py:1077: DeprecationWarning: Calling np.sum(generator) is deprecated, and in the future will give a different result. Use np.sum(np.fromiter(generator)) or the python sum builtin instead.\n",
            "  score += np.sum(cnt * logsumexp(Elogthetad + Elogbeta[:, int(id)]) for id, cnt in doc)\n"
          ],
          "name": "stderr"
        },
        {
          "output_type": "stream",
          "text": [
            "Topic 1\n",
            "(0, '0.011*\"place\" + 0.010*\"order\" + 0.010*\"would\" + 0.009*\"great\" + 0.009*\"good\"')\n",
            "Topic 2\n",
            "(1, '0.013*\"place\" + 0.011*\"food\" + 0.009*\"great\" + 0.009*\"servic\" + 0.008*\"order\"')\n",
            "Topic 3\n",
            "(2, '0.012*\"good\" + 0.011*\"place\" + 0.010*\"time\" + 0.009*\"would\" + 0.009*\"great\"')\n",
            "Topic 4\n",
            "(3, '0.010*\"food\" + 0.009*\"place\" + 0.009*\"good\" + 0.009*\"great\" + 0.008*\"order\"')\n",
            "Topic 5\n",
            "(4, '0.010*\"food\" + 0.009*\"great\" + 0.009*\"good\" + 0.008*\"order\" + 0.008*\"time\"')\n",
            "Topic 6\n",
            "(5, '0.012*\"food\" + 0.012*\"place\" + 0.010*\"time\" + 0.009*\"great\" + 0.008*\"good\"')\n",
            "Topic 7\n",
            "(6, '0.014*\"food\" + 0.012*\"good\" + 0.010*\"great\" + 0.008*\"servic\" + 0.007*\"realli\"')\n",
            "Topic 8\n",
            "(7, '0.013*\"place\" + 0.009*\"food\" + 0.009*\"time\" + 0.008*\"good\" + 0.008*\"great\"')\n",
            "Topic 9\n",
            "(8, '0.013*\"good\" + 0.009*\"like\" + 0.009*\"food\" + 0.009*\"time\" + 0.007*\"servic\"')\n"
          ],
          "name": "stdout"
        },
        {
          "output_type": "stream",
          "text": [
            "WARNING:gensim.models.ldamulticore:too few updates, training might not converge; consider increasing the number of passes or iterations to improve accuracy\n"
          ],
          "name": "stderr"
        },
        {
          "output_type": "stream",
          "text": [
            "0.331208610246861\n"
          ],
          "name": "stdout"
        },
        {
          "output_type": "stream",
          "text": [
            "/usr/local/lib/python3.6/dist-packages/gensim/models/ldamodel.py:1077: DeprecationWarning: Calling np.sum(generator) is deprecated, and in the future will give a different result. Use np.sum(np.fromiter(generator)) or the python sum builtin instead.\n",
            "  score += np.sum(cnt * logsumexp(Elogthetad + Elogbeta[:, int(id)]) for id, cnt in doc)\n",
            "/usr/local/lib/python3.6/dist-packages/gensim/models/ldamodel.py:1077: DeprecationWarning: Calling np.sum(generator) is deprecated, and in the future will give a different result. Use np.sum(np.fromiter(generator)) or the python sum builtin instead.\n",
            "  score += np.sum(cnt * logsumexp(Elogthetad + Elogbeta[:, int(id)]) for id, cnt in doc)\n",
            "/usr/local/lib/python3.6/dist-packages/gensim/models/ldamodel.py:1077: DeprecationWarning: Calling np.sum(generator) is deprecated, and in the future will give a different result. Use np.sum(np.fromiter(generator)) or the python sum builtin instead.\n",
            "  score += np.sum(cnt * logsumexp(Elogthetad + Elogbeta[:, int(id)]) for id, cnt in doc)\n",
            "/usr/local/lib/python3.6/dist-packages/gensim/models/ldamodel.py:1077: DeprecationWarning: Calling np.sum(generator) is deprecated, and in the future will give a different result. Use np.sum(np.fromiter(generator)) or the python sum builtin instead.\n",
            "  score += np.sum(cnt * logsumexp(Elogthetad + Elogbeta[:, int(id)]) for id, cnt in doc)\n",
            "/usr/local/lib/python3.6/dist-packages/gensim/models/ldamodel.py:1077: DeprecationWarning: Calling np.sum(generator) is deprecated, and in the future will give a different result. Use np.sum(np.fromiter(generator)) or the python sum builtin instead.\n",
            "  score += np.sum(cnt * logsumexp(Elogthetad + Elogbeta[:, int(id)]) for id, cnt in doc)\n",
            "/usr/local/lib/python3.6/dist-packages/gensim/models/ldamodel.py:1077: DeprecationWarning: Calling np.sum(generator) is deprecated, and in the future will give a different result. Use np.sum(np.fromiter(generator)) or the python sum builtin instead.\n",
            "  score += np.sum(cnt * logsumexp(Elogthetad + Elogbeta[:, int(id)]) for id, cnt in doc)\n",
            "/usr/local/lib/python3.6/dist-packages/gensim/models/ldamodel.py:1077: DeprecationWarning: Calling np.sum(generator) is deprecated, and in the future will give a different result. Use np.sum(np.fromiter(generator)) or the python sum builtin instead.\n",
            "  score += np.sum(cnt * logsumexp(Elogthetad + Elogbeta[:, int(id)]) for id, cnt in doc)\n"
          ],
          "name": "stderr"
        },
        {
          "output_type": "stream",
          "text": [
            "Topic 1\n",
            "(0, '0.011*\"place\" + 0.010*\"order\" + 0.010*\"would\" + 0.009*\"great\" + 0.009*\"good\"')\n",
            "Topic 2\n",
            "(1, '0.013*\"place\" + 0.011*\"food\" + 0.009*\"great\" + 0.009*\"servic\" + 0.008*\"order\"')\n",
            "Topic 3\n",
            "(2, '0.012*\"good\" + 0.011*\"place\" + 0.010*\"time\" + 0.009*\"would\" + 0.009*\"great\"')\n",
            "Topic 4\n",
            "(3, '0.010*\"food\" + 0.009*\"place\" + 0.009*\"good\" + 0.008*\"great\" + 0.008*\"order\"')\n",
            "Topic 5\n",
            "(4, '0.010*\"food\" + 0.009*\"great\" + 0.008*\"good\" + 0.008*\"order\" + 0.008*\"time\"')\n",
            "Topic 6\n",
            "(5, '0.013*\"food\" + 0.012*\"place\" + 0.010*\"time\" + 0.009*\"great\" + 0.008*\"good\"')\n",
            "Topic 7\n",
            "(6, '0.014*\"food\" + 0.012*\"good\" + 0.010*\"great\" + 0.008*\"servic\" + 0.007*\"realli\"')\n",
            "Topic 8\n",
            "(7, '0.014*\"place\" + 0.009*\"food\" + 0.008*\"time\" + 0.008*\"good\" + 0.008*\"great\"')\n",
            "Topic 9\n",
            "(8, '0.013*\"good\" + 0.009*\"like\" + 0.009*\"time\" + 0.009*\"food\" + 0.007*\"servic\"')\n"
          ],
          "name": "stdout"
        },
        {
          "output_type": "stream",
          "text": [
            "WARNING:gensim.models.ldamulticore:too few updates, training might not converge; consider increasing the number of passes or iterations to improve accuracy\n"
          ],
          "name": "stderr"
        },
        {
          "output_type": "stream",
          "text": [
            "0.331208610246861\n"
          ],
          "name": "stdout"
        },
        {
          "output_type": "stream",
          "text": [
            "/usr/local/lib/python3.6/dist-packages/gensim/models/ldamodel.py:1077: DeprecationWarning: Calling np.sum(generator) is deprecated, and in the future will give a different result. Use np.sum(np.fromiter(generator)) or the python sum builtin instead.\n",
            "  score += np.sum(cnt * logsumexp(Elogthetad + Elogbeta[:, int(id)]) for id, cnt in doc)\n",
            "/usr/local/lib/python3.6/dist-packages/gensim/models/ldamodel.py:1077: DeprecationWarning: Calling np.sum(generator) is deprecated, and in the future will give a different result. Use np.sum(np.fromiter(generator)) or the python sum builtin instead.\n",
            "  score += np.sum(cnt * logsumexp(Elogthetad + Elogbeta[:, int(id)]) for id, cnt in doc)\n",
            "/usr/local/lib/python3.6/dist-packages/gensim/models/ldamodel.py:1077: DeprecationWarning: Calling np.sum(generator) is deprecated, and in the future will give a different result. Use np.sum(np.fromiter(generator)) or the python sum builtin instead.\n",
            "  score += np.sum(cnt * logsumexp(Elogthetad + Elogbeta[:, int(id)]) for id, cnt in doc)\n",
            "/usr/local/lib/python3.6/dist-packages/gensim/models/ldamodel.py:1077: DeprecationWarning: Calling np.sum(generator) is deprecated, and in the future will give a different result. Use np.sum(np.fromiter(generator)) or the python sum builtin instead.\n",
            "  score += np.sum(cnt * logsumexp(Elogthetad + Elogbeta[:, int(id)]) for id, cnt in doc)\n",
            "/usr/local/lib/python3.6/dist-packages/gensim/models/ldamodel.py:1077: DeprecationWarning: Calling np.sum(generator) is deprecated, and in the future will give a different result. Use np.sum(np.fromiter(generator)) or the python sum builtin instead.\n",
            "  score += np.sum(cnt * logsumexp(Elogthetad + Elogbeta[:, int(id)]) for id, cnt in doc)\n",
            "/usr/local/lib/python3.6/dist-packages/gensim/models/ldamodel.py:1077: DeprecationWarning: Calling np.sum(generator) is deprecated, and in the future will give a different result. Use np.sum(np.fromiter(generator)) or the python sum builtin instead.\n",
            "  score += np.sum(cnt * logsumexp(Elogthetad + Elogbeta[:, int(id)]) for id, cnt in doc)\n",
            "/usr/local/lib/python3.6/dist-packages/gensim/models/ldamodel.py:1077: DeprecationWarning: Calling np.sum(generator) is deprecated, and in the future will give a different result. Use np.sum(np.fromiter(generator)) or the python sum builtin instead.\n",
            "  score += np.sum(cnt * logsumexp(Elogthetad + Elogbeta[:, int(id)]) for id, cnt in doc)\n"
          ],
          "name": "stderr"
        },
        {
          "output_type": "stream",
          "text": [
            "Topic 1\n",
            "(0, '0.011*\"place\" + 0.010*\"order\" + 0.010*\"would\" + 0.009*\"great\" + 0.009*\"time\"')\n",
            "Topic 2\n",
            "(1, '0.013*\"place\" + 0.011*\"food\" + 0.009*\"great\" + 0.009*\"servic\" + 0.008*\"order\"')\n",
            "Topic 3\n",
            "(2, '0.012*\"good\" + 0.011*\"place\" + 0.010*\"time\" + 0.009*\"would\" + 0.009*\"great\"')\n",
            "Topic 4\n",
            "(3, '0.010*\"food\" + 0.009*\"place\" + 0.009*\"good\" + 0.008*\"great\" + 0.008*\"order\"')\n",
            "Topic 5\n",
            "(4, '0.009*\"food\" + 0.009*\"great\" + 0.008*\"order\" + 0.008*\"good\" + 0.008*\"time\"')\n",
            "Topic 6\n",
            "(5, '0.013*\"food\" + 0.013*\"place\" + 0.010*\"time\" + 0.009*\"great\" + 0.008*\"good\"')\n",
            "Topic 7\n",
            "(6, '0.014*\"food\" + 0.012*\"good\" + 0.010*\"great\" + 0.008*\"servic\" + 0.007*\"realli\"')\n",
            "Topic 8\n",
            "(7, '0.014*\"place\" + 0.009*\"food\" + 0.008*\"time\" + 0.008*\"good\" + 0.008*\"great\"')\n",
            "Topic 9\n",
            "(8, '0.013*\"good\" + 0.009*\"like\" + 0.009*\"time\" + 0.009*\"food\" + 0.007*\"servic\"')\n"
          ],
          "name": "stdout"
        },
        {
          "output_type": "stream",
          "text": [
            "WARNING:gensim.models.ldamulticore:too few updates, training might not converge; consider increasing the number of passes or iterations to improve accuracy\n"
          ],
          "name": "stderr"
        },
        {
          "output_type": "stream",
          "text": [
            "0.33209907867551475\n"
          ],
          "name": "stdout"
        },
        {
          "output_type": "stream",
          "text": [
            "/usr/local/lib/python3.6/dist-packages/gensim/models/ldamodel.py:1077: DeprecationWarning: Calling np.sum(generator) is deprecated, and in the future will give a different result. Use np.sum(np.fromiter(generator)) or the python sum builtin instead.\n",
            "  score += np.sum(cnt * logsumexp(Elogthetad + Elogbeta[:, int(id)]) for id, cnt in doc)\n",
            "/usr/local/lib/python3.6/dist-packages/gensim/models/ldamodel.py:1077: DeprecationWarning: Calling np.sum(generator) is deprecated, and in the future will give a different result. Use np.sum(np.fromiter(generator)) or the python sum builtin instead.\n",
            "  score += np.sum(cnt * logsumexp(Elogthetad + Elogbeta[:, int(id)]) for id, cnt in doc)\n",
            "/usr/local/lib/python3.6/dist-packages/gensim/models/ldamodel.py:1077: DeprecationWarning: Calling np.sum(generator) is deprecated, and in the future will give a different result. Use np.sum(np.fromiter(generator)) or the python sum builtin instead.\n",
            "  score += np.sum(cnt * logsumexp(Elogthetad + Elogbeta[:, int(id)]) for id, cnt in doc)\n",
            "/usr/local/lib/python3.6/dist-packages/gensim/models/ldamodel.py:1077: DeprecationWarning: Calling np.sum(generator) is deprecated, and in the future will give a different result. Use np.sum(np.fromiter(generator)) or the python sum builtin instead.\n",
            "  score += np.sum(cnt * logsumexp(Elogthetad + Elogbeta[:, int(id)]) for id, cnt in doc)\n",
            "/usr/local/lib/python3.6/dist-packages/gensim/models/ldamodel.py:1077: DeprecationWarning: Calling np.sum(generator) is deprecated, and in the future will give a different result. Use np.sum(np.fromiter(generator)) or the python sum builtin instead.\n",
            "  score += np.sum(cnt * logsumexp(Elogthetad + Elogbeta[:, int(id)]) for id, cnt in doc)\n",
            "/usr/local/lib/python3.6/dist-packages/gensim/models/ldamodel.py:1077: DeprecationWarning: Calling np.sum(generator) is deprecated, and in the future will give a different result. Use np.sum(np.fromiter(generator)) or the python sum builtin instead.\n",
            "  score += np.sum(cnt * logsumexp(Elogthetad + Elogbeta[:, int(id)]) for id, cnt in doc)\n",
            "/usr/local/lib/python3.6/dist-packages/gensim/models/ldamodel.py:1077: DeprecationWarning: Calling np.sum(generator) is deprecated, and in the future will give a different result. Use np.sum(np.fromiter(generator)) or the python sum builtin instead.\n",
            "  score += np.sum(cnt * logsumexp(Elogthetad + Elogbeta[:, int(id)]) for id, cnt in doc)\n"
          ],
          "name": "stderr"
        },
        {
          "output_type": "stream",
          "text": [
            "Topic 1\n",
            "(0, '0.011*\"place\" + 0.011*\"order\" + 0.010*\"would\" + 0.009*\"great\" + 0.009*\"time\"')\n",
            "Topic 2\n",
            "(1, '0.014*\"place\" + 0.011*\"food\" + 0.009*\"great\" + 0.009*\"servic\" + 0.008*\"order\"')\n",
            "Topic 3\n",
            "(2, '0.012*\"good\" + 0.011*\"place\" + 0.010*\"time\" + 0.009*\"would\" + 0.009*\"back\"')\n",
            "Topic 4\n",
            "(3, '0.010*\"food\" + 0.009*\"place\" + 0.009*\"good\" + 0.008*\"great\" + 0.008*\"order\"')\n",
            "Topic 5\n",
            "(4, '0.009*\"food\" + 0.009*\"great\" + 0.008*\"order\" + 0.008*\"good\" + 0.008*\"time\"')\n",
            "Topic 6\n",
            "(5, '0.013*\"food\" + 0.013*\"place\" + 0.010*\"time\" + 0.009*\"great\" + 0.008*\"good\"')\n",
            "Topic 7\n",
            "(6, '0.014*\"food\" + 0.012*\"good\" + 0.010*\"great\" + 0.008*\"servic\" + 0.007*\"realli\"')\n",
            "Topic 8\n",
            "(7, '0.014*\"place\" + 0.009*\"food\" + 0.008*\"time\" + 0.008*\"good\" + 0.007*\"great\"')\n",
            "Topic 9\n",
            "(8, '0.013*\"good\" + 0.009*\"like\" + 0.009*\"time\" + 0.009*\"food\" + 0.007*\"servic\"')\n"
          ],
          "name": "stdout"
        },
        {
          "output_type": "stream",
          "text": [
            "WARNING:gensim.models.ldamulticore:too few updates, training might not converge; consider increasing the number of passes or iterations to improve accuracy\n"
          ],
          "name": "stderr"
        },
        {
          "output_type": "stream",
          "text": [
            "0.3322664798128879\n"
          ],
          "name": "stdout"
        },
        {
          "output_type": "stream",
          "text": [
            "/usr/local/lib/python3.6/dist-packages/gensim/models/ldamodel.py:1077: DeprecationWarning: Calling np.sum(generator) is deprecated, and in the future will give a different result. Use np.sum(np.fromiter(generator)) or the python sum builtin instead.\n",
            "  score += np.sum(cnt * logsumexp(Elogthetad + Elogbeta[:, int(id)]) for id, cnt in doc)\n",
            "/usr/local/lib/python3.6/dist-packages/gensim/models/ldamodel.py:1077: DeprecationWarning: Calling np.sum(generator) is deprecated, and in the future will give a different result. Use np.sum(np.fromiter(generator)) or the python sum builtin instead.\n",
            "  score += np.sum(cnt * logsumexp(Elogthetad + Elogbeta[:, int(id)]) for id, cnt in doc)\n",
            "/usr/local/lib/python3.6/dist-packages/gensim/models/ldamodel.py:1077: DeprecationWarning: Calling np.sum(generator) is deprecated, and in the future will give a different result. Use np.sum(np.fromiter(generator)) or the python sum builtin instead.\n",
            "  score += np.sum(cnt * logsumexp(Elogthetad + Elogbeta[:, int(id)]) for id, cnt in doc)\n",
            "/usr/local/lib/python3.6/dist-packages/gensim/models/ldamodel.py:1077: DeprecationWarning: Calling np.sum(generator) is deprecated, and in the future will give a different result. Use np.sum(np.fromiter(generator)) or the python sum builtin instead.\n",
            "  score += np.sum(cnt * logsumexp(Elogthetad + Elogbeta[:, int(id)]) for id, cnt in doc)\n",
            "/usr/local/lib/python3.6/dist-packages/gensim/models/ldamodel.py:1077: DeprecationWarning: Calling np.sum(generator) is deprecated, and in the future will give a different result. Use np.sum(np.fromiter(generator)) or the python sum builtin instead.\n",
            "  score += np.sum(cnt * logsumexp(Elogthetad + Elogbeta[:, int(id)]) for id, cnt in doc)\n",
            "/usr/local/lib/python3.6/dist-packages/gensim/models/ldamodel.py:1077: DeprecationWarning: Calling np.sum(generator) is deprecated, and in the future will give a different result. Use np.sum(np.fromiter(generator)) or the python sum builtin instead.\n",
            "  score += np.sum(cnt * logsumexp(Elogthetad + Elogbeta[:, int(id)]) for id, cnt in doc)\n",
            "/usr/local/lib/python3.6/dist-packages/gensim/models/ldamodel.py:1077: DeprecationWarning: Calling np.sum(generator) is deprecated, and in the future will give a different result. Use np.sum(np.fromiter(generator)) or the python sum builtin instead.\n",
            "  score += np.sum(cnt * logsumexp(Elogthetad + Elogbeta[:, int(id)]) for id, cnt in doc)\n"
          ],
          "name": "stderr"
        },
        {
          "output_type": "stream",
          "text": [
            "Topic 1\n",
            "(0, '0.011*\"order\" + 0.011*\"place\" + 0.010*\"would\" + 0.009*\"great\" + 0.009*\"time\"')\n",
            "Topic 2\n",
            "(1, '0.014*\"place\" + 0.011*\"food\" + 0.009*\"great\" + 0.009*\"servic\" + 0.008*\"order\"')\n",
            "Topic 3\n",
            "(2, '0.012*\"good\" + 0.011*\"place\" + 0.010*\"time\" + 0.009*\"would\" + 0.009*\"back\"')\n",
            "Topic 4\n",
            "(3, '0.010*\"food\" + 0.009*\"place\" + 0.008*\"good\" + 0.008*\"great\" + 0.008*\"order\"')\n",
            "Topic 5\n",
            "(4, '0.009*\"food\" + 0.009*\"great\" + 0.009*\"order\" + 0.008*\"good\" + 0.008*\"time\"')\n",
            "Topic 6\n",
            "(5, '0.013*\"food\" + 0.013*\"place\" + 0.010*\"time\" + 0.009*\"great\" + 0.008*\"good\"')\n",
            "Topic 7\n",
            "(6, '0.014*\"food\" + 0.012*\"good\" + 0.010*\"great\" + 0.008*\"servic\" + 0.008*\"realli\"')\n",
            "Topic 8\n",
            "(7, '0.014*\"place\" + 0.009*\"food\" + 0.008*\"time\" + 0.008*\"good\" + 0.007*\"great\"')\n",
            "Topic 9\n",
            "(8, '0.013*\"good\" + 0.009*\"like\" + 0.009*\"time\" + 0.009*\"food\" + 0.007*\"servic\"')\n",
            "0.3319209557981402\n"
          ],
          "name": "stdout"
        }
      ]
    },
    {
      "cell_type": "code",
      "metadata": {
        "colab": {
          "base_uri": "https://localhost:8080/",
          "height": 265
        },
        "id": "4KXjHIi9FfOn",
        "outputId": "e373a090-169b-4504-81b2-d8618267055c"
      },
      "source": [
        "import matplotlib.pyplot as plt\n",
        "x = [*(range(6, 12))]\n",
        "y = coh\n",
        "plt.plot(x, y)\n",
        "plt.show()"
      ],
      "execution_count": 22,
      "outputs": [
        {
          "output_type": "display_data",
          "data": {
            "image/png": "[encoded data removed]",
            "text/plain": [
              "<Figure size 432x288 with 1 Axes>"
            ]
          },
          "metadata": {
            "tags": [],
            "needs_background": "light"
          }
        }
      ]
    }
  ]
}