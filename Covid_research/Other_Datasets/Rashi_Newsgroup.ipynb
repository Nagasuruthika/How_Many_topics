{
  "nbformat": 4,
  "nbformat_minor": 0,
  "metadata": {
    "colab": {
      "name": "Rashi_Newsgroup.ipynb",
      "provenance": [],
      "collapsed_sections": []
    },
    "kernelspec": {
      "display_name": "Python 3",
      "name": "python3"
    }
  },
  "cells": [
    {
      "cell_type": "code",
      "metadata": {
        "id": "FTrlT2PUTmOV"
      },
      "source": [
        "from google.colab import files\n",
        "uploaded = files.upload()"
      ],
      "execution_count": null,
      "outputs": []
    },
    {
      "cell_type": "code",
      "metadata": {
        "id": "IKyaDyC8T7of"
      },
      "source": [
        "import numpy as np\n",
        "import pandas as pd\n",
        "import csv\n",
        "from csv import reader"
      ],
      "execution_count": null,
      "outputs": []
    },
    {
      "cell_type": "markdown",
      "metadata": {
        "id": "a96OrNJSXzOr"
      },
      "source": [
        "Loading the pre processed Abstract Dataset"
      ]
    },
    {
      "cell_type": "code",
      "metadata": {
        "id": "GLmBSQ0lUGFH",
        "outputId": "f01aef91-2454-4d92-b782-2d62fcd3a9d5",
        "colab": {
          "base_uri": "https://localhost:8080/",
          "height": 229
        }
      },
      "source": [
        "data = pd.read_csv(\"20-newsgroups-dataset.csv\")\n",
        "data.head()"
      ],
      "execution_count": null,
      "outputs": [
        {
          "output_type": "execute_result",
          "data": {
            "text/html": [
              "<div>\n",
              "<style scoped>\n",
              "    .dataframe tbody tr th:only-of-type {\n",
              "        vertical-align: middle;\n",
              "    }\n",
              "\n",
              "    .dataframe tbody tr th {\n",
              "        vertical-align: top;\n",
              "    }\n",
              "\n",
              "    .dataframe thead th {\n",
              "        text-align: right;\n",
              "    }\n",
              "</style>\n",
              "<table border=\"1\" class=\"dataframe\">\n",
              "  <thead>\n",
              "    <tr style=\"text-align: right;\">\n",
              "      <th></th>\n",
              "      <th>From: koberg@spot.Colorado.EDU (Allen Koberg) Subject: Packet Radio on the PC Nntp-Posting-Host: spot.colorado.edu Organization: University of Colorado, Boulder Lines: 6 I'm looking for any and all information regarding packet radio implementation on the PC. Software, hardware, whatever. Please e-mail any info to koberg@spot.colorado.edu. Thanks</th>\n",
              "      <th>sci_electronics</th>\n",
              "    </tr>\n",
              "  </thead>\n",
              "  <tbody>\n",
              "    <tr>\n",
              "      <th>0</th>\n",
              "      <td>From: ricardo@rchland.vnet.ibm.com (Ricardo He...</td>\n",
              "      <td>comp_graphics</td>\n",
              "    </tr>\n",
              "    <tr>\n",
              "      <th>1</th>\n",
              "      <td>From: tedebear@leland.Stanford.EDU (Theodore C...</td>\n",
              "      <td>rec_autos</td>\n",
              "    </tr>\n",
              "    <tr>\n",
              "      <th>2</th>\n",
              "      <td>From: jhpb@sarto.budd-lake.nj.us (Joseph H. Bu...</td>\n",
              "      <td>soc_religion_christian</td>\n",
              "    </tr>\n",
              "    <tr>\n",
              "      <th>3</th>\n",
              "      <td>From: hambidge@bms.com Subject: Re: I believe ...</td>\n",
              "      <td>talk_politics_guns</td>\n",
              "    </tr>\n",
              "    <tr>\n",
              "      <th>4</th>\n",
              "      <td>From: donb@netcom.com (Don Baldwin) Subject: R...</td>\n",
              "      <td>talk_politics_guns</td>\n",
              "    </tr>\n",
              "  </tbody>\n",
              "</table>\n",
              "</div>"
            ],
            "text/plain": [
              "  From: koberg@spot.Colorado.EDU (Allen Koberg) Subject: Packet Radio on the PC Nntp-Posting-Host: spot.colorado.edu Organization: University of Colorado, Boulder Lines: 6 I'm looking for any and all information regarding packet radio implementation on the PC. Software, hardware, whatever. Please e-mail any info to koberg@spot.colorado.edu. Thanks         sci_electronics\n",
              "0  From: ricardo@rchland.vnet.ibm.com (Ricardo He...                                                                                                                                                                                                                                                                                                                    comp_graphics\n",
              "1  From: tedebear@leland.Stanford.EDU (Theodore C...                                                                                                                                                                                                                                                                                                                        rec_autos\n",
              "2  From: jhpb@sarto.budd-lake.nj.us (Joseph H. Bu...                                                                                                                                                                                                                                                                                                           soc_religion_christian\n",
              "3  From: hambidge@bms.com Subject: Re: I believe ...                                                                                                                                                                                                                                                                                                               talk_politics_guns\n",
              "4  From: donb@netcom.com (Don Baldwin) Subject: R...                                                                                                                                                                                                                                                                                                               talk_politics_guns"
            ]
          },
          "metadata": {
            "tags": []
          },
          "execution_count": 4
        }
      ]
    },
    {
      "cell_type": "code",
      "metadata": {
        "id": "UZR7-iurUP97",
        "outputId": "2d2deab3-44c9-460f-a9a2-1848451c6289",
        "colab": {
          "base_uri": "https://localhost:8080/"
        }
      },
      "source": [
        "len(data.axes[0])"
      ],
      "execution_count": null,
      "outputs": [
        {
          "output_type": "execute_result",
          "data": {
            "text/plain": [
              "18845"
            ]
          },
          "metadata": {
            "tags": []
          },
          "execution_count": 5
        }
      ]
    },
    {
      "cell_type": "code",
      "metadata": {
        "id": "S53ChdgmUWJw",
        "outputId": "bff3833a-c492-46c4-aea4-344fc9a92431",
        "colab": {
          "base_uri": "https://localhost:8080/"
        }
      },
      "source": [
        "abstract = []\n",
        "with open (\"20-newsgroups-dataset.csv\",'r') as read_obj:\n",
        "  csv_reader=reader(read_obj)\n",
        "  for row in csv_reader:\n",
        "    abstract.append(row)\n",
        "print(len(abstract))"
      ],
      "execution_count": null,
      "outputs": [
        {
          "output_type": "stream",
          "text": [
            "18847\n"
          ],
          "name": "stdout"
        }
      ]
    },
    {
      "cell_type": "code",
      "metadata": {
        "id": "eRqCjT0pUmrK",
        "outputId": "27efed31-a8f4-486f-de68-87db0fab7155",
        "colab": {
          "base_uri": "https://localhost:8080/"
        }
      },
      "source": [
        "print(abstract[:10])"
      ],
      "execution_count": null,
      "outputs": [
        {
          "output_type": "stream",
          "text": [
            "[[\"From: koberg@spot.Colorado.EDU (Allen Koberg) Subject: Packet Radio on the PC Nntp-Posting-Host: spot.colorado.edu Organization: University of Colorado, Boulder Lines: 6 I'm looking for any and all information regarding packet radio implementation on the PC. Software, hardware, whatever. Please e-mail any info to koberg@spot.colorado.edu. Thanks\", 'sci_electronics'], [\"From: ricardo@rchland.vnet.ibm.com (Ricardo Hernandez Muchado) Subject: Re: Newsgroup Split Disclaimer: This posting represents the poster's views, not necessarily those of IBM Nntp-Posting-Host: rs43873.rchland.ibm.com Organization: IBM Rochester Lines: 21 In article <1quvdoINN3e7@srvr1.engin.umich.edu>, tdawson@engin.umich.edu (Chris Herringshaw) writes: |> Concerning the proposed newsgroup split, I personally am not in favor of |> doing this. I learn an awful lot about all aspects of graphics by reading |> this group, from code to hardware to algorithms. I just think making 5 |> different groups out of this is a wate, and will only result in a few posts |> a week per group. I kind of like the convenience of having one big forum |> for discussing all aspects of graphics. Anyone else feel this way? |> Just curious. |> |> |> Daemon |> I agree with you. -------------------------------------- Raist New A1200 owner 320<->1280 in x, 200<->600 in y in 256,000+ colors from a 24-bit palette. **I LOVE IT!**<- New Low Fat .sig *don't e-mail me* -> I don't have a valid address nor can I send e-mail\", 'comp_graphics'], [\"From: tedebear@leland.Stanford.EDU (Theodore Chen) Subject: Re: 1993 Infiniti G20 Organization: DSG, Stanford University, CA 94305, USA Lines: 14 >In article <78834@cup.portal.com> carl_f_hoffman@cup.portal.com writes: >>2) There is a special deal where I can get an Infinity G20, fully >> loaded, at dealer cost (I have check this out and the numbers match >> up). They are doing this because they are releasing and update mid-1993 >> version (includes dual air-bags) and want to get rid of their old 1993's. is this really the dealer's cost? did you get the dealer's cost by looking at the invoice? there may be factory to dealer incentives. i'd check this out, since i have trouble believing that a dealer would sell a car to me at his cost. dealer invoice is not necessarily the dealer cost. -teddy\", 'rec_autos'], ['From: jhpb@sarto.budd-lake.nj.us (Joseph H. Buehler) Subject: Re: SSPX schism ? Organization: none Lines: 52 Bob Van Cleef writes: If the Papacy is infallible, and this is a matter of faith, then the Pope cannot \"be wrong!\" If, on the other hand, this is not a matter of faith, but a matter of Church law, then we should still obey as the Pope is the legal head of the church. In other words, given the doctrine of infallibility, we have no choice but to obey. This is a primary problem in the Church today. What you are saying is more or less heresy. You might call it \"infallibilism\". It\\'s the idea that the Pope is always right in everything he says or does. This is virtually all over the place, especially in this country. The Pope is only infallible under certain very specific and well-defined conditions. When these conditions are not met, he can make mistakes. He can make *big* mistakes. A couple historical examples come to mind. Bishop Robert Grosseteste was perhaps the greatest product of the English Catholic Church. At one point during his career, the reigning Pope decided to install one of his nephews in an English see. Bishop Grosseteste said that this would happen over his dead body (though maybe not in so many words; you have to treat Popes with respect, even when they are wrong). The problem was that this nephew would just collect the income of the see, and probably never set foot there. This would deprive the people of the see of a shepherd. Bishop Grosseteste was quite right in what he did! Another example is that of Pope John XXII, a Pope of the Middle Ages. He decided that souls that were saved did not enjoy the Beatific Vision until the Last Judgement. He decided that this should be a defined doctrine of the Church. Though he didn\\'t quite get around to defining it. Now there\\'s no way this is compatible with Catholic doctrine. The Pope\\'s doctrine was criticised by many in the Church. He went so far as to put a number of his opponents in jail, even. In the end, he had to admit his mistake. Shortly before he died, he recanted. His successor made the exact *opposite* idea a dogma of the Church. If you consult any of the great Catholic theologians who treat of such subjects, such as St. Robert Bellarmine (a Doctor of the Church), you will find detailed discussions of whether the Pope can personally fall into heresy or schism. The teaching of all such theologians is that the commands of a Pope must be resisted if they are to the detriment of the Catholic Faith. A Pope\\'s authority is given for the purpose of building up the Catholic Church. Commands in conflict with this purpose have no legal *or* moral force.', 'soc_religion_christian'], ['From: hambidge@bms.com Subject: Re: I believe in gun control. Reply-To: hambidge@bms.com Organization: Bristol-Myers Squibb Lines: 17 In article <C4vG3F.Kx3@apollo.hp.com>, nelson_p@apollo.hp.com (Peter Nelson) writes: > cj195@cleveland.Freenet.Edu (John W. Redelfs) writes: >>I believe in gun control. How about you? > > I believe in gun control, too . . . assuming by \"gun control\" > you mean always being able to hit your target. > > >---peter > Or, how about the Clint Eastwood line in \"Pink Cadillac\" - \"I believe in gun control. If there\\'s a gun around, I wanna be the one controlling it.\" Al [standard disclaimer]', 'talk_politics_guns'], [\"From: donb@netcom.com (Don Baldwin) Subject: Re: 2ND AMENDMENT DEAD - GOOD ! Organization: Netcom Online Communications Services (408-241-9760 login: guest) Lines: 29 In article <1993Apr18.001319.2340@gnv.ifas.ufl.edu> jrm@gnv.ifas.ufl.edu writes: >The bulk of firarems are used against unworthy and unnesessary >opponents ... those who posessa a cool jakcet you want, those who >would argue with you about a parking space, those who would >take your woman. In short, trivial and worthless causes. That's open for debate. Certainly, an excessive number of people are murdered every year but people also do save innocent lives with firearms. The media just don't tell us when it happens... >Too much of this has ruined you cause. There is no recovery. >In the near future, federal martials will come for your arms. I think there are more of us than there are federal marshalls... >No one will help you. You are more dangerous, to their thinking, >than the 'criminal'. This is your own fault. Crap. It's simplistic thinking on the part of feather-headed dolts. >The 2nd amendment is dead. Accept this. Find another way. Nuts. don\", 'talk_politics_guns'], ['From: mathew <mathew@mantis.co.uk> Subject: Moral relativism -- what if we all agree? (was Re: After 2000 etc) Organization: Mantis Consultants, Cambridge. UK. X-Newsreader: rusnews v1.02 Lines: 111 frank@D012S658.uucp (Frank O\\'Dwyer) writes: > In article <930422.113807.7Q9.rusnews.w165w@mantis.co.uk> mathew > <mathew@mantis.co.uk> writes: > #Got it in one. Similarly, a moral relativist will not judge one moral syste > #to be better than another in every possible circumstance. This does not, > #however, preclude him from judging one moral system to be better than anothe > #in a specific set of circumstances. Nor does it preclude a set of moral > #relativists from collectively judging a moral system, from some set of > #circumstances which they all agree they are in. > > O.K., this makes sense to me. (I\\'m serious, you\\'ve explained something > to me which I never understood before). But just for grins, suppose we > almost all agree that we are in a set of circumstances called \"reality\". > What then? Then we all live happily ever after. :-) Seriously, if we all agreed on the circumstances we\\'re in, I suspect we\\'d all agree on the best course of action. Unfortunately, I have no confidence that such a situation will ever arise. Some of us think there\\'s a big God in the sky, some don\\'t. Some think they\\'ve been chosen by God, others disagree. Some think they are infallible, others think otherwise. Until those disagreements over circumstances can be ironed out, there\\'s little hope of everyone agreeing. > Or say, for all practical intents and purposes, there is no frame > of reference in which thus and such is good, isn\\'t that approximately > objective, in the same way that we usually expect a speeding bullet to > outrun a snail? Yes. I think that, for example, only a vanishingly small number of people would hold that there\\'s a frame of reference in which gassing six million Jews is good. So that\\'s probably about as close to an objective moral value as I\\'ve encountered in my life so far. > For example, if we hear of a bomb in a crowded area, > isn\\'t it a rather sensible first guess that this is an immoral act, even > though there conceivably might be some tail-end case that would justify it? Well, I think your example\\'s poor. If the bomb\\'s in Iraq, for example, and was dropped by an American plane, many people would hold that it was a moral act. > #> #> And what weasel word do you use to describe that frame of reference, if > #> #> it isn\\'t an objective reality for values? > #> # > #> #I\\'m sorry, I can\\'t parse \"an objective reality for values\". Could you tr > y > #> #again? > #> > #> s/an objective reality for values/some values are real even in the face > #> of disagreement/ > # > #I still don\\'t quite see what you\\'re trying to say. I assume by \"values\" you > #mean moral values, yes? In which case, what do you mean by \"real\"? What is > #a \"real\" moral value, as opposed to an unreal one? > > I mean to say that values are as real as horses, whatever you understand > by a horse being real is pretty much what I mean about a value being real. Hmm. So these moral values have a perceptible physical presence? > #> If you are saying that some moral systems are better than others, in > #> your opinion, then all you get is infinite regress. > # > #Sorry, but in what way is it an infinite regress? It looks extremely finite > #to me. > > I meant that it\\'s never more than your opinion. Right, and the chain ends right there. The buck stops with me. It\\'s not an infinite regress. > You\\'ve clarified this > for me above. My understanding is now that if a supermajority of relativists > agree that thus and such is wrong in almost any or all frames of reference, > then they\\'re saying something which is to all practical intents and purposes > no different than what I\\'m saying. Right. The key point, however, is that there are vanishingly few of these moral issues where we can get 99.9% of people to agree on the outcome for all frames of reference (and agree on the frames of reference...) > #> What you do not get > #> is any justification for saying that the moral system of the terrorist > #> is inferior to that of the man of peace. > # > #Sorry, but that\\'s not so. I can provide a justification for asserting that > #the moral system of the terrorist is inferior to that of the man of peace. > #I just can\\'t provide a justification which works in all possible > #circumstances. > > Logically possible, or actually possible? I can\\'t manage either. Killing Hitler using a car bomb would have been a terrorist act, but I have to admit that I couldn\\'t exactly condemn it. Although there are tricky philosophical issues to do with hindsight... > By which I mean, are you > stretching possible to include events such as the atoms in my terminal > switching places so that the terminal turns upside down, or do you > think it likely that circumstances will arise in which terrorism is > superior to peace. I think that circumstances have already arisen where terrorism would have been better than peace. Better in terms of numbers of innocent people killed. Assuming it was successful terrorism, of course. mathew', 'talk_religion_misc'], ['From: grzheng@vax2.concordia.ca (ZHENG, GUO RONG) Subject: How can I change the Font and Size for the system? News-Software: VAX/VMS VNEWS 1.41 Nntp-Posting-Host: vax2.concordia.ca Organization: Concordia University Lines: 10 Hi: On the 1024x768x256 mode, the font sizes of Window Menu, Help Window are very small. Can I change the font and font size for these windows? My computer is 80486 DX-33, the Video Card is ATI D24. Could some experts please email the answer to GRZHENG@vax2.Concondia.ca. Thanks in advance. Guo Rong ZHEHG CONCORDIA Univ. Montreal, CANADA', 'comp_os_ms-windows_misc'], ['From: wynblatt@sbgrad5.cs.sunysb.edu (Michael Wynblatt) Subject: Good Hands (Was Re: Apology for Article) Organization: State University of New York at Stony Brook Lines: 28 NNTP-Posting-Host: sbgrad5.cs.sunysb.edu Keywords: Mattingly, Fielding, Good-Hands In article <C5w7zo.5xL@eskimo.com> stevet@eskimo.com (Steven Thornton) writes: [stuff deleted] >Mattingly scores badly on both counts. He doesn\\'t get to very many >balls, and he lets a lot of balls go through. The fact that he \"looks >smooth\", \"has great hands\", and makes few errors means NOTHING. This is >traditional brainless reliance on observations that can easily be >misled. Like a lot of bad fielders, Mattingly actually makes himself >look better by not having any range. He\\'s nowhere near as bad as Steve >Garvey, but that\\'s not much of a compliment. I agree with the flavor of this post, but disagree with one specific argument. That \"has great hands\" means nothing. It seems to me that a first-baseman\\'s defensive value is not entirely (or even primarily) from his ability to field grounders or catch popups. How many such chances does he get during a game? Many fewer than he gets chances to catch throws from 2B,SS,3B and P (I mean the total of these is much higher than Grounder/Popup totals). This implies to me that there is value in catching these throws well, even if they are high, up-the-line or in the dirt. \"Good Hands\" are needed for such plays, and thus have value. I don\\'t have any numbers for the relative number of occurences of these plays, but I\\'d guess that the values of these abilities are similar. It\\'s just like: you don\\'t judge catcher\\'s defense primarily on how they field bunts and popups. (But not as marked I suppose). Michael', 'rec_sport_baseball'], [\"From: javed@convex.com (Javed Akhtar) Subject: Re: The Stage is Being Set Nntp-Posting-Host: neptune.convex.com Organization: Engineering, CONVEX Computer Corp., Richardson, Tx., USA X-Disclaimer: This message was written by a user at CONVEX Computer Corp. The opinions expressed are those of the user and not necessarily those of CONVEX. Lines: 65 In <C6r5Gn.3zH@taurus.cs.nps.navy.mil> mukut@alioth.cc.nps.navy.mil (Devadatta Mukutmoni) writes: >In article <C6qprs.6Hw@world.std.com> tti@world.std.com (Joachim Martillo) writes: >>heap). Similarly, Malaysia was founded on the original sins of >>support for the axis and anti-Chinese racism on the part of >>intellectuals opposed to the heritage of Enlightenment. >> >This is really a strange target for Martillo. Malaysia has fully >vindicated itself since it shed its colonial yoke. It is a legitimate >economic success story. Its success may not be as dramatic as Japan >and Singapore; nevertheless it has fully vindicated itself. So, >advocating Anglo-colonialism is ludicrous for Malaysia. Next, I >suppose you will be advocating recolonization of China which is >probably experiencing one the greatest sustained economic booms in >the history of Mankind. > >>>Do you think present day England is in a position to set the stage for any >>>more colonization. They will be lucky if they can keep intact what they >>>have. >> >>With US assistance and proper agreements, redeployment of the British >>and French colonial empires would not be hard. Primitive 3rd world >>elites who resist and who incite resistance among their deluded, >>brainwashed and essentially enslaved populations would get the Iraq >>treatment. >> >Dream on. They are having problems even with deploying ground troops >in Bosnia. Public opinion dictates that loss of lives (even in >miniscule quantities), cannot be tolerated in the rich countries. >This is really wierd. If you come to think of it, the armed forces are >paid to basically to accept the risk of dying. If that danger is removed, >it then has to be viewed as welfare on a grand scale. But, that is exactly >what the public is saying. >The Iraqi operation lead to an extraordinary low level of casualties. >This is an anomaly. A combination of Iraqi incompetence and desert terrain. >Any future operation would lead to more casualties. For example the >bombing in Beirut lead to more GI deaths than the whole of Desert Storm. > >>Do you really think that scum like Nehru ever asked themselves whether >>the vast majority of Indians would be better off under British or >>local rule? Nehru was driven by a crude desire for power. >>Nationalism was just the vehicle whereby Indian nationalists persuaded >>a lot of poor deluded fools to die in order to give a small elite the >>power to exploit other Indians. >> >You obviously have some information that the rest of us are not >aware of. Otherwise, it is impossible to draw such outrageous conclusions. >Devadatta Santos Francois Peter Mustafa HuangHua Mukutmoni ********************************************************************* That's cool; I wish everyone had the smae kind of names; the world would certainly be a better place!! Javed ( the one with the name-fetish)\", 'talk_politics_mideast']]\n"
          ],
          "name": "stdout"
        }
      ]
    },
    {
      "cell_type": "code",
      "metadata": {
        "id": "AsRsjw_bUpvo"
      },
      "source": [
        "abstract=abstract[1:]"
      ],
      "execution_count": null,
      "outputs": []
    },
    {
      "cell_type": "code",
      "metadata": {
        "id": "B_s4GatUUt_a",
        "outputId": "c170ff9b-6064-43cc-f16c-364c0e669c1b",
        "colab": {
          "base_uri": "https://localhost:8080/"
        }
      },
      "source": [
        "import nltk\n",
        "nltk.download(\"punkt\")\n",
        "nltk.download(\"popular\")\n",
        "from nltk.tokenize import RegexpTokenizer"
      ],
      "execution_count": null,
      "outputs": [
        {
          "output_type": "stream",
          "text": [
            "[nltk_data] Downloading package punkt to /root/nltk_data...\n",
            "[nltk_data]   Unzipping tokenizers/punkt.zip.\n",
            "[nltk_data] Downloading collection 'popular'\n",
            "[nltk_data]    | \n",
            "[nltk_data]    | Downloading package cmudict to /root/nltk_data...\n",
            "[nltk_data]    |   Unzipping corpora/cmudict.zip.\n",
            "[nltk_data]    | Downloading package gazetteers to /root/nltk_data...\n",
            "[nltk_data]    |   Unzipping corpora/gazetteers.zip.\n",
            "[nltk_data]    | Downloading package genesis to /root/nltk_data...\n",
            "[nltk_data]    |   Unzipping corpora/genesis.zip.\n",
            "[nltk_data]    | Downloading package gutenberg to /root/nltk_data...\n",
            "[nltk_data]    |   Unzipping corpora/gutenberg.zip.\n",
            "[nltk_data]    | Downloading package inaugural to /root/nltk_data...\n",
            "[nltk_data]    |   Unzipping corpora/inaugural.zip.\n",
            "[nltk_data]    | Downloading package movie_reviews to\n",
            "[nltk_data]    |     /root/nltk_data...\n",
            "[nltk_data]    |   Unzipping corpora/movie_reviews.zip.\n",
            "[nltk_data]    | Downloading package names to /root/nltk_data...\n",
            "[nltk_data]    |   Unzipping corpora/names.zip.\n",
            "[nltk_data]    | Downloading package shakespeare to /root/nltk_data...\n",
            "[nltk_data]    |   Unzipping corpora/shakespeare.zip.\n",
            "[nltk_data]    | Downloading package stopwords to /root/nltk_data...\n",
            "[nltk_data]    |   Unzipping corpora/stopwords.zip.\n",
            "[nltk_data]    | Downloading package treebank to /root/nltk_data...\n",
            "[nltk_data]    |   Unzipping corpora/treebank.zip.\n",
            "[nltk_data]    | Downloading package twitter_samples to\n",
            "[nltk_data]    |     /root/nltk_data...\n",
            "[nltk_data]    |   Unzipping corpora/twitter_samples.zip.\n",
            "[nltk_data]    | Downloading package omw to /root/nltk_data...\n",
            "[nltk_data]    |   Unzipping corpora/omw.zip.\n",
            "[nltk_data]    | Downloading package wordnet to /root/nltk_data...\n",
            "[nltk_data]    |   Unzipping corpora/wordnet.zip.\n",
            "[nltk_data]    | Downloading package wordnet_ic to /root/nltk_data...\n",
            "[nltk_data]    |   Unzipping corpora/wordnet_ic.zip.\n",
            "[nltk_data]    | Downloading package words to /root/nltk_data...\n",
            "[nltk_data]    |   Unzipping corpora/words.zip.\n",
            "[nltk_data]    | Downloading package maxent_ne_chunker to\n",
            "[nltk_data]    |     /root/nltk_data...\n",
            "[nltk_data]    |   Unzipping chunkers/maxent_ne_chunker.zip.\n",
            "[nltk_data]    | Downloading package punkt to /root/nltk_data...\n",
            "[nltk_data]    |   Package punkt is already up-to-date!\n",
            "[nltk_data]    | Downloading package snowball_data to\n",
            "[nltk_data]    |     /root/nltk_data...\n",
            "[nltk_data]    | Downloading package averaged_perceptron_tagger to\n",
            "[nltk_data]    |     /root/nltk_data...\n",
            "[nltk_data]    |   Unzipping taggers/averaged_perceptron_tagger.zip.\n",
            "[nltk_data]    | \n",
            "[nltk_data]  Done downloading collection popular\n"
          ],
          "name": "stdout"
        }
      ]
    },
    {
      "cell_type": "code",
      "metadata": {
        "id": "QhhwQmJ6wgDK",
        "outputId": "af21a548-2ca4-40f5-90d3-c0c48a0e9673",
        "colab": {
          "base_uri": "https://localhost:8080/"
        }
      },
      "source": [
        "print(abstract[0])"
      ],
      "execution_count": null,
      "outputs": [
        {
          "output_type": "stream",
          "text": [
            "[\"From: ricardo@rchland.vnet.ibm.com (Ricardo Hernandez Muchado) Subject: Re: Newsgroup Split Disclaimer: This posting represents the poster's views, not necessarily those of IBM Nntp-Posting-Host: rs43873.rchland.ibm.com Organization: IBM Rochester Lines: 21 In article <1quvdoINN3e7@srvr1.engin.umich.edu>, tdawson@engin.umich.edu (Chris Herringshaw) writes: |> Concerning the proposed newsgroup split, I personally am not in favor of |> doing this. I learn an awful lot about all aspects of graphics by reading |> this group, from code to hardware to algorithms. I just think making 5 |> different groups out of this is a wate, and will only result in a few posts |> a week per group. I kind of like the convenience of having one big forum |> for discussing all aspects of graphics. Anyone else feel this way? |> Just curious. |> |> |> Daemon |> I agree with you. -------------------------------------- Raist New A1200 owner 320<->1280 in x, 200<->600 in y in 256,000+ colors from a 24-bit palette. **I LOVE IT!**<- New Low Fat .sig *don't e-mail me* -> I don't have a valid address nor can I send e-mail\", 'comp_graphics']\n"
          ],
          "name": "stdout"
        }
      ]
    },
    {
      "cell_type": "code",
      "metadata": {
        "id": "dTlUUhwIVdUw"
      },
      "source": [
        "abs_final=[]\n",
        "for i in abstract:\n",
        "  abs_final.append(i)\n",
        "\n",
        "#Tokenization (final step in our cleaning of data) is performed using Regular Expression Tokeinzer from nltk package. \n",
        "tokenizer = RegexpTokenizer(r'\\w+') #matches all word characters until a non word character like \" \" is found.\n",
        "text=[]\n",
        "for i in range(len(abs_final)):\n",
        "  #tokenize the document string\n",
        "  tokens=tokenizer.tokenize(str(abstract[i]))\n",
        "  text.append(tokens)"
      ],
      "execution_count": null,
      "outputs": []
    },
    {
      "cell_type": "code",
      "metadata": {
        "id": "LyVPQwDrVgRx"
      },
      "source": [
        "#creating bag of words parameter\n",
        "import gensim\n",
        "from gensim import corpora,models\n",
        "\n",
        "#Dictionary() function creates a term dictionary of our corpus, where every unique term is assigned an index and word count is also maintained.\n",
        "dictionary = corpora.Dictionary(text)\n",
        "\n",
        "# print(dictionary.token2id) can be used to see each unique id assigned to each unique word.\n",
        "\n",
        "#Converts list of documents (corpus) into bag of words using dictionary prepared above. Output is a list of list of tuples with first tern the unique id and the second term the frequency.\n",
        "doc_term_matrix = [dictionary.doc2bow(abst, allow_update=True) for abst in text]"
      ],
      "execution_count": null,
      "outputs": []
    },
    {
      "cell_type": "markdown",
      "metadata": {
        "id": "Oiw_f7MCXMwj"
      },
      "source": [
        "**Number of Topics=4**"
      ]
    },
    {
      "cell_type": "code",
      "metadata": {
        "id": "oW2VKrUDV1Up",
        "outputId": "7c48c9b8-2b6f-4c72-faa8-7f867c28f4fa",
        "colab": {
          "base_uri": "https://localhost:8080/"
        }
      },
      "source": [
        "lda_model = gensim.models.LdaMulticore(doc_term_matrix, num_topics=4, id2word=dictionary, passes=2, workers=2)\n",
        "for idx, topic in lda_model.print_topics(-1):\n",
        "  print('Topic: {} \\nWords: {}'.format(idx, topic))\n"
      ],
      "execution_count": null,
      "outputs": [
        {
          "output_type": "stream",
          "text": [
            "Topic: 0 \n",
            "Words: 0.143*\"AX\" + 0.021*\"M\" + 0.012*\"Q\" + 0.011*\"R\" + 0.011*\"3\" + 0.010*\"MAX\" + 0.010*\"G\" + 0.009*\"P\" + 0.008*\"W\" + 0.008*\"I\"\n",
            "Topic: 1 \n",
            "Words: 0.020*\"the\" + 0.016*\"I\" + 0.014*\"to\" + 0.013*\"a\" + 0.011*\"and\" + 0.010*\"of\" + 0.009*\"1\" + 0.009*\"for\" + 0.007*\"is\" + 0.007*\"0\"\n",
            "Topic: 2 \n",
            "Words: 0.039*\"the\" + 0.030*\"of\" + 0.019*\"and\" + 0.015*\"to\" + 0.015*\"in\" + 0.013*\"a\" + 0.011*\"is\" + 0.008*\"that\" + 0.007*\"for\" + 0.006*\"I\"\n",
            "Topic: 3 \n",
            "Words: 0.044*\"the\" + 0.026*\"to\" + 0.019*\"a\" + 0.019*\"of\" + 0.017*\"I\" + 0.016*\"and\" + 0.015*\"that\" + 0.014*\"is\" + 0.012*\"in\" + 0.009*\"it\"\n"
          ],
          "name": "stdout"
        }
      ]
    },
    {
      "cell_type": "markdown",
      "metadata": {
        "id": "j7Q0vDaIXQN0"
      },
      "source": [
        "**Number of Topics=5**"
      ]
    },
    {
      "cell_type": "code",
      "metadata": {
        "id": "5XyqgWR0WMDd",
        "outputId": "962f7a12-8c51-4000-d8c6-f701cee69931",
        "colab": {
          "base_uri": "https://localhost:8080/"
        }
      },
      "source": [
        "lda_model = gensim.models.LdaMulticore(doc_term_matrix, num_topics=5, id2word=dictionary, passes=2, workers=2)\n",
        "for idx, topic in lda_model.print_topics(-1):\n",
        "  print('Topic: {} \\nWords: {}'.format(idx, topic))"
      ],
      "execution_count": null,
      "outputs": [
        {
          "output_type": "stream",
          "text": [
            "Topic: 0 \n",
            "Words: 0.025*\"the\" + 0.017*\"to\" + 0.016*\"a\" + 0.016*\"I\" + 0.015*\"and\" + 0.013*\"of\" + 0.010*\"in\" + 0.009*\"for\" + 0.008*\"edu\" + 0.007*\"is\"\n",
            "Topic: 1 \n",
            "Words: 0.042*\"the\" + 0.021*\"to\" + 0.020*\"of\" + 0.016*\"a\" + 0.016*\"is\" + 0.015*\"and\" + 0.014*\"I\" + 0.010*\"in\" + 0.010*\"that\" + 0.009*\"it\"\n",
            "Topic: 2 \n",
            "Words: 0.038*\"the\" + 0.021*\"of\" + 0.019*\"to\" + 0.014*\"and\" + 0.013*\"a\" + 0.009*\"in\" + 0.009*\"that\" + 0.008*\"X\" + 0.008*\"is\" + 0.008*\"for\"\n",
            "Topic: 3 \n",
            "Words: 0.043*\"the\" + 0.024*\"of\" + 0.024*\"to\" + 0.018*\"a\" + 0.017*\"and\" + 0.017*\"that\" + 0.015*\"I\" + 0.014*\"in\" + 0.012*\"is\" + 0.010*\"it\"\n",
            "Topic: 4 \n",
            "Words: 0.143*\"AX\" + 0.021*\"M\" + 0.012*\"3\" + 0.012*\"Q\" + 0.011*\"R\" + 0.010*\"G\" + 0.010*\"I\" + 0.010*\"MAX\" + 0.010*\"1\" + 0.010*\"0\"\n"
          ],
          "name": "stdout"
        }
      ]
    },
    {
      "cell_type": "markdown",
      "metadata": {
        "id": "bUGxeKYmYC8z"
      },
      "source": [
        "**Number of Topics=6**"
      ]
    },
    {
      "cell_type": "code",
      "metadata": {
        "id": "LYPcrRABXMJj",
        "outputId": "253cb14a-1324-41a0-eb1a-22e6659e8ca1",
        "colab": {
          "base_uri": "https://localhost:8080/"
        }
      },
      "source": [
        "lda_model = gensim.models.LdaMulticore(doc_term_matrix, num_topics=6, id2word=dictionary, passes=2, workers=2)\n",
        "for idx, topic in lda_model.print_topics(-1):\n",
        "  print('Topic: {} \\nWords: {}'.format(idx, topic))"
      ],
      "execution_count": null,
      "outputs": [
        {
          "output_type": "stream",
          "text": [
            "Topic: 0 \n",
            "Words: 0.023*\"the\" + 0.018*\"edu\" + 0.014*\"I\" + 0.014*\"a\" + 0.014*\"of\" + 0.013*\"to\" + 0.010*\"and\" + 0.009*\"for\" + 0.008*\"that\" + 0.008*\"is\"\n",
            "Topic: 1 \n",
            "Words: 0.089*\"AX\" + 0.026*\"the\" + 0.017*\"to\" + 0.017*\"of\" + 0.016*\"is\" + 0.016*\"a\" + 0.014*\"that\" + 0.011*\"I\" + 0.010*\"and\" + 0.010*\"you\"\n",
            "Topic: 2 \n",
            "Words: 0.025*\"M\" + 0.014*\"1\" + 0.013*\"R\" + 0.013*\"_\" + 0.012*\"G\" + 0.011*\"3\" + 0.011*\"W\" + 0.010*\"AX\" + 0.010*\"2\" + 0.010*\"Q\"\n",
            "Topic: 3 \n",
            "Words: 0.030*\"the\" + 0.023*\"I\" + 0.018*\"a\" + 0.017*\"to\" + 0.013*\"and\" + 0.012*\"of\" + 0.011*\"in\" + 0.009*\"is\" + 0.009*\"for\" + 0.008*\"it\"\n",
            "Topic: 4 \n",
            "Words: 0.049*\"the\" + 0.026*\"to\" + 0.025*\"of\" + 0.020*\"and\" + 0.017*\"a\" + 0.014*\"in\" + 0.013*\"that\" + 0.013*\"is\" + 0.012*\"I\" + 0.008*\"it\"\n",
            "Topic: 5 \n",
            "Words: 0.019*\"0\" + 0.019*\"the\" + 0.015*\"1\" + 0.013*\"of\" + 0.012*\"to\" + 0.011*\"and\" + 0.011*\"X\" + 0.010*\"2\" + 0.010*\"a\" + 0.008*\"in\"\n"
          ],
          "name": "stdout"
        }
      ]
    },
    {
      "cell_type": "markdown",
      "metadata": {
        "id": "gBPIFHGMY-Ke"
      },
      "source": [
        "**Number of Topics=7**"
      ]
    },
    {
      "cell_type": "code",
      "metadata": {
        "id": "2SV8gxXuYFrm",
        "outputId": "28144c0a-4e67-420e-a593-dc3a45c71994",
        "colab": {
          "base_uri": "https://localhost:8080/"
        }
      },
      "source": [
        "lda_model = gensim.models.LdaMulticore(doc_term_matrix, num_topics=7, id2word=dictionary, passes=2, workers=2)\n",
        "for idx, topic in lda_model.print_topics(-1):\n",
        "  print('Topic: {} \\nWords: {}'.format(idx, topic))\n"
      ],
      "execution_count": null,
      "outputs": [
        {
          "output_type": "stream",
          "text": [
            "Topic: 0 \n",
            "Words: 0.028*\"the\" + 0.020*\"of\" + 0.018*\"a\" + 0.018*\"to\" + 0.016*\"I\" + 0.015*\"and\" + 0.012*\"is\" + 0.010*\"for\" + 0.010*\"in\" + 0.009*\"edu\"\n",
            "Topic: 1 \n",
            "Words: 0.040*\"the\" + 0.027*\"to\" + 0.025*\"of\" + 0.018*\"and\" + 0.017*\"that\" + 0.017*\"is\" + 0.016*\"a\" + 0.016*\"I\" + 0.014*\"in\" + 0.010*\"it\"\n",
            "Topic: 2 \n",
            "Words: 0.048*\"the\" + 0.020*\"to\" + 0.019*\"a\" + 0.019*\"of\" + 0.016*\"and\" + 0.013*\"I\" + 0.011*\"that\" + 0.011*\"in\" + 0.010*\"is\" + 0.008*\"it\"\n",
            "Topic: 3 \n",
            "Words: 0.028*\"the\" + 0.021*\"of\" + 0.017*\"and\" + 0.012*\"in\" + 0.009*\"1\" + 0.009*\"to\" + 0.008*\"for\" + 0.007*\"2\" + 0.007*\"a\" + 0.006*\"is\"\n",
            "Topic: 4 \n",
            "Words: 0.024*\"the\" + 0.017*\"to\" + 0.017*\"I\" + 0.016*\"0\" + 0.012*\"1\" + 0.011*\"a\" + 0.009*\"of\" + 0.009*\"and\" + 0.008*\"in\" + 0.008*\"2\"\n",
            "Topic: 5 \n",
            "Words: 0.025*\"the\" + 0.017*\"to\" + 0.015*\"a\" + 0.012*\"I\" + 0.012*\"of\" + 0.012*\"and\" + 0.010*\"X\" + 0.010*\"is\" + 0.010*\"edu\" + 0.007*\"for\"\n",
            "Topic: 6 \n",
            "Words: 0.173*\"AX\" + 0.025*\"M\" + 0.015*\"Q\" + 0.013*\"R\" + 0.013*\"3\" + 0.012*\"MAX\" + 0.012*\"G\" + 0.011*\"P\" + 0.010*\"W\" + 0.009*\"7\"\n"
          ],
          "name": "stdout"
        }
      ]
    },
    {
      "cell_type": "code",
      "metadata": {
        "id": "nx9H8iQaaJtU",
        "outputId": "d3555ea6-1ec9-4c47-b2e8-0e0c109ff1c8",
        "colab": {
          "base_uri": "https://localhost:8080/"
        }
      },
      "source": [
        "\n",
        "lda_model = gensim.models.LdaMulticore(doc_term_matrix, num_topics=7, id2word=dictionary, passes=50, workers=2)\n",
        "for idx, topic in lda_model.print_topics(-1):\n",
        "  print('Topic: {} \\nWords: {}'.format(idx, topic))"
      ],
      "execution_count": null,
      "outputs": [
        {
          "output_type": "stream",
          "text": [
            "Topic: 0 \n",
            "Words: 0.044*\"the\" + 0.028*\"to\" + 0.024*\"of\" + 0.019*\"that\" + 0.018*\"a\" + 0.017*\"and\" + 0.017*\"is\" + 0.016*\"I\" + 0.013*\"in\" + 0.011*\"it\"\n",
            "Topic: 1 \n",
            "Words: 0.029*\"the\" + 0.019*\"to\" + 0.017*\"a\" + 0.016*\"and\" + 0.014*\"I\" + 0.014*\"of\" + 0.012*\"is\" + 0.010*\"for\" + 0.008*\"in\" + 0.007*\"X\"\n",
            "Topic: 2 \n",
            "Words: 0.037*\"0\" + 0.036*\"1\" + 0.025*\"2\" + 0.018*\"3\" + 0.014*\"4\" + 0.012*\"5\" + 0.010*\"6\" + 0.008*\"7\" + 0.008*\"00\" + 0.006*\"10\"\n",
            "Topic: 3 \n",
            "Words: 0.027*\"the\" + 0.015*\"of\" + 0.011*\"and\" + 0.010*\"to\" + 0.009*\"a\" + 0.009*\"com\" + 0.007*\"in\" + 0.007*\"for\" + 0.006*\"From\" + 0.006*\"edu\"\n",
            "Topic: 4 \n",
            "Words: 0.056*\"the\" + 0.038*\"of\" + 0.027*\"and\" + 0.020*\"in\" + 0.016*\"to\" + 0.009*\"a\" + 0.009*\"The\" + 0.007*\"by\" + 0.007*\"for\" + 0.006*\"was\"\n",
            "Topic: 5 \n",
            "Words: 0.179*\"AX\" + 0.028*\"M\" + 0.016*\"Q\" + 0.014*\"_\" + 0.014*\"R\" + 0.013*\"3\" + 0.013*\"MAX\" + 0.013*\"G\" + 0.012*\"P\" + 0.012*\"W\"\n",
            "Topic: 6 \n",
            "Words: 0.034*\"the\" + 0.022*\"I\" + 0.020*\"a\" + 0.017*\"to\" + 0.014*\"of\" + 0.013*\"edu\" + 0.013*\"and\" + 0.010*\"in\" + 0.009*\"it\" + 0.009*\"is\"\n"
          ],
          "name": "stdout"
        }
      ]
    },
    {
      "cell_type": "markdown",
      "metadata": {
        "id": "9OQqXg1dZEnt"
      },
      "source": [
        "**Number of Topics=8**"
      ]
    },
    {
      "cell_type": "code",
      "metadata": {
        "id": "uBPb2BiuZFsr",
        "outputId": "e8794548-ecd1-45d5-f617-4dcfdb565f95",
        "colab": {
          "base_uri": "https://localhost:8080/"
        }
      },
      "source": [
        "lda_model = gensim.models.LdaMulticore(doc_term_matrix, num_topics=8, id2word=dictionary, passes=13, workers=2)\n",
        "for idx, topic in lda_model.print_topics(-1):\n",
        "    print('Topic: {} \\nWords: {}'.format(idx, topic))"
      ],
      "execution_count": null,
      "outputs": [
        {
          "output_type": "stream",
          "text": [
            "Topic: 0 \n",
            "Words: 0.315*\"AX\" + 0.031*\"0\" + 0.024*\"3\" + 0.023*\"MAX\" + 0.020*\"Q\" + 0.018*\"1\" + 0.015*\"2\" + 0.011*\"7\" + 0.008*\"R\" + 0.008*\"P\"\n",
            "Topic: 1 \n",
            "Words: 0.029*\"the\" + 0.019*\"to\" + 0.018*\"a\" + 0.016*\"and\" + 0.015*\"I\" + 0.014*\"of\" + 0.011*\"is\" + 0.010*\"for\" + 0.008*\"in\" + 0.008*\"X\"\n",
            "Topic: 2 \n",
            "Words: 0.012*\"edu\" + 0.009*\"for\" + 0.009*\"From\" + 0.008*\"Lines\" + 0.008*\"Subject\" + 0.008*\"Organization\" + 0.008*\"com\" + 0.007*\"1\" + 0.007*\"2\" + 0.006*\"I\"\n",
            "Topic: 3 \n",
            "Words: 0.040*\"the\" + 0.026*\"to\" + 0.024*\"I\" + 0.022*\"a\" + 0.017*\"of\" + 0.016*\"that\" + 0.016*\"and\" + 0.013*\"is\" + 0.012*\"it\" + 0.012*\"you\"\n",
            "Topic: 4 \n",
            "Words: 0.036*\"M\" + 0.022*\"_\" + 0.019*\"1\" + 0.017*\"W\" + 0.015*\"R\" + 0.013*\"G\" + 0.012*\"0\" + 0.012*\"O\" + 0.012*\"P\" + 0.012*\"S\"\n",
            "Topic: 5 \n",
            "Words: 0.032*\"the\" + 0.017*\"edu\" + 0.012*\"of\" + 0.012*\"a\" + 0.011*\"to\" + 0.011*\"in\" + 0.010*\"and\" + 0.009*\"I\" + 0.007*\"s\" + 0.007*\"From\"\n",
            "Topic: 6 \n",
            "Words: 0.056*\"the\" + 0.037*\"of\" + 0.024*\"and\" + 0.024*\"to\" + 0.018*\"in\" + 0.013*\"a\" + 0.013*\"is\" + 0.012*\"that\" + 0.007*\"The\" + 0.007*\"for\"\n",
            "Topic: 7 \n",
            "Words: 0.029*\"the\" + 0.020*\"of\" + 0.019*\"to\" + 0.017*\"is\" + 0.014*\"a\" + 0.013*\"that\" + 0.010*\"I\" + 0.010*\"and\" + 0.008*\"it\" + 0.007*\"in\"\n"
          ],
          "name": "stdout"
        }
      ]
    },
    {
      "cell_type": "code",
      "metadata": {
        "id": "-dzzq-mLY9bz",
        "outputId": "c6f40b02-6828-493e-d215-ebf7edf69983",
        "colab": {
          "base_uri": "https://localhost:8080/",
          "height": 279
        }
      },
      "source": [
        "from gensim.models.coherencemodel import CoherenceModel\n",
        "def compute_coherence_values(dictionary, corpus, texts, limit, start=2, step=3):\n",
        "    \"\"\"\n",
        "    Compute c_v coherence for various number of topics\n",
        "\n",
        "    Parameters:\n",
        "    ----------\n",
        "    dictionary : Gensim dictionary\n",
        "    corpus : Gensim corpus\n",
        "    texts : List of input texts\n",
        "    limit : Max num of topics\n",
        "\n",
        "    Returns:\n",
        "    -------\n",
        "    model_list : List of LDA topic models\n",
        "    coherence_values : Coherence values corresponding to the LDA model with respective number of topics\n",
        "    \"\"\"\n",
        "    coherence_values = []\n",
        "    model_list = []\n",
        "    for num_topics in range(start, limit, step):\n",
        "        model=gensim.models.LdaMulticore(corpus=doc_term_matrix, num_topics=num_topics, id2word=dictionary, passes=1, workers=2)\n",
        "        #model=LdaModel(corpus=corpus, id2word=dictionary, num_topics=num_topics)\n",
        "        model_list.append(model)\n",
        "        coherencemodel = CoherenceModel(model=model, texts=texts, dictionary=dictionary, coherence='c_v')\n",
        "        coherence_values.append(coherencemodel.get_coherence())\n",
        "\n",
        "    return model_list, coherence_values\n",
        "\n",
        "model_list, coherence_values = compute_coherence_values(dictionary=dictionary, corpus=doc_term_matrix, texts=text, start=7, limit=12, step=1)\n",
        "# Show graph\n",
        "import matplotlib.pyplot as plt\n",
        "limit=12; start=7; step=1;\n",
        "x = range(start, limit, step)\n",
        "plt.plot(x, coherence_values)\n",
        "plt.xlabel(\"Num Topics\")\n",
        "plt.ylabel(\"Coherence score\")\n",
        "plt.legend((\"coherence_values\"), loc='best')\n",
        "plt.show()"
      ],
      "execution_count": null,
      "outputs": [
        {
          "output_type": "display_data",
          "data": {
            "image/png": "[encoded data removed]",
            "text/plain": [
              "<Figure size 432x288 with 1 Axes>"
            ]
          },
          "metadata": {
            "tags": [],
            "needs_background": "light"
          }
        }
      ]
    },
    {
      "cell_type": "code",
      "metadata": {
        "id": "9KTcsI7qEDmU",
        "outputId": "5fb9e42e-99cf-46d4-907b-8202a00c7852",
        "colab": {
          "base_uri": "https://localhost:8080/",
          "height": 279
        }
      },
      "source": [
        "from gensim.models.coherencemodel import CoherenceModel\n",
        "def compute_coherence_values(dictionary, corpus, texts, limit, start=2, step=3):\n",
        "    \"\"\"\n",
        "    Compute c_v coherence for various number of topics\n",
        "\n",
        "    Parameters:\n",
        "    ----------\n",
        "    dictionary : Gensim dictionary\n",
        "    corpus : Gensim corpus\n",
        "    texts : List of input texts\n",
        "    limit : Max num of topics\n",
        "\n",
        "    Returns:\n",
        "    -------\n",
        "    model_list : List of LDA topic models\n",
        "    coherence_values : Coherence values corresponding to the LDA model with respective number of topics\n",
        "    \"\"\"\n",
        "    coherence_values = []\n",
        "    model_list = []\n",
        "    for num_topics in range(start, limit, step):\n",
        "        model=gensim.models.LdaMulticore(corpus=doc_term_matrix, num_topics=num_topics, id2word=dictionary, passes=1, workers=2)\n",
        "        #model=LdaModel(corpus=corpus, id2word=dictionary, num_topics=num_topics)\n",
        "        model_list.append(model)\n",
        "        coherencemodel = CoherenceModel(model=model, texts=texts, dictionary=dictionary, coherence='c_v')\n",
        "        coherence_values.append(coherencemodel.get_coherence())\n",
        "\n",
        "    return model_list, coherence_values\n",
        "\n",
        "model_list, coherence_values = compute_coherence_values(dictionary=dictionary, corpus=doc_term_matrix, texts=text, start=11, limit=30, step=1)\n",
        "# Show graph\n",
        "import matplotlib.pyplot as plt\n",
        "limit=30; start=11; step=1;\n",
        "x = range(start, limit, step)\n",
        "plt.plot(x, coherence_values)\n",
        "plt.xlabel(\"Num Topics\")\n",
        "plt.ylabel(\"Coherence score\")\n",
        "plt.legend((\"coherence_values\"), loc='best')\n",
        "plt.show()"
      ],
      "execution_count": null,
      "outputs": [
        {
          "output_type": "display_data",
          "data": {
            "image/png": "[encoded data removed]",
            "text/plain": [
              "<Figure size 432x288 with 1 Axes>"
            ]
          },
          "metadata": {
            "tags": [],
            "needs_background": "light"
          }
        }
      ]
    },
    {
      "cell_type": "code",
      "metadata": {
        "id": "mA0t4DE42YU1"
      },
      "source": [
        "from gensim.models.coherencemodel import CoherenceModel\n",
        "def compute_coherence_values(dictionary, corpus, texts, limit, start=2, step=3):\n",
        "    \"\"\"\n",
        "    Compute c_v coherence for various number of topics\n",
        "\n",
        "    Parameters:\n",
        "    ----------\n",
        "    dictionary : Gensim dictionary\n",
        "    corpus : Gensim corpus\n",
        "    texts : List of input texts\n",
        "    limit : Max num of topics\n",
        "\n",
        "    Returns:\n",
        "    -------\n",
        "    model_list : List of LDA topic models\n",
        "    coherence_values : Coherence values corresponding to the LDA model with respective number of topics\n",
        "    \"\"\"\n",
        "    coherence_values = []\n",
        "    model_list = []\n",
        "    for num_topics in range(start, limit, step):\n",
        "        model=gensim.models.LdaMulticore(corpus=doc_term_matrix, num_topics=num_topics, id2word=dictionary, passes=50, workers=2)\n",
        "        #model=LdaModel(corpus=corpus, id2word=dictionary, num_topics=num_topics)\n",
        "        model_list.append(model)\n",
        "        coherencemodel = CoherenceModel(model=model, texts=texts, dictionary=dictionary, coherence='c_v')\n",
        "        coherence_values.append(coherencemodel.get_coherence())\n",
        "\n",
        "    return model_list, coherence_values\n",
        "\n",
        "model_list, coherence_values = compute_coherence_values(dictionary=dictionary, corpus=doc_term_matrix, texts=text, start=1, limit=40, step=1)\n",
        "# Show graph\n",
        "import matplotlib.pyplot as plt\n",
        "limit=40; start=1; step=1;\n",
        "x = range(start, limit, step)\n",
        "plt.plot(x, coherence_values)\n",
        "plt.xlabel(\"Num Topics\")\n",
        "plt.ylabel(\"Coherence score\")\n",
        "plt.legend((\"coherence_values\"), loc='best')\n",
        "plt.show()"
      ],
      "execution_count": null,
      "outputs": []
    }
  ]
}