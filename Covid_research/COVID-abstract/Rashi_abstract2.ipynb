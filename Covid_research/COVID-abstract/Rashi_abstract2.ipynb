{
  "nbformat": 4,
  "nbformat_minor": 0,
  "metadata": {
    "colab": {
      "name": "Rashi_abstract2.ipynb",
      "provenance": [],
      "collapsed_sections": []
    },
    "kernelspec": {
      "display_name": "Python 3",
      "name": "python3"
    }
  },
  "cells": [
    {
      "cell_type": "code",
      "metadata": {
        "id": "FTrlT2PUTmOV",
        "outputId": "82a79d2d-c407-42d0-d5f7-a5b66da31bbf",
        "colab": {
          "resources": {
            "http://localhost:8080/nbextensions/google.colab/files.js": {
              "data": "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",
              "ok": true,
              "headers": [
                [
                  "content-type",
                  "application/javascript"
                ]
              ],
              "status": 200,
              "status_text": ""
            }
          },
          "base_uri": "https://localhost:8080/",
          "height": 73
        }
      },
      "source": [
        "from google.colab import files\n",
        "uploaded = files.upload()"
      ],
      "execution_count": 1,
      "outputs": [
        {
          "output_type": "display_data",
          "data": {
            "text/html": [
              "\n",
              "     <input type=\"file\" id=\"files-4a82160f-9908-4a7b-8aeb-a896caed4bd2\" name=\"files[]\" multiple disabled\n",
              "        style=\"border:none\" />\n",
              "     <output id=\"result-4a82160f-9908-4a7b-8aeb-a896caed4bd2\">\n",
              "      Upload widget is only available when the cell has been executed in the\n",
              "      current browser session. Please rerun this cell to enable.\n",
              "      </output>\n",
              "      <script src=\"/nbextensions/google.colab/files.js\"></script> "
            ],
            "text/plain": [
              "<IPython.core.display.HTML object>"
            ]
          },
          "metadata": {
            "tags": []
          }
        },
        {
          "output_type": "stream",
          "text": [
            "Saving abstract2.csv to abstract2.csv\n"
          ],
          "name": "stdout"
        }
      ]
    },
    {
      "cell_type": "code",
      "metadata": {
        "id": "IKyaDyC8T7of"
      },
      "source": [
        "import numpy as np\n",
        "import pandas as pd\n",
        "import csv\n",
        "from csv import reader"
      ],
      "execution_count": 2,
      "outputs": []
    },
    {
      "cell_type": "markdown",
      "metadata": {
        "id": "a96OrNJSXzOr"
      },
      "source": [
        "Loading the pre processed Abstract Dataset"
      ]
    },
    {
      "cell_type": "code",
      "metadata": {
        "id": "GLmBSQ0lUGFH",
        "outputId": "6ee8864b-cbf5-449b-bde6-c50445bd6b3d",
        "colab": {
          "base_uri": "https://localhost:8080/",
          "height": 195
        }
      },
      "source": [
        "data = pd.read_csv(\"abstract2.csv\")\n",
        "data.head()"
      ],
      "execution_count": 3,
      "outputs": [
        {
          "output_type": "execute_result",
          "data": {
            "text/html": [
              "<div>\n",
              "<style scoped>\n",
              "    .dataframe tbody tr th:only-of-type {\n",
              "        vertical-align: middle;\n",
              "    }\n",
              "\n",
              "    .dataframe tbody tr th {\n",
              "        vertical-align: top;\n",
              "    }\n",
              "\n",
              "    .dataframe thead th {\n",
              "        text-align: right;\n",
              "    }\n",
              "</style>\n",
              "<table border=\"1\" class=\"dataframe\">\n",
              "  <thead>\n",
              "    <tr style=\"text-align: right;\">\n",
              "      <th></th>\n",
              "      <th>abstract</th>\n",
              "    </tr>\n",
              "  </thead>\n",
              "  <tbody>\n",
              "    <tr>\n",
              "      <th>0</th>\n",
              "      <td>zhou et al natur hoffmann et al cell identifi ...</td>\n",
              "    </tr>\n",
              "    <tr>\n",
              "      <th>1</th>\n",
              "      <td>high incid thromboembol diseas particular veno...</td>\n",
              "    </tr>\n",
              "    <tr>\n",
              "      <th>2</th>\n",
              "      <td>2019 sever acut respiratori syndrom coronaviru...</td>\n",
              "    </tr>\n",
              "    <tr>\n",
              "      <th>3</th>\n",
              "      <td>2019 sever acut respiratori syndrom coronaviru...</td>\n",
              "    </tr>\n",
              "    <tr>\n",
              "      <th>4</th>\n",
              "      <td>purpos primari purpos present systemat review ...</td>\n",
              "    </tr>\n",
              "  </tbody>\n",
              "</table>\n",
              "</div>"
            ],
            "text/plain": [
              "                                            abstract\n",
              "0  zhou et al natur hoffmann et al cell identifi ...\n",
              "1  high incid thromboembol diseas particular veno...\n",
              "2  2019 sever acut respiratori syndrom coronaviru...\n",
              "3  2019 sever acut respiratori syndrom coronaviru...\n",
              "4  purpos primari purpos present systemat review ..."
            ]
          },
          "metadata": {
            "tags": []
          },
          "execution_count": 3
        }
      ]
    },
    {
      "cell_type": "code",
      "metadata": {
        "id": "UZR7-iurUP97",
        "outputId": "2f4f167f-a282-4e6c-e106-0eab91a24bed",
        "colab": {
          "base_uri": "https://localhost:8080/"
        }
      },
      "source": [
        "len(data.axes[0])"
      ],
      "execution_count": 4,
      "outputs": [
        {
          "output_type": "execute_result",
          "data": {
            "text/plain": [
              "85885"
            ]
          },
          "metadata": {
            "tags": []
          },
          "execution_count": 4
        }
      ]
    },
    {
      "cell_type": "code",
      "metadata": {
        "id": "S53ChdgmUWJw",
        "outputId": "80f1aeaf-dbd7-4d0f-9b13-3f53f782ffd7",
        "colab": {
          "base_uri": "https://localhost:8080/"
        }
      },
      "source": [
        "abstract = []\n",
        "with open (\"abstract2.csv\",'r') as read_obj:\n",
        "  csv_reader=reader(read_obj)\n",
        "  for row in csv_reader:\n",
        "    abstract.append(row)\n",
        "print(len(abstract))"
      ],
      "execution_count": 5,
      "outputs": [
        {
          "output_type": "stream",
          "text": [
            "85886\n"
          ],
          "name": "stdout"
        }
      ]
    },
    {
      "cell_type": "code",
      "metadata": {
        "id": "eRqCjT0pUmrK",
        "outputId": "cec4cad7-45c5-421c-9d4d-74a45ae86529",
        "colab": {
          "base_uri": "https://localhost:8080/"
        }
      },
      "source": [
        "print(abstract[:10])"
      ],
      "execution_count": 6,
      "outputs": [
        {
          "output_type": "stream",
          "text": [
            "[['abstract'], ['zhou et al natur hoffmann et al cell identifi ace2 sarscov2 receptor latter show entri mechan depend cellular serin proteas tmprss2 result may explain proinflammatori cytokin releas via associ angiotestin ii pathway possibl therapeut target via il6stat3 axi'], ['high incid thromboembol diseas particular venou thromboembol vte emerg import consider hospit critic ill patient coronaviru diseas 2019 covid19 coagulopathi covid19 postul result interact inflammatori immun system coagul system manifest cytokin storm associ hyperinflamm coagul platelet activ uniqu characterist vte hospit critic ill patient covid19 includ high incid vte especi pulmonari embol compar histor controlsth find situ pulmonari embol associ microthrombi suggest thrombot microangiopath process addit classic macrovessel diseaseand import clinic perspect unusu high rate vte report despit standard thromboprophylaxi rais possibl intermedi weightbas heparin dose may effect fix dose thromboprophylaxi highrisk subset patient hospit covid19 sever guidanc statement focus manag vte hospit critic ill patient covid19 includ recent statement scientif standard committe intern societi thrombosi haemostasi includ comprehens guidanc diagnosi prevent treatment vte patient popul ongo random trial address key clinic question especi intens thromboprophylact strategi novel antithrombot approach potenti reduc morbid mortal vte hospit critic ill patient covid19'], ['2019 sever acut respiratori syndrom coronaviru 2 sarscov2 first report wuhan china last decemb 2019 declar emerg world health organ eventu progress becom pandem date coronaviru diseas 2019 covid19 affect least 100000 individu worldwid reach thousand mortal zhou et al 2020 world health organ 2020 philippin number covid19 confirm posit case 636 expect rise depart health 2020 respiratori infect alongsid comorbid induc acut myocardi infarct acut ischem stroke warrengash et al 2018 3 may bring challeng manag administr intraven iv alteplas elig patient current case report administr iv altepas ischem stroke patient covid19 posit present case 62year old femal admit due cough cold short breath 2 week durat test covd19 posit suffer ischem stroke medic intens care unit given intraven thrombolysi'], ['2019 sever acut respiratori syndrom coronaviru 2 sarscov2 first report wuhan china last decemb 2019 declar emerg world health organ eventu progress becom pandem date coronaviru diseas 2019 covid19 affect least 100000 individu worldwid reach thousand mortal zhou et al 2020 world health organ 2020 philippin number covid19 confirm posit case 636 expect rise depart health 2020 respiratori infect alongsid comorbid induc acut myocardi infarct acut ischem stroke warrengash et al 2018 3 may bring challeng manag administr intraven iv alteplas elig patient current case report administr iv altepas ischem stroke patient covid19 posit present case 62year old femal admit due cough cold short breath 2 week durat test covd19 posit suffer ischem stroke medic intens care unit given intraven thrombolysi'], ['purpos primari purpos present systemat review identifi optim protect measur covid19 pandem provid guidanc protect measur orthoped surgeon secondari purpos report protect experi orthoped trauma center wuhan china pandem method systemat search pubm cochran web scienc googl scholar perform studi covid19 fractur trauma orthoped healthcar worker protect telemedicin appropri protect measur orthoped surgeon patient review onsit first aid emerg room oper room isol ward gener ward etc entir diagnosi treatment process traumat patient result eighteen studi includ studi 1318 emphas orthoped surgeon pay attent prevent crossinfect four studi report detail orthoped surgeon protect surgeri oper room detail studi multidisciplinari cooper strict protect protect train indic emerg surgeri first aid onsit protect orthoped ward found conclus strict protect everi step patient pathway import reduc risk crossinfect lesson learnt experi provid recommend protect measur entir diagnosi treatment process traumat patient help other manag orthoped patient covid19 reduc risk crossinfect patient protect healthcar worker work level evid iv'], ['studi present new approach determin likelihood asymptomat carrier sarscov2 viru use interactionbas continu learn infer individu probabl cliip contagi rank approach develop base individu direct graph idg use multilay bidirect path track infer search idg determin appear timelin spatial data adapt time addit approach take consider incub period sever featur repres realworld circumst number asymptomat carrier present updat confirm case model collect interact featur infer individu person probabl get infect use statu surround peopl cliip approach valid use individu bidirect seir model simul contagion process compar tradit contact trace method approach significantli reduc screen quarantin requir search potenti asymptomat viru carrier much 94'], ['novel sarscov2 coronaviru respons infecti diseas caus coronaviru 19 covid19 current pandem grow worldwid could affect 5060 world popul month come sever diseas manifest atyp pneumonia sepsi gastrointestin tract particularli liver recent report affect sarscov2 therefor aim present work review literatur avail topic provid inform covid19 healthi diseas liver issu recommend incid liver injuri specif associ covid19 vari 14853 major case seri report alter alt ast elev total bilirubin low serum albumin liver compromis associ sever case covid19 cirrhosi liver recogn immun dysfunct statu includ immunodefici system inflamm make reason patient suscept sarscov2 infect recommend patient addit gener measur physic distanc handwash person includ social medic psycholog support period home quarantin prevent laps treatment patient made awar need keep abreast chang recommend social polici'], ['minim immunosuppress administr antiretrovir recommend kidney transplant recipi ktr coronaviru diseas 2019 covid19 howev outcom remain poor given like benefit cyclosporin antivir immunomodulatori effect use strategi ktr diagnos sever acut respiratori syndrom coronaviru 2 sarscov2 studi 29 kidney transplant recipi ktr admit institut covid19 march 15and april 24 2020 mycophenol andor mammalian target rapamycin inhibitor mtori discontinu patient two therapeut strategi compar group 1 minim calcineurin inhibitor n 6 group 2 cyclosporinebas therapi n 23 15 patient switch tacrolimu hydroxychloroquin consid strategi antivir none six patient die respiratori distress 206 five requir mechan ventil 172 3 could wean nineteen patient unev recoveri 655 group 1 3 6 patient die 50 1 6 requir invas mechan ventil 167 group 2 3 23 patient die 125 renal function deterior sign reject observ patient second treatment regim conclus immunosuppress treatment base cyclosporin could safe effect ktr diagnos covid19'], ['minim immunosuppress administr antiretrovir recommend kidney transplant recipi ktr covid19 howev outcom remain poor given like benefit cyclosporin due antivir immunomodulatori effect use strategi ktr diagnos sarscov2 studi 29 kidney transplant recipi ktr admit institut covid19 march15 april 24th 2020 mycophenol andor mtori discontinu patient two therapeut strategi compar group 1 minim calcineurin inhibitor n6 group 2 cyclosporinebas therapi n23 15 patient switch tacrolimu hydroxychloroquin consid strategi antivir none six patient die respiratori distress 206 five requir mechan ventil 172 three could wean nineteen patient unev recoveri 655 group 1 36 patient die 50 16 requir invas mechan ventil ivm 167 group 2 three patient die 323 125 renal function deterior sign reject observ patient second treatment regim conclus immunosuppress treatment base cyclosporin could safe effect ktr diagnos covid19']]\n"
          ],
          "name": "stdout"
        }
      ]
    },
    {
      "cell_type": "code",
      "metadata": {
        "id": "AsRsjw_bUpvo"
      },
      "source": [
        "abstract=abstract[1:]"
      ],
      "execution_count": 7,
      "outputs": []
    },
    {
      "cell_type": "code",
      "metadata": {
        "id": "B_s4GatUUt_a",
        "outputId": "6ea9857c-5123-4422-c049-a49b95dcc820",
        "colab": {
          "base_uri": "https://localhost:8080/"
        }
      },
      "source": [
        "import nltk\n",
        "nltk.download(\"punkt\")\n",
        "nltk.download(\"popular\")\n",
        "from nltk.tokenize import RegexpTokenizer"
      ],
      "execution_count": 8,
      "outputs": [
        {
          "output_type": "stream",
          "text": [
            "[nltk_data] Downloading package punkt to /root/nltk_data...\n",
            "[nltk_data]   Unzipping tokenizers/punkt.zip.\n",
            "[nltk_data] Downloading collection 'popular'\n",
            "[nltk_data]    | \n",
            "[nltk_data]    | Downloading package cmudict to /root/nltk_data...\n",
            "[nltk_data]    |   Unzipping corpora/cmudict.zip.\n",
            "[nltk_data]    | Downloading package gazetteers to /root/nltk_data...\n",
            "[nltk_data]    |   Unzipping corpora/gazetteers.zip.\n",
            "[nltk_data]    | Downloading package genesis to /root/nltk_data...\n",
            "[nltk_data]    |   Unzipping corpora/genesis.zip.\n",
            "[nltk_data]    | Downloading package gutenberg to /root/nltk_data...\n",
            "[nltk_data]    |   Unzipping corpora/gutenberg.zip.\n",
            "[nltk_data]    | Downloading package inaugural to /root/nltk_data...\n",
            "[nltk_data]    |   Unzipping corpora/inaugural.zip.\n",
            "[nltk_data]    | Downloading package movie_reviews to\n",
            "[nltk_data]    |     /root/nltk_data...\n",
            "[nltk_data]    |   Unzipping corpora/movie_reviews.zip.\n",
            "[nltk_data]    | Downloading package names to /root/nltk_data...\n",
            "[nltk_data]    |   Unzipping corpora/names.zip.\n",
            "[nltk_data]    | Downloading package shakespeare to /root/nltk_data...\n",
            "[nltk_data]    |   Unzipping corpora/shakespeare.zip.\n",
            "[nltk_data]    | Downloading package stopwords to /root/nltk_data...\n",
            "[nltk_data]    |   Unzipping corpora/stopwords.zip.\n",
            "[nltk_data]    | Downloading package treebank to /root/nltk_data...\n",
            "[nltk_data]    |   Unzipping corpora/treebank.zip.\n",
            "[nltk_data]    | Downloading package twitter_samples to\n",
            "[nltk_data]    |     /root/nltk_data...\n",
            "[nltk_data]    |   Unzipping corpora/twitter_samples.zip.\n",
            "[nltk_data]    | Downloading package omw to /root/nltk_data...\n",
            "[nltk_data]    |   Unzipping corpora/omw.zip.\n",
            "[nltk_data]    | Downloading package wordnet to /root/nltk_data...\n",
            "[nltk_data]    |   Unzipping corpora/wordnet.zip.\n",
            "[nltk_data]    | Downloading package wordnet_ic to /root/nltk_data...\n",
            "[nltk_data]    |   Unzipping corpora/wordnet_ic.zip.\n",
            "[nltk_data]    | Downloading package words to /root/nltk_data...\n",
            "[nltk_data]    |   Unzipping corpora/words.zip.\n",
            "[nltk_data]    | Downloading package maxent_ne_chunker to\n",
            "[nltk_data]    |     /root/nltk_data...\n",
            "[nltk_data]    |   Unzipping chunkers/maxent_ne_chunker.zip.\n",
            "[nltk_data]    | Downloading package punkt to /root/nltk_data...\n",
            "[nltk_data]    |   Package punkt is already up-to-date!\n",
            "[nltk_data]    | Downloading package snowball_data to\n",
            "[nltk_data]    |     /root/nltk_data...\n",
            "[nltk_data]    | Downloading package averaged_perceptron_tagger to\n",
            "[nltk_data]    |     /root/nltk_data...\n",
            "[nltk_data]    |   Unzipping taggers/averaged_perceptron_tagger.zip.\n",
            "[nltk_data]    | \n",
            "[nltk_data]  Done downloading collection popular\n"
          ],
          "name": "stdout"
        }
      ]
    },
    {
      "cell_type": "code",
      "metadata": {
        "id": "dTlUUhwIVdUw"
      },
      "source": [
        "abs_final=[]\n",
        "for i in abstract:\n",
        "  abs_final.append(i[0])\n",
        "\n",
        "#Tokenization (final step in our cleaning of data) is performed using Regular Expression Tokeinzer from nltk package. \n",
        "tokenizer = RegexpTokenizer(r'\\w+') #matches all word characters until a non word character like \" \" is found.\n",
        "text=[]\n",
        "for i in abs_final:\n",
        "  #tokenize the document string\n",
        "  tokens=tokenizer.tokenize(i)\n",
        "  text.append(tokens)"
      ],
      "execution_count": 9,
      "outputs": []
    },
    {
      "cell_type": "code",
      "metadata": {
        "id": "LyVPQwDrVgRx"
      },
      "source": [
        "#creating bag of words parameter\n",
        "import gensim\n",
        "from gensim import corpora,models\n",
        "\n",
        "#Dictionary() function creates a term dictionary of our corpus, where every unique term is assigned an index and word count is also maintained.\n",
        "dictionary = corpora.Dictionary(text)\n",
        "\n",
        "# print(dictionary.token2id) can be used to see each unique id assigned to each unique word.\n",
        "\n",
        "#Converts list of documents (corpus) into bag of words using dictionary prepared above. Output is a list of list of tuples with first tern the unique id and the second term the frequency.\n",
        "doc_term_matrix = [dictionary.doc2bow(abst, allow_update=True) for abst in text]"
      ],
      "execution_count": 10,
      "outputs": []
    },
    {
      "cell_type": "markdown",
      "metadata": {
        "id": "Oiw_f7MCXMwj"
      },
      "source": [
        "**Number of Topics=4**"
      ]
    },
    {
      "cell_type": "code",
      "metadata": {
        "id": "oW2VKrUDV1Up",
        "outputId": "c89a3177-d9fe-4a96-beaf-63c91e303822",
        "colab": {
          "base_uri": "https://localhost:8080/"
        }
      },
      "source": [
        "lda_model = gensim.models.LdaMulticore(doc_term_matrix, num_topics=4, id2word=dictionary, passes=2, workers=2)\n",
        "for idx, topic in lda_model.print_topics(-1):\n",
        "  print('Topic: {} \\nWords: {}'.format(idx, topic))\n"
      ],
      "execution_count": 12,
      "outputs": [
        {
          "output_type": "stream",
          "text": [
            "Topic: 0 \n",
            "Words: 0.011*\"viru\" + 0.011*\"infect\" + 0.011*\"cell\" + 0.009*\"protein\" + 0.008*\"viral\" + 0.007*\"virus\" + 0.006*\"use\" + 0.006*\"human\" + 0.006*\"studi\" + 0.005*\"detect\"\n",
            "Topic: 1 \n",
            "Words: 0.012*\"health\" + 0.012*\"covid19\" + 0.008*\"pandem\" + 0.007*\"use\" + 0.007*\"diseas\" + 0.005*\"studi\" + 0.005*\"model\" + 0.005*\"case\" + 0.005*\"data\" + 0.005*\"public\"\n",
            "Topic: 2 \n",
            "Words: 0.024*\"patient\" + 0.010*\"covid19\" + 0.010*\"de\" + 0.008*\"studi\" + 0.007*\"infect\" + 0.006*\"respiratori\" + 0.006*\"hospit\" + 0.006*\"p\" + 0.006*\"clinic\" + 0.006*\"result\"\n",
            "Topic: 3 \n",
            "Words: 0.020*\"patient\" + 0.016*\"covid19\" + 0.011*\"diseas\" + 0.009*\"infect\" + 0.007*\"treatment\" + 0.007*\"sever\" + 0.007*\"clinic\" + 0.007*\"use\" + 0.007*\"respiratori\" + 0.006*\"coronaviru\"\n"
          ],
          "name": "stdout"
        }
      ]
    },
    {
      "cell_type": "markdown",
      "metadata": {
        "id": "j7Q0vDaIXQN0"
      },
      "source": [
        "**Number of Topics=5**"
      ]
    },
    {
      "cell_type": "code",
      "metadata": {
        "id": "5XyqgWR0WMDd",
        "outputId": "b47ef74b-24f4-4868-a198-79042c2a451e",
        "colab": {
          "base_uri": "https://localhost:8080/"
        }
      },
      "source": [
        "lda_model = gensim.models.LdaMulticore(doc_term_matrix, num_topics=5, id2word=dictionary, passes=2, workers=2)\n",
        "for idx, topic in lda_model.print_topics(-1):\n",
        "  print('Topic: {} \\nWords: {}'.format(idx, topic))"
      ],
      "execution_count": 13,
      "outputs": [
        {
          "output_type": "stream",
          "text": [
            "Topic: 0 \n",
            "Words: 0.012*\"cell\" + 0.011*\"infect\" + 0.011*\"viru\" + 0.009*\"protein\" + 0.008*\"viral\" + 0.006*\"human\" + 0.006*\"virus\" + 0.006*\"use\" + 0.006*\"studi\" + 0.005*\"activ\"\n",
            "Topic: 1 \n",
            "Words: 0.014*\"covid19\" + 0.010*\"health\" + 0.009*\"diseas\" + 0.008*\"case\" + 0.007*\"studi\" + 0.007*\"infect\" + 0.006*\"outbreak\" + 0.006*\"model\" + 0.006*\"pandem\" + 0.006*\"use\"\n",
            "Topic: 2 \n",
            "Words: 0.010*\"use\" + 0.009*\"health\" + 0.009*\"covid19\" + 0.008*\"pandem\" + 0.007*\"care\" + 0.006*\"provid\" + 0.006*\"develop\" + 0.006*\"diseas\" + 0.005*\"system\" + 0.005*\"research\"\n",
            "Topic: 3 \n",
            "Words: 0.029*\"patient\" + 0.015*\"covid19\" + 0.011*\"respiratori\" + 0.011*\"infect\" + 0.008*\"sever\" + 0.008*\"diseas\" + 0.008*\"clinic\" + 0.008*\"studi\" + 0.006*\"case\" + 0.006*\"test\"\n",
            "Topic: 4 \n",
            "Words: 0.057*\"de\" + 0.026*\"la\" + 0.021*\"le\" + 0.017*\"et\" + 0.015*\"en\" + 0.011*\"l\" + 0.009*\"d\" + 0.008*\"à\" + 0.008*\"un\" + 0.007*\"une\"\n"
          ],
          "name": "stdout"
        }
      ]
    },
    {
      "cell_type": "markdown",
      "metadata": {
        "id": "bUGxeKYmYC8z"
      },
      "source": [
        "**Number of Topics=6**"
      ]
    },
    {
      "cell_type": "code",
      "metadata": {
        "id": "LYPcrRABXMJj",
        "outputId": "24ad10ab-0a35-4d06-fe4b-a92f3a1b75aa",
        "colab": {
          "base_uri": "https://localhost:8080/"
        }
      },
      "source": [
        "lda_model = gensim.models.LdaMulticore(doc_term_matrix, num_topics=6, id2word=dictionary, passes=2, workers=2)\n",
        "for idx, topic in lda_model.print_topics(-1):\n",
        "  print('Topic: {} \\nWords: {}'.format(idx, topic))"
      ],
      "execution_count": 14,
      "outputs": [
        {
          "output_type": "stream",
          "text": [
            "Topic: 0 \n",
            "Words: 0.013*\"health\" + 0.012*\"covid19\" + 0.009*\"pandem\" + 0.008*\"diseas\" + 0.007*\"use\" + 0.005*\"model\" + 0.005*\"public\" + 0.005*\"data\" + 0.005*\"provid\" + 0.005*\"outbreak\"\n",
            "Topic: 1 \n",
            "Words: 0.027*\"patient\" + 0.016*\"covid19\" + 0.008*\"studi\" + 0.008*\"care\" + 0.008*\"hospit\" + 0.008*\"p\" + 0.007*\"risk\" + 0.007*\"result\" + 0.006*\"95\" + 0.006*\"ci\"\n",
            "Topic: 2 \n",
            "Words: 0.017*\"cell\" + 0.013*\"protein\" + 0.011*\"infect\" + 0.008*\"viru\" + 0.008*\"viral\" + 0.008*\"activ\" + 0.007*\"immun\" + 0.007*\"express\" + 0.006*\"respons\" + 0.005*\"studi\"\n",
            "Topic: 3 \n",
            "Words: 0.028*\"patient\" + 0.016*\"covid19\" + 0.015*\"infect\" + 0.015*\"respiratori\" + 0.012*\"sever\" + 0.012*\"diseas\" + 0.010*\"clinic\" + 0.009*\"case\" + 0.008*\"acut\" + 0.008*\"coronaviru\"\n",
            "Topic: 4 \n",
            "Words: 0.036*\"de\" + 0.015*\"la\" + 0.014*\"le\" + 0.011*\"et\" + 0.009*\"en\" + 0.007*\"l\" + 0.006*\"use\" + 0.006*\"d\" + 0.006*\"patient\" + 0.005*\"à\"\n",
            "Topic: 5 \n",
            "Words: 0.012*\"viru\" + 0.010*\"detect\" + 0.009*\"virus\" + 0.009*\"use\" + 0.008*\"sampl\" + 0.007*\"infect\" + 0.007*\"studi\" + 0.007*\"sequenc\" + 0.006*\"human\" + 0.006*\"test\"\n"
          ],
          "name": "stdout"
        }
      ]
    },
    {
      "cell_type": "markdown",
      "metadata": {
        "id": "gBPIFHGMY-Ke"
      },
      "source": [
        "**Number of Topics=7**"
      ]
    },
    {
      "cell_type": "code",
      "metadata": {
        "id": "2SV8gxXuYFrm",
        "outputId": "6cbd89f6-0d14-4613-e5ad-bbec7d5ba3a2",
        "colab": {
          "base_uri": "https://localhost:8080/"
        }
      },
      "source": [
        "lda_model = gensim.models.LdaMulticore(doc_term_matrix, num_topics=7, id2word=dictionary, passes=2, workers=2)\n",
        "for idx, topic in lda_model.print_topics(-1):\n",
        "  print('Topic: {} \\nWords: {}'.format(idx, topic))\n"
      ],
      "execution_count": 15,
      "outputs": [
        {
          "output_type": "stream",
          "text": [
            "Topic: 0 \n",
            "Words: 0.017*\"patient\" + 0.016*\"diseas\" + 0.016*\"covid19\" + 0.015*\"infect\" + 0.013*\"sever\" + 0.009*\"respiratori\" + 0.008*\"acut\" + 0.008*\"clinic\" + 0.007*\"sarscov2\" + 0.007*\"coronaviru\"\n",
            "Topic: 1 \n",
            "Words: 0.016*\"infect\" + 0.015*\"respiratori\" + 0.013*\"viru\" + 0.012*\"detect\" + 0.010*\"test\" + 0.009*\"viral\" + 0.009*\"virus\" + 0.009*\"sampl\" + 0.009*\"patient\" + 0.008*\"influenza\"\n",
            "Topic: 2 \n",
            "Words: 0.011*\"health\" + 0.010*\"diseas\" + 0.008*\"covid19\" + 0.006*\"pandem\" + 0.006*\"public\" + 0.006*\"use\" + 0.006*\"outbreak\" + 0.005*\"develop\" + 0.005*\"data\" + 0.005*\"research\"\n",
            "Topic: 3 \n",
            "Words: 0.025*\"patient\" + 0.015*\"covid19\" + 0.012*\"studi\" + 0.009*\"p\" + 0.007*\"hospit\" + 0.007*\"associ\" + 0.007*\"group\" + 0.007*\"age\" + 0.007*\"result\" + 0.007*\"95\"\n",
            "Topic: 4 \n",
            "Words: 0.013*\"use\" + 0.008*\"model\" + 0.007*\"studi\" + 0.006*\"effect\" + 0.005*\"result\" + 0.005*\"method\" + 0.005*\"differ\" + 0.003*\"also\" + 0.003*\"show\" + 0.003*\"develop\"\n",
            "Topic: 5 \n",
            "Words: 0.019*\"covid19\" + 0.017*\"patient\" + 0.013*\"care\" + 0.013*\"pandem\" + 0.011*\"health\" + 0.007*\"use\" + 0.006*\"manag\" + 0.006*\"provid\" + 0.006*\"medic\" + 0.006*\"healthcar\"\n",
            "Topic: 6 \n",
            "Words: 0.017*\"protein\" + 0.016*\"cell\" + 0.014*\"de\" + 0.010*\"viru\" + 0.009*\"viral\" + 0.008*\"infect\" + 0.007*\"activ\" + 0.006*\"express\" + 0.006*\"la\" + 0.006*\"rna\"\n"
          ],
          "name": "stdout"
        }
      ]
    },
    {
      "cell_type": "code",
      "metadata": {
        "id": "nx9H8iQaaJtU",
        "outputId": "4ce062ed-df57-4a8c-8b78-c7dfdf001686",
        "colab": {
          "base_uri": "https://localhost:8080/"
        }
      },
      "source": [
        "#Trying for number of passes=50 to get even better results.\n",
        "lda_model = gensim.models.LdaMulticore(doc_term_matrix, num_topics=7, id2word=dictionary, passes=50, workers=2)\n",
        "for idx, topic in lda_model.print_topics(-1):\n",
        "  print('Topic: {} \\nWords: {}'.format(idx, topic))"
      ],
      "execution_count": 16,
      "outputs": [
        {
          "output_type": "stream",
          "text": [
            "Topic: 0 \n",
            "Words: 0.012*\"model\" + 0.010*\"use\" + 0.008*\"data\" + 0.007*\"case\" + 0.006*\"covid19\" + 0.006*\"studi\" + 0.006*\"number\" + 0.006*\"result\" + 0.005*\"epidem\" + 0.005*\"countri\"\n",
            "Topic: 1 \n",
            "Words: 0.030*\"patient\" + 0.019*\"covid19\" + 0.013*\"studi\" + 0.009*\"p\" + 0.009*\"group\" + 0.008*\"associ\" + 0.007*\"hospit\" + 0.007*\"risk\" + 0.007*\"age\" + 0.007*\"result\"\n",
            "Topic: 2 \n",
            "Words: 0.022*\"cell\" + 0.014*\"infect\" + 0.010*\"immun\" + 0.009*\"activ\" + 0.009*\"respons\" + 0.008*\"express\" + 0.007*\"effect\" + 0.006*\"diseas\" + 0.006*\"viral\" + 0.005*\"mechan\"\n",
            "Topic: 3 \n",
            "Words: 0.014*\"viru\" + 0.012*\"protein\" + 0.009*\"vaccin\" + 0.008*\"use\" + 0.008*\"virus\" + 0.008*\"viral\" + 0.007*\"human\" + 0.007*\"sequenc\" + 0.006*\"rna\" + 0.006*\"studi\"\n",
            "Topic: 4 \n",
            "Words: 0.017*\"covid19\" + 0.016*\"health\" + 0.013*\"pandem\" + 0.009*\"diseas\" + 0.009*\"care\" + 0.007*\"use\" + 0.006*\"patient\" + 0.006*\"provid\" + 0.006*\"emerg\" + 0.006*\"public\"\n",
            "Topic: 5 \n",
            "Words: 0.061*\"de\" + 0.028*\"la\" + 0.022*\"le\" + 0.018*\"et\" + 0.016*\"en\" + 0.012*\"l\" + 0.010*\"patient\" + 0.010*\"d\" + 0.008*\"à\" + 0.008*\"un\"\n",
            "Topic: 6 \n",
            "Words: 0.022*\"infect\" + 0.021*\"respiratori\" + 0.019*\"patient\" + 0.013*\"case\" + 0.011*\"diseas\" + 0.011*\"sarscov2\" + 0.010*\"test\" + 0.010*\"sever\" + 0.010*\"covid19\" + 0.010*\"coronaviru\"\n"
          ],
          "name": "stdout"
        }
      ]
    },
    {
      "cell_type": "markdown",
      "metadata": {
        "id": "9OQqXg1dZEnt"
      },
      "source": [
        "**Number of Topics=8**"
      ]
    },
    {
      "cell_type": "code",
      "metadata": {
        "id": "uBPb2BiuZFsr",
        "outputId": "d586de1e-1323-4859-8a7a-8f862edc2f8e",
        "colab": {
          "base_uri": "https://localhost:8080/"
        }
      },
      "source": [
        "lda_model = gensim.models.LdaMulticore(doc_term_matrix, num_topics=8, id2word=dictionary, passes=13, workers=2)\n",
        "for idx, topic in lda_model.print_topics(-1):\n",
        "    print('Topic: {} \\nWords: {}'.format(idx, topic))"
      ],
      "execution_count": 17,
      "outputs": [
        {
          "output_type": "stream",
          "text": [
            "Topic: 0 \n",
            "Words: 0.018*\"infect\" + 0.017*\"diseas\" + 0.012*\"sever\" + 0.011*\"covid19\" + 0.011*\"respiratori\" + 0.011*\"treatment\" + 0.011*\"sarscov2\" + 0.009*\"patient\" + 0.009*\"coronaviru\" + 0.008*\"acut\"\n",
            "Topic: 1 \n",
            "Words: 0.017*\"protein\" + 0.016*\"cell\" + 0.010*\"viru\" + 0.008*\"viral\" + 0.008*\"activ\" + 0.007*\"use\" + 0.006*\"express\" + 0.006*\"gene\" + 0.006*\"rna\" + 0.006*\"infect\"\n",
            "Topic: 2 \n",
            "Words: 0.015*\"infect\" + 0.015*\"detect\" + 0.014*\"viru\" + 0.013*\"respiratori\" + 0.011*\"sampl\" + 0.011*\"test\" + 0.010*\"influenza\" + 0.009*\"virus\" + 0.009*\"viral\" + 0.007*\"use\"\n",
            "Topic: 3 \n",
            "Words: 0.039*\"patient\" + 0.019*\"covid19\" + 0.011*\"case\" + 0.009*\"hospit\" + 0.009*\"studi\" + 0.008*\"sever\" + 0.008*\"diseas\" + 0.007*\"clinic\" + 0.007*\"day\" + 0.007*\"p\"\n",
            "Topic: 4 \n",
            "Words: 0.013*\"model\" + 0.010*\"transmiss\" + 0.009*\"human\" + 0.008*\"merscov\" + 0.007*\"bat\" + 0.007*\"studi\" + 0.006*\"use\" + 0.006*\"infect\" + 0.006*\"anim\" + 0.005*\"result\"\n",
            "Topic: 5 \n",
            "Words: 0.012*\"care\" + 0.012*\"patient\" + 0.011*\"covid19\" + 0.010*\"use\" + 0.009*\"pandem\" + 0.009*\"health\" + 0.008*\"studi\" + 0.007*\"risk\" + 0.006*\"result\" + 0.006*\"particip\"\n",
            "Topic: 6 \n",
            "Words: 0.068*\"de\" + 0.031*\"la\" + 0.025*\"le\" + 0.021*\"et\" + 0.018*\"en\" + 0.012*\"l\" + 0.011*\"d\" + 0.010*\"à\" + 0.009*\"un\" + 0.008*\"une\"\n",
            "Topic: 7 \n",
            "Words: 0.014*\"health\" + 0.014*\"covid19\" + 0.010*\"diseas\" + 0.009*\"pandem\" + 0.007*\"use\" + 0.007*\"public\" + 0.006*\"develop\" + 0.006*\"countri\" + 0.006*\"data\" + 0.006*\"case\"\n"
          ],
          "name": "stdout"
        }
      ]
    },
    {
      "cell_type": "code",
      "metadata": {
        "id": "-dzzq-mLY9bz",
        "outputId": "c5e46c0b-417a-4bae-d52d-ec5022dda58c",
        "colab": {
          "base_uri": "https://localhost:8080/",
          "height": 279
        }
      },
      "source": [
        "from gensim.models.coherencemodel import CoherenceModel\n",
        "def compute_coherence_values(dictionary, corpus, texts, limit, start=2, step=3):\n",
        "    \"\"\"\n",
        "    Compute c_v coherence for various number of topics\n",
        "\n",
        "    Parameters:\n",
        "    ----------\n",
        "    dictionary : Gensim dictionary\n",
        "    corpus : Gensim corpus\n",
        "    texts : List of input texts\n",
        "    limit : Max num of topics\n",
        "\n",
        "    Returns:\n",
        "    -------\n",
        "    model_list : List of LDA topic models\n",
        "    coherence_values : Coherence values corresponding to the LDA model with respective number of topics\n",
        "    \"\"\"\n",
        "    coherence_values = []\n",
        "    model_list = []\n",
        "    for num_topics in range(start, limit, step):\n",
        "        model=gensim.models.LdaMulticore(corpus=doc_term_matrix, num_topics=num_topics, id2word=dictionary, passes=1, workers=2)\n",
        "        #model=LdaModel(corpus=corpus, id2word=dictionary, num_topics=num_topics)\n",
        "        model_list.append(model)\n",
        "        coherencemodel = CoherenceModel(model=model, texts=texts, dictionary=dictionary, coherence='c_v')\n",
        "        coherence_values.append(coherencemodel.get_coherence())\n",
        "\n",
        "    return model_list, coherence_values\n",
        "\n",
        "model_list, coherence_values = compute_coherence_values(dictionary=dictionary, corpus=doc_term_matrix, texts=text, start=7, limit=12, step=1)\n",
        "# Show graph\n",
        "import matplotlib.pyplot as plt\n",
        "limit=12; start=7; step=1;\n",
        "x = range(start, limit, step)\n",
        "plt.plot(x, coherence_values)\n",
        "plt.xlabel(\"Num Topics\")\n",
        "plt.ylabel(\"Coherence score\")\n",
        "plt.legend((\"coherence_values\"), loc='best')\n",
        "plt.show()"
      ],
      "execution_count": 18,
      "outputs": [
        {
          "output_type": "display_data",
          "data": {
            "image/png": "[encoded data removed]",
            "text/plain": [
              "<Figure size 432x288 with 1 Axes>"
            ]
          },
          "metadata": {
            "tags": [],
            "needs_background": "light"
          }
        }
      ]
    },
    {
      "cell_type": "code",
      "metadata": {
        "id": "9KTcsI7qEDmU"
      },
      "source": [
        ""
      ],
      "execution_count": 18,
      "outputs": []
    }
  ]
}