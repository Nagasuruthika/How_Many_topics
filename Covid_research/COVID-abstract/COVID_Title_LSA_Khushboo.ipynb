{
  "nbformat": 4,
  "nbformat_minor": 0,
  "metadata": {
    "colab": {
      "name": "COVID-Title-LSA-Khushboo.ipynb",
      "provenance": []
    },
    "kernelspec": {
      "name": "python3",
      "display_name": "Python 3"
    },
    "accelerator": "GPU"
  },
  "cells": [
    {
      "cell_type": "code",
      "metadata": {
        "id": "0-S46knhSSy0",
        "outputId": "b6861af8-f853-4480-9a10-7151de2c1c66",
        "colab": {
          "base_uri": "https://localhost:8080/"
        }
      },
      "source": [
        "import nltk\n",
        "nltk.download(\"stopwords\")\n",
        "nltk.download(\"wordnet\")\n",
        "nltk.download(\"punkt\")\n",
        "from nltk.tokenize import RegexpTokenizer\n",
        "from nltk.corpus import stopwords\n",
        "from nltk.stem.wordnet import WordNetLemmatizer\n",
        "stop = set(stopwords.words('english'))\n",
        "from nltk.stem.porter import PorterStemmer\n",
        "from gensim import corpora, models\n",
        "import gensim\n",
        "import string\n",
        "exclude = set(string.punctuation)\n",
        "lemma = WordNetLemmatizer()"
      ],
      "execution_count": 1,
      "outputs": [
        {
          "output_type": "stream",
          "text": [
            "[nltk_data] Downloading package stopwords to /root/nltk_data...\n",
            "[nltk_data]   Unzipping corpora/stopwords.zip.\n",
            "[nltk_data] Downloading package wordnet to /root/nltk_data...\n",
            "[nltk_data]   Unzipping corpora/wordnet.zip.\n",
            "[nltk_data] Downloading package punkt to /root/nltk_data...\n",
            "[nltk_data]   Unzipping tokenizers/punkt.zip.\n"
          ],
          "name": "stdout"
        }
      ]
    },
    {
      "cell_type": "code",
      "metadata": {
        "id": "X4e44u4STwkm"
      },
      "source": [
        "import csv\n",
        "from csv import reader\n",
        "tit = []\n",
        "with open(\"/content/drive/My Drive/topic modelling dataset/COVID-19_title.csv\", 'r') as read_obj:\n",
        "    # pass the file object to reader() to get the reader object\n",
        "    csv_reader = reader(read_obj)\n",
        "    # Iterate over each row in the csv using reader object\n",
        "    for row in csv_reader:\n",
        "        # row variable is a list that represents a row in csv\n",
        "        tit.append(row)\n",
        "        "
      ],
      "execution_count": 3,
      "outputs": []
    },
    {
      "cell_type": "code",
      "metadata": {
        "id": "i4ijInqHTz7h"
      },
      "source": [
        "val = []\n",
        "for i in tit:\n",
        "  val.append(i[0])"
      ],
      "execution_count": 4,
      "outputs": []
    },
    {
      "cell_type": "code",
      "metadata": {
        "id": "QE7GPnWfUD8w",
        "outputId": "08065950-070b-48ab-d702-a53b9e1d006d",
        "colab": {
          "base_uri": "https://localhost:8080/"
        }
      },
      "source": [
        "print(val[:5])"
      ],
      "execution_count": 5,
      "outputs": [
        {
          "output_type": "stream",
          "text": [
            "['clinical features culture-proven mycoplasma pneumoniae infections king abdulaziz university hospital jeddah saudi arabia', 'nitric oxide pro-inflammatory mediator lung diseas', 'surfactant protein-d pulmonary host defens', 'role endothelin-1 lung diseas', 'gene expression epithelial cells response pneumovirus infect']\n"
          ],
          "name": "stdout"
        }
      ]
    },
    {
      "cell_type": "markdown",
      "metadata": {
        "id": "aSdr02O3UMTZ"
      },
      "source": [
        "Generating a document term matrix"
      ]
    },
    {
      "cell_type": "code",
      "metadata": {
        "id": "2WOEJq03UFnI",
        "outputId": "2a7a6c07-bed4-482e-fed4-205186d72900",
        "colab": {
          "base_uri": "https://localhost:8080/"
        }
      },
      "source": [
        "from sklearn.feature_extraction.text import TfidfVectorizer\n",
        "\n",
        "# keep top 1000 terms\n",
        "vectorizer = TfidfVectorizer(stop_words='english', max_features= 1000,  max_df = 0.5, smooth_idf=True)\n",
        "X = vectorizer.fit_transform(val)\n",
        "\n",
        "X.shape"
      ],
      "execution_count": 6,
      "outputs": [
        {
          "output_type": "execute_result",
          "data": {
            "text/plain": [
              "(242108, 1000)"
            ]
          },
          "metadata": {
            "tags": []
          },
          "execution_count": 6
        }
      ]
    },
    {
      "cell_type": "markdown",
      "metadata": {
        "id": "puS3WXBCU6Yd"
      },
      "source": [
        "Topic Modeling"
      ]
    },
    {
      "cell_type": "code",
      "metadata": {
        "id": "UW7WjEATUftU",
        "outputId": "2e52f19f-41eb-4842-a761-2be2ca24e079",
        "colab": {
          "base_uri": "https://localhost:8080/"
        }
      },
      "source": [
        "#represent each and every term and document as a vector\n",
        "\n",
        "from sklearn.decomposition import TruncatedSVD\n",
        "\n",
        "# TruncatedSVD is used to perform the task of matrix decomposition\n",
        "#trying out with 8 topics \n",
        "svd_model = TruncatedSVD(n_components=8, algorithm='randomized', n_iter=100, random_state=122)\n",
        "\n",
        "svd_model.fit(X)\n",
        "\n",
        "len(svd_model.components_)"
      ],
      "execution_count": 7,
      "outputs": [
        {
          "output_type": "execute_result",
          "data": {
            "text/plain": [
              "8"
            ]
          },
          "metadata": {
            "tags": []
          },
          "execution_count": 7
        }
      ]
    },
    {
      "cell_type": "code",
      "metadata": {
        "id": "XgJihYc-VRwd",
        "outputId": "d8c11604-1d15-4830-bb6c-dc63a39fc611",
        "colab": {
          "base_uri": "https://localhost:8080/"
        }
      },
      "source": [
        "#components of svd_model are our actual topics. \n",
        "\n",
        "terms = vectorizer.get_feature_names()\n",
        "\n",
        "for i, comp in enumerate(svd_model.components_):\n",
        "    terms_comp = zip(terms, comp)\n",
        "    sorted_terms = sorted(terms_comp, key= lambda x:x[1], reverse=True)[:7]\n",
        "    print(\"Topic \"+str(i)+\": \")\n",
        "    for t in sorted_terms:\n",
        "        print(t[0],end=\" \")\n",
        "    print()\n",
        "        "
      ],
      "execution_count": 9,
      "outputs": [
        {
          "output_type": "stream",
          "text": [
            "Topic 0: \n",
            "covid 19 pandem pandemic patients coronavirus disease \n",
            "Topic 1: \n",
            "sars cov coronavirus disease 2019 respiratory infection \n",
            "Topic 2: \n",
            "coronavirus disease 2019 novel respiratory acute syndrome \n",
            "Topic 3: \n",
            "virus respiratory acute syndrome severe viral patients \n",
            "Topic 4: \n",
            "health pandemic pandem public care virus mental \n",
            "Topic 5: \n",
            "pandem respiratory acute syndrome severe care management \n",
            "Topic 6: \n",
            "virus influenza disease protein infectious human pandem \n",
            "Topic 7: \n",
            "patients review clinical systematic disease meta analysi \n"
          ],
          "name": "stdout"
        }
      ]
    },
    {
      "cell_type": "code",
      "metadata": {
        "id": "v2oSzEhxVjCw",
        "outputId": "6adad45f-2c25-4ef4-d4ff-b6c1fc9fe2ae",
        "colab": {
          "base_uri": "https://localhost:8080/"
        }
      },
      "source": [
        "from sklearn.decomposition import TruncatedSVD\n",
        "\n",
        "#trying out with 7 topics \n",
        "svd_model = TruncatedSVD(n_components=7, algorithm='randomized', n_iter=100, random_state=122)\n",
        "\n",
        "svd_model.fit(X)\n"
      ],
      "execution_count": 12,
      "outputs": [
        {
          "output_type": "execute_result",
          "data": {
            "text/plain": [
              "TruncatedSVD(algorithm='randomized', n_components=7, n_iter=100,\n",
              "             random_state=122, tol=0.0)"
            ]
          },
          "metadata": {
            "tags": []
          },
          "execution_count": 12
        }
      ]
    },
    {
      "cell_type": "code",
      "metadata": {
        "id": "y5rmmNEGWLsz",
        "outputId": "9d44553a-0f29-4ab2-8f5d-87fd3d2b3114",
        "colab": {
          "base_uri": "https://localhost:8080/"
        }
      },
      "source": [
        "terms = vectorizer.get_feature_names()\n",
        "\n",
        "for i, comp in enumerate(svd_model.components_):\n",
        "    terms_comp = zip(terms, comp)\n",
        "    sorted_terms = sorted(terms_comp, key= lambda x:x[1], reverse=True)[:7]\n",
        "    print(\"Topic \"+str(i)+\": \")\n",
        "    for t in sorted_terms:\n",
        "        print(t[0],end=\" \")\n",
        "    print()"
      ],
      "execution_count": 13,
      "outputs": [
        {
          "output_type": "stream",
          "text": [
            "Topic 0: \n",
            "covid 19 pandem pandemic patients coronavirus disease \n",
            "Topic 1: \n",
            "sars cov coronavirus disease 2019 respiratory infection \n",
            "Topic 2: \n",
            "coronavirus disease 2019 novel respiratory acute syndrome \n",
            "Topic 3: \n",
            "virus respiratory acute syndrome severe viral patients \n",
            "Topic 4: \n",
            "health pandemic pandem public care virus mental \n",
            "Topic 5: \n",
            "pandem respiratory acute syndrome severe care management \n",
            "Topic 6: \n",
            "virus influenza disease protein infectious human pandem \n"
          ],
          "name": "stdout"
        }
      ]
    },
    {
      "cell_type": "code",
      "metadata": {
        "id": "J9vO6JzMWQPS",
        "outputId": "72d6e544-44bc-4e3b-f912-c431956e69db",
        "colab": {
          "base_uri": "https://localhost:8080/"
        }
      },
      "source": [
        "from sklearn.decomposition import TruncatedSVD\n",
        "\n",
        "#trying out with 11 topics \n",
        "svd_model = TruncatedSVD(n_components=11, algorithm='randomized', n_iter=100, random_state=122)\n",
        "\n",
        "svd_model.fit(X)"
      ],
      "execution_count": 14,
      "outputs": [
        {
          "output_type": "execute_result",
          "data": {
            "text/plain": [
              "TruncatedSVD(algorithm='randomized', n_components=11, n_iter=100,\n",
              "             random_state=122, tol=0.0)"
            ]
          },
          "metadata": {
            "tags": []
          },
          "execution_count": 14
        }
      ]
    },
    {
      "cell_type": "code",
      "metadata": {
        "id": "Ya_g-bbqWmfk",
        "outputId": "4234d449-7c02-47e8-94be-a05fa3605ff2",
        "colab": {
          "base_uri": "https://localhost:8080/"
        }
      },
      "source": [
        "terms = vectorizer.get_feature_names()\n",
        "\n",
        "for i, comp in enumerate(svd_model.components_):\n",
        "    terms_comp = zip(terms, comp)\n",
        "    sorted_terms = sorted(terms_comp, key= lambda x:x[1], reverse=True)[:7]\n",
        "    print(\"Topic \"+str(i)+\": \")\n",
        "    for t in sorted_terms:\n",
        "        print(t[0],end=\" \")\n",
        "    print()"
      ],
      "execution_count": 15,
      "outputs": [
        {
          "output_type": "stream",
          "text": [
            "Topic 0: \n",
            "covid 19 pandem pandemic patients coronavirus disease \n",
            "Topic 1: \n",
            "sars cov coronavirus disease 2019 respiratory infection \n",
            "Topic 2: \n",
            "coronavirus disease 2019 novel respiratory acute syndrome \n",
            "Topic 3: \n",
            "virus respiratory acute syndrome severe viral patients \n",
            "Topic 4: \n",
            "health pandemic pandem public care virus mental \n",
            "Topic 5: \n",
            "pandem respiratory acute syndrome severe care management \n",
            "Topic 6: \n",
            "virus influenza disease protein infectious human pandem \n",
            "Topic 7: \n",
            "patients review clinical systematic disease meta analysi \n",
            "Topic 8: \n",
            "pandemic pandem impact management patients influenza surgery \n",
            "Topic 9: \n",
            "review systematic meta analysi case report treatment \n",
            "Topic 10: \n",
            "disease 2019 virus acute respiratory severe syndrome \n"
          ],
          "name": "stdout"
        }
      ]
    },
    {
      "cell_type": "markdown",
      "metadata": {
        "id": "FgCJTfVPX5SK"
      },
      "source": [
        "Changing the number of Max features in Document Term Matrix"
      ]
    },
    {
      "cell_type": "code",
      "metadata": {
        "id": "f4euW_yfW0pP",
        "outputId": "06a74f0d-b053-45cc-fd21-0ea3c14e47ca",
        "colab": {
          "base_uri": "https://localhost:8080/"
        }
      },
      "source": [
        "from sklearn.feature_extraction.text import TfidfVectorizer\n",
        "\n",
        "# keep top 1000 terms\n",
        "vectorizer = TfidfVectorizer(stop_words='english', max_features= 10000,  max_df = 0.5, smooth_idf=True)\n",
        "X = vectorizer.fit_transform(val)\n",
        "\n",
        "X.shape"
      ],
      "execution_count": 16,
      "outputs": [
        {
          "output_type": "execute_result",
          "data": {
            "text/plain": [
              "(242108, 10000)"
            ]
          },
          "metadata": {
            "tags": []
          },
          "execution_count": 16
        }
      ]
    },
    {
      "cell_type": "code",
      "metadata": {
        "id": "uifFibVFYC-M",
        "outputId": "da9b0af7-e2e1-4a48-fe83-3e22c02e9f75",
        "colab": {
          "base_uri": "https://localhost:8080/"
        }
      },
      "source": [
        "#represent each and every term and document as a vector\n",
        "\n",
        "from sklearn.decomposition import TruncatedSVD\n",
        "\n",
        "# TruncatedSVD is used to perform the task of matrix decomposition\n",
        "#trying out with 8 topics \n",
        "svd_model = TruncatedSVD(n_components=8, algorithm='randomized', n_iter=100, random_state=122)\n",
        "\n",
        "svd_model.fit(X)"
      ],
      "execution_count": 17,
      "outputs": [
        {
          "output_type": "execute_result",
          "data": {
            "text/plain": [
              "TruncatedSVD(algorithm='randomized', n_components=8, n_iter=100,\n",
              "             random_state=122, tol=0.0)"
            ]
          },
          "metadata": {
            "tags": []
          },
          "execution_count": 17
        }
      ]
    },
    {
      "cell_type": "code",
      "metadata": {
        "id": "auWCcJviYKat",
        "outputId": "dca29dd1-c7c7-460c-c902-d2608d66c8d1",
        "colab": {
          "base_uri": "https://localhost:8080/"
        }
      },
      "source": [
        "#components of svd_model are our actual topics. \n",
        "\n",
        "terms = vectorizer.get_feature_names()\n",
        "\n",
        "for i, comp in enumerate(svd_model.components_):\n",
        "    terms_comp = zip(terms, comp)\n",
        "    sorted_terms = sorted(terms_comp, key= lambda x:x[1], reverse=True)[:7]\n",
        "    print(\"Topic \"+str(i)+\": \")\n",
        "    for t in sorted_terms:\n",
        "        print(t[0],end=\" \")\n",
        "    print()\n",
        "\n",
        "#almost the same results were observed"
      ],
      "execution_count": 19,
      "outputs": [
        {
          "output_type": "stream",
          "text": [
            "Topic 0: \n",
            "covid 19 pandem patients coronavirus pandemic disease \n",
            "Topic 1: \n",
            "coronavirus sars cov 2019 disease respiratory acute \n",
            "Topic 2: \n",
            "sars cov infection covid 19 infect potential \n",
            "Topic 3: \n",
            "respiratory acute syndrome severe virus viral infections \n",
            "Topic 4: \n",
            "health pandemic public care mental virus global \n",
            "Topic 5: \n",
            "pandem coronavirus syndrome acute respiratory severe sars \n",
            "Topic 6: \n",
            "virus pandem influenza human protein infectious infect \n",
            "Topic 7: \n",
            "pandem patients review systematic clinical care meta \n"
          ],
          "name": "stdout"
        }
      ]
    },
    {
      "cell_type": "markdown",
      "metadata": {
        "id": "Uf4ktkoKYY8Y"
      },
      "source": [
        "Changing the Max features to a very high value"
      ]
    },
    {
      "cell_type": "code",
      "metadata": {
        "id": "3AwitEhqYR9V",
        "outputId": "a3f3b9b4-a979-4b0c-9d9d-aef623a37660",
        "colab": {
          "base_uri": "https://localhost:8080/"
        }
      },
      "source": [
        "from sklearn.feature_extraction.text import TfidfVectorizer\n",
        "\n",
        "# keep top 1000 terms\n",
        "vectorizer = TfidfVectorizer(stop_words='english', max_features= 150000,  max_df = 0.5, smooth_idf=True)\n",
        "X = vectorizer.fit_transform(val)\n",
        "\n",
        "X.shape"
      ],
      "execution_count": 20,
      "outputs": [
        {
          "output_type": "execute_result",
          "data": {
            "text/plain": [
              "(242108, 75177)"
            ]
          },
          "metadata": {
            "tags": []
          },
          "execution_count": 20
        }
      ]
    },
    {
      "cell_type": "code",
      "metadata": {
        "id": "yAi1T7C0YflD",
        "outputId": "b7433420-1451-4cd6-e124-6f3bb791da1a",
        "colab": {
          "base_uri": "https://localhost:8080/"
        }
      },
      "source": [
        "#represent each and every term and document as a vector\n",
        "\n",
        "from sklearn.decomposition import TruncatedSVD\n",
        "\n",
        "# TruncatedSVD is used to perform the task of matrix decomposition\n",
        "#trying out with 8 topics \n",
        "svd_model = TruncatedSVD(n_components=8, algorithm='randomized', n_iter=100, random_state=122)\n",
        "\n",
        "svd_model.fit(X)"
      ],
      "execution_count": 21,
      "outputs": [
        {
          "output_type": "execute_result",
          "data": {
            "text/plain": [
              "TruncatedSVD(algorithm='randomized', n_components=8, n_iter=100,\n",
              "             random_state=122, tol=0.0)"
            ]
          },
          "metadata": {
            "tags": []
          },
          "execution_count": 21
        }
      ]
    },
    {
      "cell_type": "code",
      "metadata": {
        "id": "Fg27O4mgYilf",
        "outputId": "721e7e0c-1c9f-4114-8bf7-7966f42b499c",
        "colab": {
          "base_uri": "https://localhost:8080/"
        }
      },
      "source": [
        "#components of svd_model are our actual topics. \n",
        "\n",
        "terms = vectorizer.get_feature_names()\n",
        "\n",
        "for i, comp in enumerate(svd_model.components_):\n",
        "    terms_comp = zip(terms, comp)\n",
        "    sorted_terms = sorted(terms_comp, key= lambda x:x[1], reverse=True)[:7]\n",
        "    print(\"Topic \"+str(i)+\": \")\n",
        "    for t in sorted_terms:\n",
        "        print(t[0],end=\" \")\n",
        "    print()\n",
        "\n",
        "#almost the same results were observed"
      ],
      "execution_count": 22,
      "outputs": [
        {
          "output_type": "stream",
          "text": [
            "Topic 0: \n",
            "covid 19 coronavirus patients pandem disease pandemic \n",
            "Topic 1: \n",
            "coronavirus sars cov respiratory 2019 disease acute \n",
            "Topic 2: \n",
            "sars cov infection infect covid 19 detection \n",
            "Topic 3: \n",
            "respiratory acute syndrome severe virus viral syndrom \n",
            "Topic 4: \n",
            "health public mental care pandemic pandem global \n",
            "Topic 5: \n",
            "review systematic patients virus health meta clinical \n",
            "Topic 6: \n",
            "virus influenza human infectious viral infect protein \n",
            "Topic 7: \n",
            "pandem review systematic virus care patients meta \n"
          ],
          "name": "stdout"
        }
      ]
    },
    {
      "cell_type": "code",
      "metadata": {
        "id": "sch3BT31YqeU",
        "outputId": "dc84518b-0e2e-4521-edd2-711c9024daa2",
        "colab": {
          "base_uri": "https://localhost:8080/"
        }
      },
      "source": [
        "#represent each and every term and document as a vector\n",
        "\n",
        "from sklearn.decomposition import TruncatedSVD\n",
        "\n",
        "# TruncatedSVD is used to perform the task of matrix decomposition\n",
        "#trying out with 11 topics \n",
        "svd_model = TruncatedSVD(n_components=11, algorithm='randomized', n_iter=100, random_state=122)\n",
        "\n",
        "svd_model.fit(X)"
      ],
      "execution_count": 23,
      "outputs": [
        {
          "output_type": "execute_result",
          "data": {
            "text/plain": [
              "TruncatedSVD(algorithm='randomized', n_components=11, n_iter=100,\n",
              "             random_state=122, tol=0.0)"
            ]
          },
          "metadata": {
            "tags": []
          },
          "execution_count": 23
        }
      ]
    },
    {
      "cell_type": "code",
      "metadata": {
        "id": "PMf26QkFY9bu",
        "outputId": "9773a17d-7908-4dd8-8f41-6c92c2e05be8",
        "colab": {
          "base_uri": "https://localhost:8080/"
        }
      },
      "source": [
        "#components of svd_model are our actual topics. \n",
        "\n",
        "terms = vectorizer.get_feature_names()\n",
        "\n",
        "for i, comp in enumerate(svd_model.components_):\n",
        "    terms_comp = zip(terms, comp)\n",
        "    sorted_terms = sorted(terms_comp, key= lambda x:x[1], reverse=True)[:7]\n",
        "    print(\"Topic \"+str(i)+\": \")\n",
        "    for t in sorted_terms:\n",
        "        print(t[0],end=\" \")\n",
        "    print()\n",
        "\n",
        "#almost the same results were observed"
      ],
      "execution_count": 24,
      "outputs": [
        {
          "output_type": "stream",
          "text": [
            "Topic 0: \n",
            "covid 19 coronavirus patients pandem disease pandemic \n",
            "Topic 1: \n",
            "coronavirus sars cov respiratory 2019 disease acute \n",
            "Topic 2: \n",
            "sars cov infection infect covid 19 detection \n",
            "Topic 3: \n",
            "respiratory acute syndrome severe virus viral syndrom \n",
            "Topic 4: \n",
            "health public mental care pandemic pandem global \n",
            "Topic 5: \n",
            "review systematic patients virus health meta clinical \n",
            "Topic 6: \n",
            "virus influenza human infectious viral infect protein \n",
            "Topic 7: \n",
            "pandem review systematic virus care patients meta \n",
            "Topic 8: \n",
            "review systematic meta analysi coronavirus pandemic 19 \n",
            "Topic 9: \n",
            "pandemic pandem care patients influenza impact management \n",
            "Topic 10: \n",
            "clinical novel infection china coronavirus pneumonia pandem \n"
          ],
          "name": "stdout"
        }
      ]
    },
    {
      "cell_type": "code",
      "metadata": {
        "id": "DwYrr0P0ZGS_"
      },
      "source": [
        ""
      ],
      "execution_count": null,
      "outputs": []
    }
  ]
}