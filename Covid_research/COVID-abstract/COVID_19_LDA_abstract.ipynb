{
  "nbformat": 4,
  "nbformat_minor": 0,
  "metadata": {
    "colab": {
      "name": "COVID-19_LDA_abstract.ipynb",
      "provenance": []
    },
    "kernelspec": {
      "name": "python3",
      "display_name": "Python 3"
    }
  },
  "cells": [
    {
      "cell_type": "code",
      "metadata": {
        "id": "oX7oKsyxik6_"
      },
      "source": [
        "import numpy as np\n",
        "import pandas as pd\n",
        "import csv \n",
        "from csv import reader"
      ],
      "execution_count": null,
      "outputs": []
    },
    {
      "cell_type": "code",
      "metadata": {
        "id": "G5Yjuomvjw1H",
        "outputId": "bb8af28e-8a63-4863-ed7e-c83f4444360e",
        "colab": {
          "base_uri": "https://localhost:8080/",
          "height": 34
        }
      },
      "source": [
        "from google.colab import drive\n",
        "drive.mount('/content/drive')"
      ],
      "execution_count": null,
      "outputs": [
        {
          "output_type": "stream",
          "text": [
            "Drive already mounted at /content/drive; to attempt to forcibly remount, call drive.mount(\"/content/drive\", force_remount=True).\n"
          ],
          "name": "stdout"
        }
      ]
    },
    {
      "cell_type": "code",
      "metadata": {
        "id": "kai3ToZ6kebH",
        "outputId": "114c647b-89fe-4226-c73b-925104ff7a15",
        "colab": {
          "base_uri": "https://localhost:8080/",
          "height": 323
        }
      },
      "source": [
        "abstract_data = pd.read_csv(\"/content/drive/My Drive/topic modelling dataset/COVID-19_abstract\")\n",
        "abstract_data.head()"
      ],
      "execution_count": null,
      "outputs": [
        {
          "output_type": "execute_result",
          "data": {
            "text/html": [
              "<div>\n",
              "<style scoped>\n",
              "    .dataframe tbody tr th:only-of-type {\n",
              "        vertical-align: middle;\n",
              "    }\n",
              "\n",
              "    .dataframe tbody tr th {\n",
              "        vertical-align: top;\n",
              "    }\n",
              "\n",
              "    .dataframe thead th {\n",
              "        text-align: right;\n",
              "    }\n",
              "</style>\n",
              "<table border=\"1\" class=\"dataframe\">\n",
              "  <thead>\n",
              "    <tr style=\"text-align: right;\">\n",
              "      <th></th>\n",
              "      <th>object retrospect chart review describ epidemiolog clinic featur 40 patient cultureproven mycoplasma pneumonia infect king abdulaziz univers hospit jeddah saudi arabia method patient posit pneumonia cultur respiratori specimen januari 1997 decemb 1998 identifi microbiolog record chart patient review result 40 patient identifi 33 825 requir admiss infect 925 communityacquir infect affect age group common infant 325 preschool children 225 occur yearround common fall 35 spring 30 threequart patient 775 comorbid twentyfour isol 60 associ pneumonia 14 35 upper respiratori tract infect 2 5 bronchiol cough 825 fever 75 malais 588 common symptom crepit 60 wheez 40 common sign patient pneumonia crepit 792 25 bronchial breath immunocompromis patient like nonimmunocompromis patient present pneumonia 89 versu 1631 p 005 24 patient pneumonia 14 583 unev recoveri 4 167 recov follow complic 3 125 die pneumonia infect 3 125 die due underli comorbid 3 patient die pneumonia pneumonia comorbid conclus result similar publish data except find infect common infant preschool children mortal rate pneumonia patient comorbid high</th>\n",
              "    </tr>\n",
              "  </thead>\n",
              "  <tbody>\n",
              "    <tr>\n",
              "      <th>0</th>\n",
              "      <td>inflammatori diseas respiratori tract commonli...</td>\n",
              "    </tr>\n",
              "    <tr>\n",
              "      <th>1</th>\n",
              "      <td>surfact proteind spd particip innat respons in...</td>\n",
              "    </tr>\n",
              "    <tr>\n",
              "      <th>2</th>\n",
              "      <td>endothelin1 et1 21 amino acid peptid divers bi...</td>\n",
              "    </tr>\n",
              "    <tr>\n",
              "      <th>3</th>\n",
              "      <td>respiratori syncyti viru rsv pneumonia viru mi...</td>\n",
              "    </tr>\n",
              "    <tr>\n",
              "      <th>4</th>\n",
              "      <td>nidoviru subgenom mrna contain leader sequenc ...</td>\n",
              "    </tr>\n",
              "  </tbody>\n",
              "</table>\n",
              "</div>"
            ],
            "text/plain": [
              "  object retrospect chart review describ epidemiolog clinic featur 40 patient cultureproven mycoplasma pneumonia infect king abdulaziz univers hospit jeddah saudi arabia method patient posit pneumonia cultur respiratori specimen januari 1997 decemb 1998 identifi microbiolog record chart patient review result 40 patient identifi 33 825 requir admiss infect 925 communityacquir infect affect age group common infant 325 preschool children 225 occur yearround common fall 35 spring 30 threequart patient 775 comorbid twentyfour isol 60 associ pneumonia 14 35 upper respiratori tract infect 2 5 bronchiol cough 825 fever 75 malais 588 common symptom crepit 60 wheez 40 common sign patient pneumonia crepit 792 25 bronchial breath immunocompromis patient like nonimmunocompromis patient present pneumonia 89 versu 1631 p 005 24 patient pneumonia 14 583 unev recoveri 4 167 recov follow complic 3 125 die pneumonia infect 3 125 die due underli comorbid 3 patient die pneumonia pneumonia comorbid conclus result similar publish data except find infect common infant preschool children mortal rate pneumonia patient comorbid high\n",
              "0  inflammatori diseas respiratori tract commonli...                                                                                                                                                                                                                                                                                                                                                                                                                                                                                                                                                                                                                                                                                                                                                                                                                                                                                                                                                                                                                                                                                                               \n",
              "1  surfact proteind spd particip innat respons in...                                                                                                                                                                                                                                                                                                                                                                                                                                                                                                                                                                                                                                                                                                                                                                                                                                                                                                                                                                                                                                                                                                               \n",
              "2  endothelin1 et1 21 amino acid peptid divers bi...                                                                                                                                                                                                                                                                                                                                                                                                                                                                                                                                                                                                                                                                                                                                                                                                                                                                                                                                                                                                                                                                                                               \n",
              "3  respiratori syncyti viru rsv pneumonia viru mi...                                                                                                                                                                                                                                                                                                                                                                                                                                                                                                                                                                                                                                                                                                                                                                                                                                                                                                                                                                                                                                                                                                               \n",
              "4  nidoviru subgenom mrna contain leader sequenc ...                                                                                                                                                                                                                                                                                                                                                                                                                                                                                                                                                                                                                                                                                                                                                                                                                                                                                                                                                                                                                                                                                                               "
            ]
          },
          "metadata": {
            "tags": []
          },
          "execution_count": 3
        }
      ]
    },
    {
      "cell_type": "code",
      "metadata": {
        "id": "I0tnM78FkxfF",
        "outputId": "e62655f2-2a52-4331-d27f-4b950d4deff4",
        "colab": {
          "base_uri": "https://localhost:8080/",
          "height": 34
        }
      },
      "source": [
        "len(abstract_data.axes[0]),len(abstract_data.axes[1])"
      ],
      "execution_count": null,
      "outputs": [
        {
          "output_type": "execute_result",
          "data": {
            "text/plain": [
              "(171770, 1)"
            ]
          },
          "metadata": {
            "tags": []
          },
          "execution_count": 4
        }
      ]
    },
    {
      "cell_type": "code",
      "metadata": {
        "id": "akanIFCrlSvW",
        "outputId": "8255753d-b476-4ef7-d06b-64268acb1359",
        "colab": {
          "base_uri": "https://localhost:8080/",
          "height": 54
        }
      },
      "source": [
        "abstract_data.columns"
      ],
      "execution_count": null,
      "outputs": [
        {
          "output_type": "execute_result",
          "data": {
            "text/plain": [
              "Index(['object retrospect chart review describ epidemiolog clinic featur 40 patient cultureproven mycoplasma pneumonia infect king abdulaziz univers hospit jeddah saudi arabia method patient posit pneumonia cultur respiratori specimen januari 1997 decemb 1998 identifi microbiolog record chart patient review result 40 patient identifi 33 825 requir admiss infect 925 communityacquir infect affect age group common infant 325 preschool children 225 occur yearround common fall 35 spring 30 threequart patient 775 comorbid twentyfour isol 60 associ pneumonia 14 35 upper respiratori tract infect 2 5 bronchiol cough 825 fever 75 malais 588 common symptom crepit 60 wheez 40 common sign patient pneumonia crepit 792 25 bronchial breath immunocompromis patient like nonimmunocompromis patient present pneumonia 89 versu 1631 p 005 24 patient pneumonia 14 583 unev recoveri 4 167 recov follow complic 3 125 die pneumonia infect 3 125 die due underli comorbid 3 patient die pneumonia pneumonia comorbid conclus result similar publish data except find infect common infant preschool children mortal rate pneumonia patient comorbid high'], dtype='object')"
            ]
          },
          "metadata": {
            "tags": []
          },
          "execution_count": 5
        }
      ]
    },
    {
      "cell_type": "code",
      "metadata": {
        "id": "HgSm6uXgl9p-"
      },
      "source": [
        "abstract_data.columns = ['abstract']"
      ],
      "execution_count": null,
      "outputs": []
    },
    {
      "cell_type": "code",
      "metadata": {
        "id": "GV5ODtkBmgAp",
        "outputId": "dd0bbdcd-ef7d-46e1-cd44-4ef22fc4a4ac",
        "colab": {
          "base_uri": "https://localhost:8080/",
          "height": 204
        }
      },
      "source": [
        "abstract_data.head()"
      ],
      "execution_count": null,
      "outputs": [
        {
          "output_type": "execute_result",
          "data": {
            "text/html": [
              "<div>\n",
              "<style scoped>\n",
              "    .dataframe tbody tr th:only-of-type {\n",
              "        vertical-align: middle;\n",
              "    }\n",
              "\n",
              "    .dataframe tbody tr th {\n",
              "        vertical-align: top;\n",
              "    }\n",
              "\n",
              "    .dataframe thead th {\n",
              "        text-align: right;\n",
              "    }\n",
              "</style>\n",
              "<table border=\"1\" class=\"dataframe\">\n",
              "  <thead>\n",
              "    <tr style=\"text-align: right;\">\n",
              "      <th></th>\n",
              "      <th>abstract</th>\n",
              "    </tr>\n",
              "  </thead>\n",
              "  <tbody>\n",
              "    <tr>\n",
              "      <th>0</th>\n",
              "      <td>inflammatori diseas respiratori tract commonli...</td>\n",
              "    </tr>\n",
              "    <tr>\n",
              "      <th>1</th>\n",
              "      <td>surfact proteind spd particip innat respons in...</td>\n",
              "    </tr>\n",
              "    <tr>\n",
              "      <th>2</th>\n",
              "      <td>endothelin1 et1 21 amino acid peptid divers bi...</td>\n",
              "    </tr>\n",
              "    <tr>\n",
              "      <th>3</th>\n",
              "      <td>respiratori syncyti viru rsv pneumonia viru mi...</td>\n",
              "    </tr>\n",
              "    <tr>\n",
              "      <th>4</th>\n",
              "      <td>nidoviru subgenom mrna contain leader sequenc ...</td>\n",
              "    </tr>\n",
              "  </tbody>\n",
              "</table>\n",
              "</div>"
            ],
            "text/plain": [
              "                                            abstract\n",
              "0  inflammatori diseas respiratori tract commonli...\n",
              "1  surfact proteind spd particip innat respons in...\n",
              "2  endothelin1 et1 21 amino acid peptid divers bi...\n",
              "3  respiratori syncyti viru rsv pneumonia viru mi...\n",
              "4  nidoviru subgenom mrna contain leader sequenc ..."
            ]
          },
          "metadata": {
            "tags": []
          },
          "execution_count": 7
        }
      ]
    },
    {
      "cell_type": "code",
      "metadata": {
        "id": "6LBspMzLmhrv",
        "outputId": "9838c262-fa0b-4555-e022-e4dfb40fcedd",
        "colab": {
          "base_uri": "https://localhost:8080/",
          "height": 119
        }
      },
      "source": [
        "abstract_data['abstract'].head()"
      ],
      "execution_count": null,
      "outputs": [
        {
          "output_type": "execute_result",
          "data": {
            "text/plain": [
              "0    inflammatori diseas respiratori tract commonli...\n",
              "1    surfact proteind spd particip innat respons in...\n",
              "2    endothelin1 et1 21 amino acid peptid divers bi...\n",
              "3    respiratori syncyti viru rsv pneumonia viru mi...\n",
              "4    nidoviru subgenom mrna contain leader sequenc ...\n",
              "Name: abstract, dtype: object"
            ]
          },
          "metadata": {
            "tags": []
          },
          "execution_count": 8
        }
      ]
    },
    {
      "cell_type": "code",
      "metadata": {
        "id": "7ysRGAM0nlQp"
      },
      "source": [
        "abstract = []\n",
        "with open (\"/content/drive/My Drive/topic modelling dataset/COVID-19_abstract\",'r') as read_obj:\n",
        "  csv_reader=reader(read_obj)\n",
        "  for row in csv_reader:\n",
        "    abstract.append(row)\n"
      ],
      "execution_count": null,
      "outputs": []
    },
    {
      "cell_type": "code",
      "metadata": {
        "id": "4Z4_MVXEn_3w",
        "outputId": "b449a580-1b38-460e-d4b8-ce404898c50b",
        "colab": {
          "base_uri": "https://localhost:8080/",
          "height": 122
        }
      },
      "source": [
        "abstract[:5]"
      ],
      "execution_count": null,
      "outputs": [
        {
          "output_type": "execute_result",
          "data": {
            "text/plain": [
              "[['object retrospect chart review describ epidemiolog clinic featur 40 patient cultureproven mycoplasma pneumonia infect king abdulaziz univers hospit jeddah saudi arabia method patient posit pneumonia cultur respiratori specimen januari 1997 decemb 1998 identifi microbiolog record chart patient review result 40 patient identifi 33 825 requir admiss infect 925 communityacquir infect affect age group common infant 325 preschool children 225 occur yearround common fall 35 spring 30 threequart patient 775 comorbid twentyfour isol 60 associ pneumonia 14 35 upper respiratori tract infect 2 5 bronchiol cough 825 fever 75 malais 588 common symptom crepit 60 wheez 40 common sign patient pneumonia crepit 792 25 bronchial breath immunocompromis patient like nonimmunocompromis patient present pneumonia 89 versu 1631 p 005 24 patient pneumonia 14 583 unev recoveri 4 167 recov follow complic 3 125 die pneumonia infect 3 125 die due underli comorbid 3 patient die pneumonia pneumonia comorbid conclus result similar publish data except find infect common infant preschool children mortal rate pneumonia patient comorbid high'],\n",
              " ['inflammatori diseas respiratori tract commonli associ elev product nitric oxid no• increas indic no• depend oxid stress although no• known antimicrobi antiinflammatori antioxid properti variou line evid support contribut no• lung injuri sever diseas model basi biochem evid often presum no• depend oxid due format oxid peroxynitrit although altern mechan involv phagocytederiv heme protein myeloperoxidas eosinophil peroxidas might oper condit inflamm overwhelm literatur no• gener activ respiratori tract would beyond scope commentari review area comprehens instead focus recent evid concept presum contribut no• inflammatori diseas lung'],\n",
              " ['surfact proteind spd particip innat respons inhal microorgan organ antigen contribut immun inflammatori regul within lung spd synthes secret alveolar bronchiolar epitheli cell also express epitheli cell line variou exocrin duct mucosa gastrointestin genitourinari tract spd collagen calciumdepend lectin collectin bind surfac glycoconjug express wide varieti microorgan oligosaccharid associ surfac variou complex organ antigen spd also specif interact glycoconjug molecul express surfac macrophag neutrophil lymphocyt addit spd bind specif surfactantassoci lipid influenc organ lipid mixtur contain phosphatidylinositol vitro consist divers vitro activ observ spddefici transgen mice show abnorm accumul surfact lipid respond abnorm challeng respiratori virus bacteri lipopolysaccharid phenotyp macrophag isol lung spddefici mice alter circumstanti evid abnorm oxid metabol andor increas metalloproteinas express contribut develop emphysema express spd increas respons mani form lung injuri defici accumul appropri oligomer spd might contribut pathogenesi varieti human lung diseas'],\n",
              " ['endothelin1 et1 21 amino acid peptid divers biolog activ implic numer diseas et1 potent mitogen regul smooth muscl tone inflammatori mediat may play key role diseas airway pulmonari circul inflammatori lung diseas acut chronic review focu biolog et1 role lung diseas'],\n",
              " ['respiratori syncyti viru rsv pneumonia viru mice pvm virus famili paramyxovirida subfamili pneumoviru caus clinic import respiratori infect human rodent respect respiratori epitheli target cell respond viral infect specif alter gene express includ product chemoattract cytokin adhes molecul element relat apoptosi respons other remain incomplet understood review current understand mucos respons discuss sever genom approach includ differenti display revers transcriptionpolymeras chain reaction pcr gene array strategi permit us unravel natur respons complet systemat manner']]"
            ]
          },
          "metadata": {
            "tags": []
          },
          "execution_count": 10
        }
      ]
    },
    {
      "cell_type": "code",
      "metadata": {
        "id": "p7UFVRAVoCw3",
        "outputId": "e8daa89b-68f4-4dc0-f02f-f5463d4dacaa",
        "colab": {
          "base_uri": "https://localhost:8080/",
          "height": 34
        }
      },
      "source": [
        "len(abstract)"
      ],
      "execution_count": null,
      "outputs": [
        {
          "output_type": "execute_result",
          "data": {
            "text/plain": [
              "171771"
            ]
          },
          "metadata": {
            "tags": []
          },
          "execution_count": 11
        }
      ]
    },
    {
      "cell_type": "code",
      "metadata": {
        "id": "CYXiKXUmoJ03"
      },
      "source": [
        "abs_final=[]\n",
        "for i in abstract:\n",
        "  abs_final.append(i[0])"
      ],
      "execution_count": null,
      "outputs": []
    },
    {
      "cell_type": "code",
      "metadata": {
        "id": "x7oNXUHioT2K",
        "outputId": "2d8cd83c-7e54-4821-f631-dcbb77a7ce57",
        "colab": {
          "base_uri": "https://localhost:8080/",
          "height": 122
        }
      },
      "source": [
        "abs_final[:5]"
      ],
      "execution_count": null,
      "outputs": [
        {
          "output_type": "execute_result",
          "data": {
            "text/plain": [
              "['object retrospect chart review describ epidemiolog clinic featur 40 patient cultureproven mycoplasma pneumonia infect king abdulaziz univers hospit jeddah saudi arabia method patient posit pneumonia cultur respiratori specimen januari 1997 decemb 1998 identifi microbiolog record chart patient review result 40 patient identifi 33 825 requir admiss infect 925 communityacquir infect affect age group common infant 325 preschool children 225 occur yearround common fall 35 spring 30 threequart patient 775 comorbid twentyfour isol 60 associ pneumonia 14 35 upper respiratori tract infect 2 5 bronchiol cough 825 fever 75 malais 588 common symptom crepit 60 wheez 40 common sign patient pneumonia crepit 792 25 bronchial breath immunocompromis patient like nonimmunocompromis patient present pneumonia 89 versu 1631 p 005 24 patient pneumonia 14 583 unev recoveri 4 167 recov follow complic 3 125 die pneumonia infect 3 125 die due underli comorbid 3 patient die pneumonia pneumonia comorbid conclus result similar publish data except find infect common infant preschool children mortal rate pneumonia patient comorbid high',\n",
              " 'inflammatori diseas respiratori tract commonli associ elev product nitric oxid no• increas indic no• depend oxid stress although no• known antimicrobi antiinflammatori antioxid properti variou line evid support contribut no• lung injuri sever diseas model basi biochem evid often presum no• depend oxid due format oxid peroxynitrit although altern mechan involv phagocytederiv heme protein myeloperoxidas eosinophil peroxidas might oper condit inflamm overwhelm literatur no• gener activ respiratori tract would beyond scope commentari review area comprehens instead focus recent evid concept presum contribut no• inflammatori diseas lung',\n",
              " 'surfact proteind spd particip innat respons inhal microorgan organ antigen contribut immun inflammatori regul within lung spd synthes secret alveolar bronchiolar epitheli cell also express epitheli cell line variou exocrin duct mucosa gastrointestin genitourinari tract spd collagen calciumdepend lectin collectin bind surfac glycoconjug express wide varieti microorgan oligosaccharid associ surfac variou complex organ antigen spd also specif interact glycoconjug molecul express surfac macrophag neutrophil lymphocyt addit spd bind specif surfactantassoci lipid influenc organ lipid mixtur contain phosphatidylinositol vitro consist divers vitro activ observ spddefici transgen mice show abnorm accumul surfact lipid respond abnorm challeng respiratori virus bacteri lipopolysaccharid phenotyp macrophag isol lung spddefici mice alter circumstanti evid abnorm oxid metabol andor increas metalloproteinas express contribut develop emphysema express spd increas respons mani form lung injuri defici accumul appropri oligomer spd might contribut pathogenesi varieti human lung diseas',\n",
              " 'endothelin1 et1 21 amino acid peptid divers biolog activ implic numer diseas et1 potent mitogen regul smooth muscl tone inflammatori mediat may play key role diseas airway pulmonari circul inflammatori lung diseas acut chronic review focu biolog et1 role lung diseas',\n",
              " 'respiratori syncyti viru rsv pneumonia viru mice pvm virus famili paramyxovirida subfamili pneumoviru caus clinic import respiratori infect human rodent respect respiratori epitheli target cell respond viral infect specif alter gene express includ product chemoattract cytokin adhes molecul element relat apoptosi respons other remain incomplet understood review current understand mucos respons discuss sever genom approach includ differenti display revers transcriptionpolymeras chain reaction pcr gene array strategi permit us unravel natur respons complet systemat manner']"
            ]
          },
          "metadata": {
            "tags": []
          },
          "execution_count": 13
        }
      ]
    },
    {
      "cell_type": "markdown",
      "metadata": {
        "id": "ufZ65NKfnK31"
      },
      "source": [
        "Generating a Word Cloud"
      ]
    },
    {
      "cell_type": "code",
      "metadata": {
        "id": "TT9M6iNmnGsR",
        "outputId": "ae2e42b3-e2a0-49ab-950d-ffa5f9dec01a",
        "colab": {
          "base_uri": "https://localhost:8080/",
          "height": 217
        }
      },
      "source": [
        "import wordcloud\n",
        "from wordcloud import WordCloud\n",
        "\n",
        "long_string = \" \".join(abs_final)\n",
        "\n",
        "#creating the wordcloud object\n",
        "wordcloud = WordCloud(background_color=\"black\", max_words=7000, contour_width=3, contour_color='steelblue')\n",
        "\n",
        "#generating wordcloud\n",
        "wordcloud.generate(long_string)\n",
        "wordcloud.to_image()\n"
      ],
      "execution_count": null,
      "outputs": [
        {
          "output_type": "execute_result",
          "data": {
            "image/png": "[encoded data removed]",
            "text/plain": [
              "<PIL.Image.Image image mode=RGB size=400x200 at 0x7FBA67548F98>"
            ]
          },
          "metadata": {
            "tags": []
          },
          "execution_count": 14
        }
      ]
    },
    {
      "cell_type": "markdown",
      "metadata": {
        "id": "z2PTpJcLqJ7r"
      },
      "source": [
        "Running the LDA algorithm on our model"
      ]
    },
    {
      "cell_type": "code",
      "metadata": {
        "id": "arkKOZbFiK-e",
        "outputId": "c16ce609-24f8-4be4-c071-c63dc7ba3f48",
        "colab": {
          "base_uri": "https://localhost:8080/",
          "height": 833
        }
      },
      "source": [
        "import nltk\n",
        "nltk.download(\"punkt\")\n",
        "nltk.download(\"popular\")\n",
        "from nltk.tokenize import RegexpTokenizer"
      ],
      "execution_count": null,
      "outputs": [
        {
          "output_type": "stream",
          "text": [
            "[nltk_data] Downloading package punkt to /root/nltk_data...\n",
            "[nltk_data]   Unzipping tokenizers/punkt.zip.\n",
            "[nltk_data] Downloading collection 'popular'\n",
            "[nltk_data]    | \n",
            "[nltk_data]    | Downloading package cmudict to /root/nltk_data...\n",
            "[nltk_data]    |   Unzipping corpora/cmudict.zip.\n",
            "[nltk_data]    | Downloading package gazetteers to /root/nltk_data...\n",
            "[nltk_data]    |   Unzipping corpora/gazetteers.zip.\n",
            "[nltk_data]    | Downloading package genesis to /root/nltk_data...\n",
            "[nltk_data]    |   Unzipping corpora/genesis.zip.\n",
            "[nltk_data]    | Downloading package gutenberg to /root/nltk_data...\n",
            "[nltk_data]    |   Unzipping corpora/gutenberg.zip.\n",
            "[nltk_data]    | Downloading package inaugural to /root/nltk_data...\n",
            "[nltk_data]    |   Unzipping corpora/inaugural.zip.\n",
            "[nltk_data]    | Downloading package movie_reviews to\n",
            "[nltk_data]    |     /root/nltk_data...\n",
            "[nltk_data]    |   Unzipping corpora/movie_reviews.zip.\n",
            "[nltk_data]    | Downloading package names to /root/nltk_data...\n",
            "[nltk_data]    |   Unzipping corpora/names.zip.\n",
            "[nltk_data]    | Downloading package shakespeare to /root/nltk_data...\n",
            "[nltk_data]    |   Unzipping corpora/shakespeare.zip.\n",
            "[nltk_data]    | Downloading package stopwords to /root/nltk_data...\n",
            "[nltk_data]    |   Unzipping corpora/stopwords.zip.\n",
            "[nltk_data]    | Downloading package treebank to /root/nltk_data...\n",
            "[nltk_data]    |   Unzipping corpora/treebank.zip.\n",
            "[nltk_data]    | Downloading package twitter_samples to\n",
            "[nltk_data]    |     /root/nltk_data...\n",
            "[nltk_data]    |   Unzipping corpora/twitter_samples.zip.\n",
            "[nltk_data]    | Downloading package omw to /root/nltk_data...\n",
            "[nltk_data]    |   Unzipping corpora/omw.zip.\n",
            "[nltk_data]    | Downloading package wordnet to /root/nltk_data...\n",
            "[nltk_data]    |   Unzipping corpora/wordnet.zip.\n",
            "[nltk_data]    | Downloading package wordnet_ic to /root/nltk_data...\n",
            "[nltk_data]    |   Unzipping corpora/wordnet_ic.zip.\n",
            "[nltk_data]    | Downloading package words to /root/nltk_data...\n",
            "[nltk_data]    |   Unzipping corpora/words.zip.\n",
            "[nltk_data]    | Downloading package maxent_ne_chunker to\n",
            "[nltk_data]    |     /root/nltk_data...\n",
            "[nltk_data]    |   Unzipping chunkers/maxent_ne_chunker.zip.\n",
            "[nltk_data]    | Downloading package punkt to /root/nltk_data...\n",
            "[nltk_data]    |   Package punkt is already up-to-date!\n",
            "[nltk_data]    | Downloading package snowball_data to\n",
            "[nltk_data]    |     /root/nltk_data...\n",
            "[nltk_data]    | Downloading package averaged_perceptron_tagger to\n",
            "[nltk_data]    |     /root/nltk_data...\n",
            "[nltk_data]    |   Unzipping taggers/averaged_perceptron_tagger.zip.\n",
            "[nltk_data]    | \n",
            "[nltk_data]  Done downloading collection popular\n"
          ],
          "name": "stdout"
        }
      ]
    },
    {
      "cell_type": "code",
      "metadata": {
        "id": "kE_mDOPLicYh"
      },
      "source": [
        "#Tokenization (final step in our cleaning of data) is performed using Regular Expression Tokeinzer from nltk package. \n",
        "tokenizer = RegexpTokenizer(r'\\w+') #matches all word characters until a non word character like \" \" is found.\n",
        "text=[]\n",
        "for i in abs_final:\n",
        "  #tokenize the document string\n",
        "  tokens=tokenizer.tokenize(i)\n",
        "  text.append(tokens)\n"
      ],
      "execution_count": null,
      "outputs": []
    },
    {
      "cell_type": "code",
      "metadata": {
        "id": "wTn3nAnHi-CX",
        "outputId": "c7e2d5b9-136b-44fc-c2a7-0edf2c043f97",
        "colab": {
          "base_uri": "https://localhost:8080/",
          "height": 34
        }
      },
      "source": [
        "print(len(abs_final))"
      ],
      "execution_count": null,
      "outputs": [
        {
          "output_type": "stream",
          "text": [
            "171771\n"
          ],
          "name": "stdout"
        }
      ]
    },
    {
      "cell_type": "code",
      "metadata": {
        "id": "RniXK6ygd9cF",
        "outputId": "7856a23e-af39-4734-90f3-be32a2d64afd",
        "colab": {
          "base_uri": "https://localhost:8080/",
          "height": 1000
        }
      },
      "source": [
        "text[:2]"
      ],
      "execution_count": null,
      "outputs": [
        {
          "output_type": "execute_result",
          "data": {
            "text/plain": [
              "[['object',\n",
              "  'retrospect',\n",
              "  'chart',\n",
              "  'review',\n",
              "  'describ',\n",
              "  'epidemiolog',\n",
              "  'clinic',\n",
              "  'featur',\n",
              "  '40',\n",
              "  'patient',\n",
              "  'cultureproven',\n",
              "  'mycoplasma',\n",
              "  'pneumonia',\n",
              "  'infect',\n",
              "  'king',\n",
              "  'abdulaziz',\n",
              "  'univers',\n",
              "  'hospit',\n",
              "  'jeddah',\n",
              "  'saudi',\n",
              "  'arabia',\n",
              "  'method',\n",
              "  'patient',\n",
              "  'posit',\n",
              "  'pneumonia',\n",
              "  'cultur',\n",
              "  'respiratori',\n",
              "  'specimen',\n",
              "  'januari',\n",
              "  '1997',\n",
              "  'decemb',\n",
              "  '1998',\n",
              "  'identifi',\n",
              "  'microbiolog',\n",
              "  'record',\n",
              "  'chart',\n",
              "  'patient',\n",
              "  'review',\n",
              "  'result',\n",
              "  '40',\n",
              "  'patient',\n",
              "  'identifi',\n",
              "  '33',\n",
              "  '825',\n",
              "  'requir',\n",
              "  'admiss',\n",
              "  'infect',\n",
              "  '925',\n",
              "  'communityacquir',\n",
              "  'infect',\n",
              "  'affect',\n",
              "  'age',\n",
              "  'group',\n",
              "  'common',\n",
              "  'infant',\n",
              "  '325',\n",
              "  'preschool',\n",
              "  'children',\n",
              "  '225',\n",
              "  'occur',\n",
              "  'yearround',\n",
              "  'common',\n",
              "  'fall',\n",
              "  '35',\n",
              "  'spring',\n",
              "  '30',\n",
              "  'threequart',\n",
              "  'patient',\n",
              "  '775',\n",
              "  'comorbid',\n",
              "  'twentyfour',\n",
              "  'isol',\n",
              "  '60',\n",
              "  'associ',\n",
              "  'pneumonia',\n",
              "  '14',\n",
              "  '35',\n",
              "  'upper',\n",
              "  'respiratori',\n",
              "  'tract',\n",
              "  'infect',\n",
              "  '2',\n",
              "  '5',\n",
              "  'bronchiol',\n",
              "  'cough',\n",
              "  '825',\n",
              "  'fever',\n",
              "  '75',\n",
              "  'malais',\n",
              "  '588',\n",
              "  'common',\n",
              "  'symptom',\n",
              "  'crepit',\n",
              "  '60',\n",
              "  'wheez',\n",
              "  '40',\n",
              "  'common',\n",
              "  'sign',\n",
              "  'patient',\n",
              "  'pneumonia',\n",
              "  'crepit',\n",
              "  '792',\n",
              "  '25',\n",
              "  'bronchial',\n",
              "  'breath',\n",
              "  'immunocompromis',\n",
              "  'patient',\n",
              "  'like',\n",
              "  'nonimmunocompromis',\n",
              "  'patient',\n",
              "  'present',\n",
              "  'pneumonia',\n",
              "  '89',\n",
              "  'versu',\n",
              "  '1631',\n",
              "  'p',\n",
              "  '005',\n",
              "  '24',\n",
              "  'patient',\n",
              "  'pneumonia',\n",
              "  '14',\n",
              "  '583',\n",
              "  'unev',\n",
              "  'recoveri',\n",
              "  '4',\n",
              "  '167',\n",
              "  'recov',\n",
              "  'follow',\n",
              "  'complic',\n",
              "  '3',\n",
              "  '125',\n",
              "  'die',\n",
              "  'pneumonia',\n",
              "  'infect',\n",
              "  '3',\n",
              "  '125',\n",
              "  'die',\n",
              "  'due',\n",
              "  'underli',\n",
              "  'comorbid',\n",
              "  '3',\n",
              "  'patient',\n",
              "  'die',\n",
              "  'pneumonia',\n",
              "  'pneumonia',\n",
              "  'comorbid',\n",
              "  'conclus',\n",
              "  'result',\n",
              "  'similar',\n",
              "  'publish',\n",
              "  'data',\n",
              "  'except',\n",
              "  'find',\n",
              "  'infect',\n",
              "  'common',\n",
              "  'infant',\n",
              "  'preschool',\n",
              "  'children',\n",
              "  'mortal',\n",
              "  'rate',\n",
              "  'pneumonia',\n",
              "  'patient',\n",
              "  'comorbid',\n",
              "  'high'],\n",
              " ['inflammatori',\n",
              "  'diseas',\n",
              "  'respiratori',\n",
              "  'tract',\n",
              "  'commonli',\n",
              "  'associ',\n",
              "  'elev',\n",
              "  'product',\n",
              "  'nitric',\n",
              "  'oxid',\n",
              "  'no',\n",
              "  'increas',\n",
              "  'indic',\n",
              "  'no',\n",
              "  'depend',\n",
              "  'oxid',\n",
              "  'stress',\n",
              "  'although',\n",
              "  'no',\n",
              "  'known',\n",
              "  'antimicrobi',\n",
              "  'antiinflammatori',\n",
              "  'antioxid',\n",
              "  'properti',\n",
              "  'variou',\n",
              "  'line',\n",
              "  'evid',\n",
              "  'support',\n",
              "  'contribut',\n",
              "  'no',\n",
              "  'lung',\n",
              "  'injuri',\n",
              "  'sever',\n",
              "  'diseas',\n",
              "  'model',\n",
              "  'basi',\n",
              "  'biochem',\n",
              "  'evid',\n",
              "  'often',\n",
              "  'presum',\n",
              "  'no',\n",
              "  'depend',\n",
              "  'oxid',\n",
              "  'due',\n",
              "  'format',\n",
              "  'oxid',\n",
              "  'peroxynitrit',\n",
              "  'although',\n",
              "  'altern',\n",
              "  'mechan',\n",
              "  'involv',\n",
              "  'phagocytederiv',\n",
              "  'heme',\n",
              "  'protein',\n",
              "  'myeloperoxidas',\n",
              "  'eosinophil',\n",
              "  'peroxidas',\n",
              "  'might',\n",
              "  'oper',\n",
              "  'condit',\n",
              "  'inflamm',\n",
              "  'overwhelm',\n",
              "  'literatur',\n",
              "  'no',\n",
              "  'gener',\n",
              "  'activ',\n",
              "  'respiratori',\n",
              "  'tract',\n",
              "  'would',\n",
              "  'beyond',\n",
              "  'scope',\n",
              "  'commentari',\n",
              "  'review',\n",
              "  'area',\n",
              "  'comprehens',\n",
              "  'instead',\n",
              "  'focus',\n",
              "  'recent',\n",
              "  'evid',\n",
              "  'concept',\n",
              "  'presum',\n",
              "  'contribut',\n",
              "  'no',\n",
              "  'inflammatori',\n",
              "  'diseas',\n",
              "  'lung']]"
            ]
          },
          "metadata": {
            "tags": []
          },
          "execution_count": 18
        }
      ]
    },
    {
      "cell_type": "code",
      "metadata": {
        "id": "MGcYeUzFo7BS"
      },
      "source": [
        "#creating bag of words parameter\n",
        "import gensim\n",
        "from gensim import corpora,models\n",
        "\n",
        "#Dictionary() function creates a term dictionary of our corpus, where every unique term is assigned an index and word count is also maintained.\n",
        "dictionary = corpora.Dictionary(text)\n",
        "\n",
        "# print(dictionary.token2id) can be used to see each unique id assigned to each unique word.\n",
        "\n",
        "#Converts list of documents (corpus) into bag of words using dictionary prepared above. Output is a list of list of tuples with first tern the unique id and the second term the frequency.\n",
        "doc_term_matrix = [dictionary.doc2bow(abst, allow_update=True) for abst in text]"
      ],
      "execution_count": null,
      "outputs": []
    },
    {
      "cell_type": "code",
      "metadata": {
        "id": "VjeYFr6jl9fL",
        "outputId": "4863209e-8d2f-4bec-93ff-4b90d6576c89",
        "colab": {
          "base_uri": "https://localhost:8080/",
          "height": 54
        }
      },
      "source": [
        "print(doc_term_matrix[0]) #list of tuples represents our first document i.e. first abstract. "
      ],
      "execution_count": null,
      "outputs": [
        {
          "output_type": "stream",
          "text": [
            "[(0, 1), (1, 2), (2, 2), (3, 1), (4, 1), (5, 1), (6, 1), (7, 1), (8, 1), (9, 1), (10, 1), (11, 3), (12, 1), (13, 1), (14, 1), (15, 2), (16, 1), (17, 3), (18, 1), (19, 1), (20, 1), (21, 2), (22, 1), (23, 1), (24, 1), (25, 2), (26, 1), (27, 1), (28, 1), (29, 1), (30, 1), (31, 1), (32, 1), (33, 1), (34, 1), (35, 1), (36, 1), (37, 2), (38, 2), (39, 1), (40, 5), (41, 1), (42, 4), (43, 1), (44, 1), (45, 1), (46, 2), (47, 1), (48, 1), (49, 1), (50, 1), (51, 1), (52, 3), (53, 1), (54, 1), (55, 1), (56, 1), (57, 1), (58, 1), (59, 1), (60, 1), (61, 1), (62, 1), (63, 1), (64, 2), (65, 1), (66, 2), (67, 6), (68, 1), (69, 1), (70, 1), (71, 1), (72, 1), (73, 1), (74, 1), (75, 1), (76, 1), (77, 1), (78, 1), (79, 1), (80, 1), (81, 1), (82, 11), (83, 10), (84, 1), (85, 2), (86, 1), (87, 1), (88, 1), (89, 1), (90, 1), (91, 1), (92, 1), (93, 2), (94, 2), (95, 1), (96, 2), (97, 1), (98, 1), (99, 1), (100, 1), (101, 1), (102, 1), (103, 1), (104, 1), (105, 1), (106, 1), (107, 1), (108, 1), (109, 1), (110, 1), (111, 1), (112, 1)]\n"
          ],
          "name": "stdout"
        }
      ]
    },
    {
      "cell_type": "code",
      "metadata": {
        "id": "85WJn04Qibhp"
      },
      "source": [
        "# generate LDA model\n",
        "ldamodel = gensim.models.ldamodel.LdaModel(doc_term_matrix, num_topics=7, id2word = dictionary, passes=76)"
      ],
      "execution_count": null,
      "outputs": []
    },
    {
      "cell_type": "code",
      "metadata": {
        "id": "1AQjYqoS5pYR",
        "outputId": "51433a54-7881-48b4-d641-e337e82ef420",
        "colab": {
          "base_uri": "https://localhost:8080/",
          "height": 255
        }
      },
      "source": [
        "top6 = ldamodel.print_topics(num_topics=7, num_words=7)\n",
        "c = 0\n",
        "for i in top6:\n",
        "  c += 1\n",
        "  print(\"Topic \"+str(c))\n",
        "  print(i)"
      ],
      "execution_count": null,
      "outputs": [
        {
          "output_type": "stream",
          "text": [
            "Topic 1\n",
            "(0, '0.015*\"use\" + 0.014*\"model\" + 0.008*\"data\" + 0.006*\"method\" + 0.006*\"result\" + 0.006*\"studi\" + 0.005*\"differ\"')\n",
            "Topic 2\n",
            "(1, '0.023*\"patient\" + 0.011*\"lung\" + 0.009*\"treatment\" + 0.007*\"acut\" + 0.007*\"present\" + 0.007*\"cancer\" + 0.007*\"diseas\"')\n",
            "Topic 3\n",
            "(2, '0.023*\"covid19\" + 0.014*\"health\" + 0.013*\"diseas\" + 0.011*\"pandem\" + 0.009*\"infect\" + 0.007*\"coronaviru\" + 0.007*\"patient\"')\n",
            "Topic 4\n",
            "(3, '0.019*\"cell\" + 0.015*\"protein\" + 0.011*\"infect\" + 0.009*\"viru\" + 0.009*\"viral\" + 0.008*\"activ\" + 0.008*\"immun\"')\n",
            "Topic 5\n",
            "(4, '0.067*\"de\" + 0.031*\"la\" + 0.025*\"le\" + 0.020*\"et\" + 0.018*\"en\" + 0.014*\"l\" + 0.011*\"d\"')\n",
            "Topic 6\n",
            "(5, '0.036*\"patient\" + 0.012*\"studi\" + 0.012*\"covid19\" + 0.009*\"hospit\" + 0.009*\"p\" + 0.008*\"group\" + 0.008*\"result\"')\n",
            "Topic 7\n",
            "(6, '0.017*\"infect\" + 0.015*\"viru\" + 0.013*\"detect\" + 0.013*\"respiratori\" + 0.010*\"virus\" + 0.009*\"viral\" + 0.009*\"sampl\"')\n"
          ],
          "name": "stdout"
        }
      ]
    },
    {
      "cell_type": "code",
      "metadata": {
        "id": "5_JdYsv9mXck",
        "outputId": "b2fcf0ef-21b2-45e7-8862-26730263ebd7",
        "colab": {
          "base_uri": "https://localhost:8080/",
          "height": 255
        }
      },
      "source": [
        "#passes 120\n",
        "top8 = ldamodel.print_topics(num_topics=8, num_words=7)\n",
        "c = 0\n",
        "for i in top8:\n",
        "\n",
        "  c += 1\n",
        "  print(\"Topic \"+str(c))\n",
        "  print(i)"
      ],
      "execution_count": null,
      "outputs": [
        {
          "output_type": "stream",
          "text": [
            "Topic 1\n",
            "(0, '0.015*\"use\" + 0.014*\"model\" + 0.008*\"data\" + 0.006*\"method\" + 0.006*\"result\" + 0.006*\"studi\" + 0.005*\"differ\"')\n",
            "Topic 2\n",
            "(1, '0.023*\"patient\" + 0.011*\"lung\" + 0.009*\"treatment\" + 0.007*\"acut\" + 0.007*\"present\" + 0.007*\"cancer\" + 0.007*\"diseas\"')\n",
            "Topic 3\n",
            "(2, '0.023*\"covid19\" + 0.014*\"health\" + 0.013*\"diseas\" + 0.011*\"pandem\" + 0.009*\"infect\" + 0.007*\"coronaviru\" + 0.007*\"patient\"')\n",
            "Topic 4\n",
            "(3, '0.019*\"cell\" + 0.015*\"protein\" + 0.011*\"infect\" + 0.009*\"viru\" + 0.009*\"viral\" + 0.008*\"activ\" + 0.008*\"immun\"')\n",
            "Topic 5\n",
            "(4, '0.067*\"de\" + 0.031*\"la\" + 0.025*\"le\" + 0.020*\"et\" + 0.018*\"en\" + 0.014*\"l\" + 0.011*\"d\"')\n",
            "Topic 6\n",
            "(5, '0.036*\"patient\" + 0.012*\"studi\" + 0.012*\"covid19\" + 0.009*\"hospit\" + 0.009*\"p\" + 0.008*\"group\" + 0.008*\"result\"')\n",
            "Topic 7\n",
            "(6, '0.017*\"infect\" + 0.015*\"viru\" + 0.013*\"detect\" + 0.013*\"respiratori\" + 0.010*\"virus\" + 0.009*\"viral\" + 0.009*\"sampl\"')\n"
          ],
          "name": "stdout"
        }
      ]
    },
    {
      "cell_type": "code",
      "metadata": {
        "id": "COzxxJbdmg1Z"
      },
      "source": [
        ""
      ],
      "execution_count": null,
      "outputs": []
    }
  ]
}