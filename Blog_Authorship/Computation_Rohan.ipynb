{
  "nbformat": 4,
  "nbformat_minor": 0,
  "metadata": {
    "colab": {
      "name": "Preprocessing_V1.ipynb",
      "provenance": [],
      "collapsed_sections": [
        "qjYhR1zWxx0i",
        "rKzRiD7wx9jw",
        "3bHckA3nKIN_",
        "jGu5AOlCua_Z",
        "pm2AgYT0yrv1",
        "scpHH67e1-jB",
        "GYZsqFfs2JfS",
        "gAAQwBqzl0B8",
        "_SxjzSEufnCn",
        "cRYa46YX3vXo",
        "X46EMCDB39A3"
      ],
      "toc_visible": true,
      "machine_shape": "hm"
    },
    "kernelspec": {
      "name": "python3",
      "display_name": "Python 3"
    }
  },
  "cells": [
    {
      "cell_type": "markdown",
      "metadata": {
        "id": "4cbgwZWWfWpp"
      },
      "source": [
        "# New Section"
      ]
    },
    {
      "cell_type": "code",
      "metadata": {
        "id": "k89-LtQs7KFh",
        "outputId": "4f2d61d4-e1e9-4d9c-fe6c-b5255de067d4",
        "colab": {
          "base_uri": "https://localhost:8080/",
          "height": 538
        }
      },
      "source": [
        "!pip install pyLDAvis"
      ],
      "execution_count": null,
      "outputs": [
        {
          "output_type": "stream",
          "text": [
            "Collecting pyLDAvis\n",
            "\u001b[?25l  Downloading https://files.pythonhosted.org/packages/a5/3a/af82e070a8a96e13217c8f362f9a73e82d61ac8fff3a2561946a97f96266/pyLDAvis-2.1.2.tar.gz (1.6MB)\n",
            "\u001b[K     |████████████████████████████████| 1.6MB 2.7MB/s \n",
            "\u001b[?25hRequirement already satisfied: wheel>=0.23.0 in /usr/local/lib/python3.6/dist-packages (from pyLDAvis) (0.35.1)\n",
            "Requirement already satisfied: numpy>=1.9.2 in /usr/local/lib/python3.6/dist-packages (from pyLDAvis) (1.18.5)\n",
            "Requirement already satisfied: scipy>=0.18.0 in /usr/local/lib/python3.6/dist-packages (from pyLDAvis) (1.4.1)\n",
            "Requirement already satisfied: pandas>=0.17.0 in /usr/local/lib/python3.6/dist-packages (from pyLDAvis) (1.1.2)\n",
            "Requirement already satisfied: joblib>=0.8.4 in /usr/local/lib/python3.6/dist-packages (from pyLDAvis) (0.16.0)\n",
            "Requirement already satisfied: jinja2>=2.7.2 in /usr/local/lib/python3.6/dist-packages (from pyLDAvis) (2.11.2)\n",
            "Requirement already satisfied: numexpr in /usr/local/lib/python3.6/dist-packages (from pyLDAvis) (2.7.1)\n",
            "Requirement already satisfied: pytest in /usr/local/lib/python3.6/dist-packages (from pyLDAvis) (3.6.4)\n",
            "Requirement already satisfied: future in /usr/local/lib/python3.6/dist-packages (from pyLDAvis) (0.16.0)\n",
            "Collecting funcy\n",
            "  Downloading https://files.pythonhosted.org/packages/66/89/479de0afbbfb98d1c4b887936808764627300208bb771fcd823403645a36/funcy-1.15-py2.py3-none-any.whl\n",
            "Requirement already satisfied: python-dateutil>=2.7.3 in /usr/local/lib/python3.6/dist-packages (from pandas>=0.17.0->pyLDAvis) (2.8.1)\n",
            "Requirement already satisfied: pytz>=2017.2 in /usr/local/lib/python3.6/dist-packages (from pandas>=0.17.0->pyLDAvis) (2018.9)\n",
            "Requirement already satisfied: MarkupSafe>=0.23 in /usr/local/lib/python3.6/dist-packages (from jinja2>=2.7.2->pyLDAvis) (1.1.1)\n",
            "Requirement already satisfied: attrs>=17.4.0 in /usr/local/lib/python3.6/dist-packages (from pytest->pyLDAvis) (20.2.0)\n",
            "Requirement already satisfied: setuptools in /usr/local/lib/python3.6/dist-packages (from pytest->pyLDAvis) (50.3.0)\n",
            "Requirement already satisfied: py>=1.5.0 in /usr/local/lib/python3.6/dist-packages (from pytest->pyLDAvis) (1.9.0)\n",
            "Requirement already satisfied: six>=1.10.0 in /usr/local/lib/python3.6/dist-packages (from pytest->pyLDAvis) (1.15.0)\n",
            "Requirement already satisfied: pluggy<0.8,>=0.5 in /usr/local/lib/python3.6/dist-packages (from pytest->pyLDAvis) (0.7.1)\n",
            "Requirement already satisfied: atomicwrites>=1.0 in /usr/local/lib/python3.6/dist-packages (from pytest->pyLDAvis) (1.4.0)\n",
            "Requirement already satisfied: more-itertools>=4.0.0 in /usr/local/lib/python3.6/dist-packages (from pytest->pyLDAvis) (8.5.0)\n",
            "Building wheels for collected packages: pyLDAvis\n",
            "  Building wheel for pyLDAvis (setup.py) ... \u001b[?25l\u001b[?25hdone\n",
            "  Created wheel for pyLDAvis: filename=pyLDAvis-2.1.2-py2.py3-none-any.whl size=97712 sha256=94fa7712b0ec48cd58e6ce68d4971b0a21c4c7a180e0b530d1487b195bd36289\n",
            "  Stored in directory: /root/.cache/pip/wheels/98/71/24/513a99e58bb6b8465bae4d2d5e9dba8f0bef8179e3051ac414\n",
            "Successfully built pyLDAvis\n",
            "Installing collected packages: funcy, pyLDAvis\n",
            "Successfully installed funcy-1.15 pyLDAvis-2.1.2\n"
          ],
          "name": "stdout"
        }
      ]
    },
    {
      "cell_type": "code",
      "metadata": {
        "id": "tAb77yZ9fzMG",
        "outputId": "df6bbdcb-5301-448f-c590-143e94a12891",
        "colab": {
          "base_uri": "https://localhost:8080/",
          "height": 50
        }
      },
      "source": [
        "import re\n",
        "import numpy as np\n",
        "import pandas as pd\n",
        "from pprint import pprint\n",
        "import nltk\n",
        "nltk.download('stopwords')\n",
        "from timeit import default_timer as timer\n",
        "\n",
        "# Gensim\n",
        "import gensim\n",
        "import gensim.corpora as corpora\n",
        "from gensim.utils import simple_preprocess\n",
        "from gensim.models import CoherenceModel\n",
        "\n",
        "# spacy for lemmatization\n",
        "import spacy\n",
        "\n",
        "# Plotting tools\n",
        "import pyLDAvis\n",
        "import pyLDAvis.gensim  # don't skip this\n",
        "import matplotlib.pyplot as plt\n",
        "%matplotlib inline\n",
        "\n",
        "# Enable logging for gensim - optional\n",
        "import logging\n",
        "logging.basicConfig(format='%(asctime)s : %(levelname)s : %(message)s', level=logging.ERROR)\n",
        "\n",
        "import warnings\n",
        "warnings.filterwarnings(\"ignore\")"
      ],
      "execution_count": null,
      "outputs": [
        {
          "output_type": "stream",
          "text": [
            "[nltk_data] Downloading package stopwords to /root/nltk_data...\n",
            "[nltk_data]   Unzipping corpora/stopwords.zip.\n"
          ],
          "name": "stdout"
        }
      ]
    },
    {
      "cell_type": "code",
      "metadata": {
        "id": "pafL7Li0jyXW",
        "outputId": "73d4c483-a4b3-45b3-be10-1e1fbee32857",
        "colab": {
          "base_uri": "https://localhost:8080/",
          "height": 34
        }
      },
      "source": [
        "from google.colab import drive\n",
        "drive.mount('/content/drive')"
      ],
      "execution_count": null,
      "outputs": [
        {
          "output_type": "stream",
          "text": [
            "Mounted at /content/drive\n"
          ],
          "name": "stdout"
        }
      ]
    },
    {
      "cell_type": "code",
      "metadata": {
        "id": "f8-LMZY6GeZO"
      },
      "source": [
        "df = pd.read_csv('/content/drive/My Drive/Colab Notebooks/Blog authorship corpus/Blog_processed.csv')\n",
        "# df.head()"
      ],
      "execution_count": null,
      "outputs": []
    },
    {
      "cell_type": "code",
      "metadata": {
        "id": "ms2f8nBKGi_s"
      },
      "source": [
        "data = df['processed_text_string']"
      ],
      "execution_count": null,
      "outputs": []
    },
    {
      "cell_type": "code",
      "metadata": {
        "id": "rdfx34NxGedg"
      },
      "source": [
        "def sent_to_words(sentences):\n",
        "    count = 0\n",
        "    for sentence in sentences:\n",
        "        print(count, len(data))\n",
        "        yield(gensim.utils.simple_preprocess(str(sentence), deacc=True))  # deacc=True removes punctuations\n",
        "        count+=1\n",
        "\n",
        "data_words = list(sent_to_words(data))\n",
        "\n",
        "print(data_words[:1])\n",
        "\n",
        "def remove_stopwords(texts):\n",
        "    return [[word for word in simple_preprocess(str(doc)) if word not in stop_words] for doc in texts]\n",
        "\n",
        "# Remove Stop Words\n",
        "data_words_nostops = remove_stopwords(data_words)\n",
        "\n",
        "import pickle\n",
        "dwns = open(\"data_words_nostops.txt\", \"wb\")\n",
        "pickle.dump(data_words_nostops ,dwns)\n",
        "dwns.close()"
      ],
      "execution_count": null,
      "outputs": []
    },
    {
      "cell_type": "code",
      "metadata": {
        "id": "wZzkZ4HmKrD4",
        "outputId": "590fd698-f77c-4e0d-f5ce-4695c853abb4",
        "colab": {
          "base_uri": "https://localhost:8080/",
          "height": 17
        }
      },
      "source": [
        "from google.colab import files\n",
        "files.download('data_words_nostops.txt')"
      ],
      "execution_count": null,
      "outputs": [
        {
          "output_type": "display_data",
          "data": {
            "application/javascript": [
              "\n",
              "    async function download(id, filename, size) {\n",
              "      if (!google.colab.kernel.accessAllowed) {\n",
              "        return;\n",
              "      }\n",
              "      const div = document.createElement('div');\n",
              "      const label = document.createElement('label');\n",
              "      label.textContent = `Downloading \"${filename}\": `;\n",
              "      div.appendChild(label);\n",
              "      const progress = document.createElement('progress');\n",
              "      progress.max = size;\n",
              "      div.appendChild(progress);\n",
              "      document.body.appendChild(div);\n",
              "\n",
              "      const buffers = [];\n",
              "      let downloaded = 0;\n",
              "\n",
              "      const channel = await google.colab.kernel.comms.open(id);\n",
              "      // Send a message to notify the kernel that we're ready.\n",
              "      channel.send({})\n",
              "\n",
              "      for await (const message of channel.messages) {\n",
              "        // Send a message to notify the kernel that we're ready.\n",
              "        channel.send({})\n",
              "        if (message.buffers) {\n",
              "          for (const buffer of message.buffers) {\n",
              "            buffers.push(buffer);\n",
              "            downloaded += buffer.byteLength;\n",
              "            progress.value = downloaded;\n",
              "          }\n",
              "        }\n",
              "      }\n",
              "      const blob = new Blob(buffers, {type: 'application/binary'});\n",
              "      const a = document.createElement('a');\n",
              "      a.href = window.URL.createObjectURL(blob);\n",
              "      a.download = filename;\n",
              "      div.appendChild(a);\n",
              "      a.click();\n",
              "      div.remove();\n",
              "    }\n",
              "  "
            ],
            "text/plain": [
              "<IPython.core.display.Javascript object>"
            ]
          },
          "metadata": {
            "tags": []
          }
        },
        {
          "output_type": "display_data",
          "data": {
            "application/javascript": [
              "download(\"download_f6e3406f-e251-40d4-b7db-00c3668dad12\", \"data_words_nostops.txt\", 792871509)"
            ],
            "text/plain": [
              "<IPython.core.display.Javascript object>"
            ]
          },
          "metadata": {
            "tags": []
          }
        }
      ]
    },
    {
      "cell_type": "code",
      "metadata": {
        "id": "brmo-nrFGewu",
        "outputId": "88301718-d2f2-4776-bbe2-339d972aa216",
        "colab": {
          "base_uri": "https://localhost:8080/",
          "height": 154
        }
      },
      "source": [
        "# Build the bigram and trigram models\n",
        "bigram = gensim.models.phrases.Phrases(data_words, min_count=5, threshold=100) # higher threshold fewer phrases.\n",
        "print(\"bigram done\")\n",
        "trigram = gensim.models.phrases.Phrases(bigram[data_words], threshold=100)  \n",
        "print(\"trigram done\")\n",
        "\n",
        "# Faster way to get a sentence clubbed as a trigram/bigram\n",
        "bigram_mod = gensim.models.phrases.Phraser(bigram)\n",
        "print(\"bigram_mod done\")\n",
        "trigram_mod = gensim.models.phrases.Phraser(trigram)\n",
        "print(\"trigram_mod done\")\n",
        "\n",
        "# See trigram example\n",
        "print(trigram_mod[bigram_mod[data_words[0]]])"
      ],
      "execution_count": null,
      "outputs": [
        {
          "output_type": "stream",
          "text": [
            "bigram done\n"
          ],
          "name": "stdout"
        },
        {
          "output_type": "stream",
          "text": [
            "/usr/local/lib/python3.6/dist-packages/gensim/models/phrases.py:598: UserWarning: For a faster implementation, use the gensim.models.phrases.Phraser class\n",
            "  warnings.warn(\"For a faster implementation, use the gensim.models.phrases.Phraser class\")\n"
          ],
          "name": "stderr"
        },
        {
          "output_type": "stream",
          "text": [
            "trigram done\n",
            "bigram_mod done\n",
            "trigram_mod done\n",
            "['info', 'page', 'file', 'wait', 'until', 'team', 'leader', 'process', 'learn', 'html']\n"
          ],
          "name": "stdout"
        }
      ]
    },
    {
      "cell_type": "code",
      "metadata": {
        "id": "9aMx2BIFHCVX",
        "outputId": "54395cca-c1fd-49b2-9b99-0cc0a5864685",
        "colab": {
          "base_uri": "https://localhost:8080/",
          "height": 574
        }
      },
      "source": [
        "!python -m spacy download en_core_web_md\n",
        "\n",
        "import en_core_web_md\n",
        "nlp = en_core_web_md.load()"
      ],
      "execution_count": null,
      "outputs": [
        {
          "output_type": "stream",
          "text": [
            "Collecting en_core_web_md==2.2.5\n",
            "\u001b[?25l  Downloading https://github.com/explosion/spacy-models/releases/download/en_core_web_md-2.2.5/en_core_web_md-2.2.5.tar.gz (96.4MB)\n",
            "\u001b[K     |████████████████████████████████| 96.4MB 60.0MB/s \n",
            "\u001b[?25hRequirement already satisfied: spacy>=2.2.2 in /usr/local/lib/python3.6/dist-packages (from en_core_web_md==2.2.5) (2.2.4)\n",
            "Requirement already satisfied: setuptools in /usr/local/lib/python3.6/dist-packages (from spacy>=2.2.2->en_core_web_md==2.2.5) (50.3.0)\n",
            "Requirement already satisfied: requests<3.0.0,>=2.13.0 in /usr/local/lib/python3.6/dist-packages (from spacy>=2.2.2->en_core_web_md==2.2.5) (2.23.0)\n",
            "Requirement already satisfied: thinc==7.4.0 in /usr/local/lib/python3.6/dist-packages (from spacy>=2.2.2->en_core_web_md==2.2.5) (7.4.0)\n",
            "Requirement already satisfied: numpy>=1.15.0 in /usr/local/lib/python3.6/dist-packages (from spacy>=2.2.2->en_core_web_md==2.2.5) (1.18.5)\n",
            "Requirement already satisfied: blis<0.5.0,>=0.4.0 in /usr/local/lib/python3.6/dist-packages (from spacy>=2.2.2->en_core_web_md==2.2.5) (0.4.1)\n",
            "Requirement already satisfied: catalogue<1.1.0,>=0.0.7 in /usr/local/lib/python3.6/dist-packages (from spacy>=2.2.2->en_core_web_md==2.2.5) (1.0.0)\n",
            "Requirement already satisfied: tqdm<5.0.0,>=4.38.0 in /usr/local/lib/python3.6/dist-packages (from spacy>=2.2.2->en_core_web_md==2.2.5) (4.41.1)\n",
            "Requirement already satisfied: murmurhash<1.1.0,>=0.28.0 in /usr/local/lib/python3.6/dist-packages (from spacy>=2.2.2->en_core_web_md==2.2.5) (1.0.2)\n",
            "Requirement already satisfied: wasabi<1.1.0,>=0.4.0 in /usr/local/lib/python3.6/dist-packages (from spacy>=2.2.2->en_core_web_md==2.2.5) (0.8.0)\n",
            "Requirement already satisfied: cymem<2.1.0,>=2.0.2 in /usr/local/lib/python3.6/dist-packages (from spacy>=2.2.2->en_core_web_md==2.2.5) (2.0.3)\n",
            "Requirement already satisfied: preshed<3.1.0,>=3.0.2 in /usr/local/lib/python3.6/dist-packages (from spacy>=2.2.2->en_core_web_md==2.2.5) (3.0.2)\n",
            "Requirement already satisfied: srsly<1.1.0,>=1.0.2 in /usr/local/lib/python3.6/dist-packages (from spacy>=2.2.2->en_core_web_md==2.2.5) (1.0.2)\n",
            "Requirement already satisfied: plac<1.2.0,>=0.9.6 in /usr/local/lib/python3.6/dist-packages (from spacy>=2.2.2->en_core_web_md==2.2.5) (1.1.3)\n",
            "Requirement already satisfied: idna<3,>=2.5 in /usr/local/lib/python3.6/dist-packages (from requests<3.0.0,>=2.13.0->spacy>=2.2.2->en_core_web_md==2.2.5) (2.10)\n",
            "Requirement already satisfied: chardet<4,>=3.0.2 in /usr/local/lib/python3.6/dist-packages (from requests<3.0.0,>=2.13.0->spacy>=2.2.2->en_core_web_md==2.2.5) (3.0.4)\n",
            "Requirement already satisfied: urllib3!=1.25.0,!=1.25.1,<1.26,>=1.21.1 in /usr/local/lib/python3.6/dist-packages (from requests<3.0.0,>=2.13.0->spacy>=2.2.2->en_core_web_md==2.2.5) (1.24.3)\n",
            "Requirement already satisfied: certifi>=2017.4.17 in /usr/local/lib/python3.6/dist-packages (from requests<3.0.0,>=2.13.0->spacy>=2.2.2->en_core_web_md==2.2.5) (2020.6.20)\n",
            "Requirement already satisfied: importlib-metadata>=0.20; python_version < \"3.8\" in /usr/local/lib/python3.6/dist-packages (from catalogue<1.1.0,>=0.0.7->spacy>=2.2.2->en_core_web_md==2.2.5) (1.7.0)\n",
            "Requirement already satisfied: zipp>=0.5 in /usr/local/lib/python3.6/dist-packages (from importlib-metadata>=0.20; python_version < \"3.8\"->catalogue<1.1.0,>=0.0.7->spacy>=2.2.2->en_core_web_md==2.2.5) (3.1.0)\n",
            "Building wheels for collected packages: en-core-web-md\n",
            "  Building wheel for en-core-web-md (setup.py) ... \u001b[?25l\u001b[?25hdone\n",
            "  Created wheel for en-core-web-md: filename=en_core_web_md-2.2.5-cp36-none-any.whl size=98051305 sha256=b09651b71f59ee78b5d8bf9f68eeee52efc890875d64f30a4a6d180648e6c93a\n",
            "  Stored in directory: /tmp/pip-ephem-wheel-cache-aztm6lad/wheels/df/94/ad/f5cf59224cea6b5686ac4fd1ad19c8a07bc026e13c36502d81\n",
            "Successfully built en-core-web-md\n",
            "Installing collected packages: en-core-web-md\n",
            "Successfully installed en-core-web-md-2.2.5\n",
            "\u001b[38;5;2m✔ Download and installation successful\u001b[0m\n",
            "You can now load the model via spacy.load('en_core_web_md')\n"
          ],
          "name": "stdout"
        }
      ]
    },
    {
      "cell_type": "code",
      "metadata": {
        "id": "CEJf08F8Ge1G"
      },
      "source": [
        "# def make_bigrams(texts):\n",
        "#     return [bigram_mod[doc] for doc in texts]\n",
        "\n",
        "# def make_trigrams(texts):\n",
        "#     return [trigram_mod[bigram_mod[doc]] for doc in texts]\n",
        "\n",
        "def lemmatization(texts, allowed_postags=['NOUN', 'ADJ', 'VERB', 'ADV']):\n",
        "    \"\"\"https://spacy.io/api/annotation\"\"\"\n",
        "    texts_out = []\n",
        "    count=0\n",
        "    for sent in texts:\n",
        "        print(count, len(texts))\n",
        "        count+=1\n",
        "        doc = nlp(\" \".join(sent)) \n",
        "        texts_out.append([token.lemma_ for token in doc if token.pos_ in allowed_postags])\n",
        "    return texts_out"
      ],
      "execution_count": null,
      "outputs": []
    },
    {
      "cell_type": "code",
      "metadata": {
        "id": "bpjNbOOUGeyu"
      },
      "source": [
        "# Form Bigrams\n",
        "data_words_bigrams = make_bigrams(data_words_nostops)\n",
        "\n",
        "import pickle\n",
        "dwb = open(\"data_words_bigrams.txt\", \"wb\")\n",
        "pickle.dump(data_words_bigrams ,dwb)\n",
        "dwb.close()"
      ],
      "execution_count": null,
      "outputs": []
    },
    {
      "cell_type": "code",
      "metadata": {
        "id": "OdbiQlgOcWXP",
        "outputId": "25e29870-cdb9-4c7a-8f48-8b5c0f671f0a",
        "colab": {
          "base_uri": "https://localhost:8080/",
          "height": 17
        }
      },
      "source": [
        "from google.colab import files\n",
        "files.download('data_words_bigrams.txt')"
      ],
      "execution_count": null,
      "outputs": [
        {
          "output_type": "display_data",
          "data": {
            "application/javascript": [
              "\n",
              "    async function download(id, filename, size) {\n",
              "      if (!google.colab.kernel.accessAllowed) {\n",
              "        return;\n",
              "      }\n",
              "      const div = document.createElement('div');\n",
              "      const label = document.createElement('label');\n",
              "      label.textContent = `Downloading \"${filename}\": `;\n",
              "      div.appendChild(label);\n",
              "      const progress = document.createElement('progress');\n",
              "      progress.max = size;\n",
              "      div.appendChild(progress);\n",
              "      document.body.appendChild(div);\n",
              "\n",
              "      const buffers = [];\n",
              "      let downloaded = 0;\n",
              "\n",
              "      const channel = await google.colab.kernel.comms.open(id);\n",
              "      // Send a message to notify the kernel that we're ready.\n",
              "      channel.send({})\n",
              "\n",
              "      for await (const message of channel.messages) {\n",
              "        // Send a message to notify the kernel that we're ready.\n",
              "        channel.send({})\n",
              "        if (message.buffers) {\n",
              "          for (const buffer of message.buffers) {\n",
              "            buffers.push(buffer);\n",
              "            downloaded += buffer.byteLength;\n",
              "            progress.value = downloaded;\n",
              "          }\n",
              "        }\n",
              "      }\n",
              "      const blob = new Blob(buffers, {type: 'application/binary'});\n",
              "      const a = document.createElement('a');\n",
              "      a.href = window.URL.createObjectURL(blob);\n",
              "      a.download = filename;\n",
              "      div.appendChild(a);\n",
              "      a.click();\n",
              "      div.remove();\n",
              "    }\n",
              "  "
            ],
            "text/plain": [
              "<IPython.core.display.Javascript object>"
            ]
          },
          "metadata": {
            "tags": []
          }
        },
        {
          "output_type": "display_data",
          "data": {
            "application/javascript": [
              "download(\"download_fb8edc87-b6ca-4f0c-bdd7-777471ef5f8a\", \"data_words_bigrams.txt\", 784752942)"
            ],
            "text/plain": [
              "<IPython.core.display.Javascript object>"
            ]
          },
          "metadata": {
            "tags": []
          }
        }
      ]
    },
    {
      "cell_type": "code",
      "metadata": {
        "id": "CvXQ8_4KrYEo"
      },
      "source": [
        "import pickle\n",
        "data_words_bigrams = pickle.load(open('/content/drive/My Drive/Colab Notebooks/Blog authorship corpus/data_words_bigrams.txt', 'rb'))"
      ],
      "execution_count": null,
      "outputs": []
    },
    {
      "cell_type": "code",
      "metadata": {
        "id": "6jJKrvwqGeuV"
      },
      "source": [
        "# Do lemmatization keeping only noun, adj, vb, adv\n",
        "data_lemmatized = lemmatization(data_words_bigrams, allowed_postags=['NOUN', 'ADJ', 'VERB', 'ADV'])\n",
        "\n",
        "print(data_lemmatized[:1])"
      ],
      "execution_count": null,
      "outputs": []
    },
    {
      "cell_type": "code",
      "metadata": {
        "id": "yK4uugAMGebZ",
        "outputId": "c10ff1f5-243d-4434-df27-ad962397184c",
        "colab": {
          "base_uri": "https://localhost:8080/",
          "height": 34
        }
      },
      "source": [
        "# Create Dictionary\n",
        "id2word = corpora.Dictionary(data_lemmatized)\n",
        "\n",
        "# Create Corpus\n",
        "texts = data_lemmatized\n",
        "\n",
        "# Term Document Frequency\n",
        "corpus = [id2word.doc2bow(text) for text in texts]\n",
        "\n",
        "# View\n",
        "print(corpus[:1])"
      ],
      "execution_count": null,
      "outputs": [
        {
          "output_type": "stream",
          "text": [
            "[[(0, 1), (1, 1), (2, 1), (3, 1), (4, 1), (5, 1), (6, 1), (7, 1), (8, 1)]]\n"
          ],
          "name": "stdout"
        }
      ]
    },
    {
      "cell_type": "code",
      "metadata": {
        "id": "9XP0tO2NGeWn"
      },
      "source": [
        "import pickle\n",
        "id2w = open(\"id2word.txt\", \"wb\")\n",
        "pickle.dump(id2word ,id2w)\n",
        "id2w.close()\n",
        "\n",
        "data_lem = open(\"data_lemmatized.txt\", \"wb\")\n",
        "pickle.dump(data_lemmatized ,data_lem)\n",
        "data_lem.close()\n",
        "\n",
        "crpus = open(\"corpus.txt\", \"wb\")\n",
        "pickle.dump(corpus, crpus)\n",
        "crpus.close()"
      ],
      "execution_count": null,
      "outputs": []
    },
    {
      "cell_type": "code",
      "metadata": {
        "id": "A4NuB0TgjhA0",
        "outputId": "642fa058-90da-4d52-dad3-995cfb147ff6",
        "colab": {
          "base_uri": "https://localhost:8080/",
          "height": 50
        }
      },
      "source": [
        "from google.colab import files\n",
        "files.download('data_lemmatized.txt')\n",
        "\n",
        "files.download('id2word.txt')\n",
        "\n",
        "files.download('corpus.txt')"
      ],
      "execution_count": null,
      "outputs": [
        {
          "output_type": "display_data",
          "data": {
            "application/javascript": [
              "\n",
              "    async function download(id, filename, size) {\n",
              "      if (!google.colab.kernel.accessAllowed) {\n",
              "        return;\n",
              "      }\n",
              "      const div = document.createElement('div');\n",
              "      const label = document.createElement('label');\n",
              "      label.textContent = `Downloading \"${filename}\": `;\n",
              "      div.appendChild(label);\n",
              "      const progress = document.createElement('progress');\n",
              "      progress.max = size;\n",
              "      div.appendChild(progress);\n",
              "      document.body.appendChild(div);\n",
              "\n",
              "      const buffers = [];\n",
              "      let downloaded = 0;\n",
              "\n",
              "      const channel = await google.colab.kernel.comms.open(id);\n",
              "      // Send a message to notify the kernel that we're ready.\n",
              "      channel.send({})\n",
              "\n",
              "      for await (const message of channel.messages) {\n",
              "        // Send a message to notify the kernel that we're ready.\n",
              "        channel.send({})\n",
              "        if (message.buffers) {\n",
              "          for (const buffer of message.buffers) {\n",
              "            buffers.push(buffer);\n",
              "            downloaded += buffer.byteLength;\n",
              "            progress.value = downloaded;\n",
              "          }\n",
              "        }\n",
              "      }\n",
              "      const blob = new Blob(buffers, {type: 'application/binary'});\n",
              "      const a = document.createElement('a');\n",
              "      a.href = window.URL.createObjectURL(blob);\n",
              "      a.download = filename;\n",
              "      div.appendChild(a);\n",
              "      a.click();\n",
              "      div.remove();\n",
              "    }\n",
              "  "
            ],
            "text/plain": [
              "<IPython.core.display.Javascript object>"
            ]
          },
          "metadata": {
            "tags": []
          }
        },
        {
          "output_type": "display_data",
          "data": {
            "application/javascript": [
              "download(\"download_cc1ee077-0439-4f55-9199-fbfd6d6718fc\", \"data_lemmatized.txt\", 388839793)"
            ],
            "text/plain": [
              "<IPython.core.display.Javascript object>"
            ]
          },
          "metadata": {
            "tags": []
          }
        },
        {
          "output_type": "display_data",
          "data": {
            "application/javascript": [
              "\n",
              "    async function download(id, filename, size) {\n",
              "      if (!google.colab.kernel.accessAllowed) {\n",
              "        return;\n",
              "      }\n",
              "      const div = document.createElement('div');\n",
              "      const label = document.createElement('label');\n",
              "      label.textContent = `Downloading \"${filename}\": `;\n",
              "      div.appendChild(label);\n",
              "      const progress = document.createElement('progress');\n",
              "      progress.max = size;\n",
              "      div.appendChild(progress);\n",
              "      document.body.appendChild(div);\n",
              "\n",
              "      const buffers = [];\n",
              "      let downloaded = 0;\n",
              "\n",
              "      const channel = await google.colab.kernel.comms.open(id);\n",
              "      // Send a message to notify the kernel that we're ready.\n",
              "      channel.send({})\n",
              "\n",
              "      for await (const message of channel.messages) {\n",
              "        // Send a message to notify the kernel that we're ready.\n",
              "        channel.send({})\n",
              "        if (message.buffers) {\n",
              "          for (const buffer of message.buffers) {\n",
              "            buffers.push(buffer);\n",
              "            downloaded += buffer.byteLength;\n",
              "            progress.value = downloaded;\n",
              "          }\n",
              "        }\n",
              "      }\n",
              "      const blob = new Blob(buffers, {type: 'application/binary'});\n",
              "      const a = document.createElement('a');\n",
              "      a.href = window.URL.createObjectURL(blob);\n",
              "      a.download = filename;\n",
              "      div.appendChild(a);\n",
              "      a.click();\n",
              "      div.remove();\n",
              "    }\n",
              "  "
            ],
            "text/plain": [
              "<IPython.core.display.Javascript object>"
            ]
          },
          "metadata": {
            "tags": []
          }
        },
        {
          "output_type": "display_data",
          "data": {
            "application/javascript": [
              "download(\"download_e65c22af-96ba-44b8-a54c-30674ff397de\", \"id2word.txt\", 1402590)"
            ],
            "text/plain": [
              "<IPython.core.display.Javascript object>"
            ]
          },
          "metadata": {
            "tags": []
          }
        },
        {
          "output_type": "display_data",
          "data": {
            "application/javascript": [
              "\n",
              "    async function download(id, filename, size) {\n",
              "      if (!google.colab.kernel.accessAllowed) {\n",
              "        return;\n",
              "      }\n",
              "      const div = document.createElement('div');\n",
              "      const label = document.createElement('label');\n",
              "      label.textContent = `Downloading \"${filename}\": `;\n",
              "      div.appendChild(label);\n",
              "      const progress = document.createElement('progress');\n",
              "      progress.max = size;\n",
              "      div.appendChild(progress);\n",
              "      document.body.appendChild(div);\n",
              "\n",
              "      const buffers = [];\n",
              "      let downloaded = 0;\n",
              "\n",
              "      const channel = await google.colab.kernel.comms.open(id);\n",
              "      // Send a message to notify the kernel that we're ready.\n",
              "      channel.send({})\n",
              "\n",
              "      for await (const message of channel.messages) {\n",
              "        // Send a message to notify the kernel that we're ready.\n",
              "        channel.send({})\n",
              "        if (message.buffers) {\n",
              "          for (const buffer of message.buffers) {\n",
              "            buffers.push(buffer);\n",
              "            downloaded += buffer.byteLength;\n",
              "            progress.value = downloaded;\n",
              "          }\n",
              "        }\n",
              "      }\n",
              "      const blob = new Blob(buffers, {type: 'application/binary'});\n",
              "      const a = document.createElement('a');\n",
              "      a.href = window.URL.createObjectURL(blob);\n",
              "      a.download = filename;\n",
              "      div.appendChild(a);\n",
              "      a.click();\n",
              "      div.remove();\n",
              "    }\n",
              "  "
            ],
            "text/plain": [
              "<IPython.core.display.Javascript object>"
            ]
          },
          "metadata": {
            "tags": []
          }
        },
        {
          "output_type": "display_data",
          "data": {
            "application/javascript": [
              "download(\"download_4035912b-fb58-4e0b-a9ba-d412cf47243e\", \"corpus.txt\", 215032510)"
            ],
            "text/plain": [
              "<IPython.core.display.Javascript object>"
            ]
          },
          "metadata": {
            "tags": []
          }
        }
      ]
    },
    {
      "cell_type": "code",
      "metadata": {
        "id": "0oE6u_h57mL-"
      },
      "source": [
        "import pickle\n",
        "data_lemmatized = pickle.load(open('/content/drive/My Drive/Colab Notebooks/Blog authorship corpus/data_lemmatized.txt', 'rb'))\n",
        "id2word = pickle.load(open('/content/drive/My Drive/Colab Notebooks/Blog authorship corpus/id2word.txt', 'rb'))\n",
        "corpus = pickle.load(open('/content/drive/My Drive/Colab Notebooks/Blog authorship corpus/corpus.txt', 'rb'))"
      ],
      "execution_count": null,
      "outputs": []
    },
    {
      "cell_type": "code",
      "metadata": {
        "id": "GhqnoEVU7-6t",
        "outputId": "a69b4b26-ca04-4e62-ddd6-ef8f50fe0e9d",
        "colab": {
          "base_uri": "https://localhost:8080/",
          "height": 168
        }
      },
      "source": [
        "# Human readable format of corpus (term-frequency)\n",
        "[[(id2word[id], freq) for id, freq in cp] for cp in corpus[:1]]"
      ],
      "execution_count": null,
      "outputs": [
        {
          "output_type": "execute_result",
          "data": {
            "text/plain": [
              "[[('file', 1),\n",
              "  ('html', 1),\n",
              "  ('info', 1),\n",
              "  ('leader', 1),\n",
              "  ('learn', 1),\n",
              "  ('page', 1),\n",
              "  ('process', 1),\n",
              "  ('team', 1),\n",
              "  ('wait', 1)]]"
            ]
          },
          "metadata": {
            "tags": []
          },
          "execution_count": 6
        }
      ]
    },
    {
      "cell_type": "code",
      "metadata": {
        "id": "_5IIxCJLBCe1",
        "outputId": "a6fc3cdb-7b36-4c41-b4c9-c73586df18b6",
        "colab": {
          "base_uri": "https://localhost:8080/",
          "height": 84
        }
      },
      "source": [
        "!pip install numba"
      ],
      "execution_count": null,
      "outputs": [
        {
          "output_type": "stream",
          "text": [
            "Requirement already satisfied: numba in /usr/local/lib/python3.6/dist-packages (0.48.0)\n",
            "Requirement already satisfied: numpy>=1.15 in /usr/local/lib/python3.6/dist-packages (from numba) (1.18.5)\n",
            "Requirement already satisfied: llvmlite<0.32.0,>=0.31.0dev0 in /usr/local/lib/python3.6/dist-packages (from numba) (0.31.0)\n",
            "Requirement already satisfied: setuptools in /usr/local/lib/python3.6/dist-packages (from numba) (50.3.0)\n"
          ],
          "name": "stdout"
        }
      ]
    },
    {
      "cell_type": "code",
      "metadata": {
        "id": "_icActbOPVu2"
      },
      "source": [
        "# from numba import jit, cuda\n",
        "import numpy as np\n",
        "from numba import jit, njit, vectorize, cuda\n",
        "# from timeit import default_timer as timer"
      ],
      "execution_count": null,
      "outputs": []
    },
    {
      "cell_type": "code",
      "metadata": {
        "id": "G_zKTIxMFcAk"
      },
      "source": [
        "@vectorize(['int64(int64)'], target='cuda')\n",
        "def func(a):\n",
        "  for i in range(10000000):\n",
        "    a[i]+=1\n",
        "\n",
        "@jit\n",
        "def func2(a):\n",
        "  for i in range(10000000):\n",
        "    a[i]+=1\n",
        "\n",
        "if __name__ == \"__main__\":\n",
        "  n=10000000\n",
        "  a = np.ones(n, dtype=np.float64)\n",
        "  b = np.ones(n, dtype=np.float32)\n",
        "\n",
        "  start = timer()\n",
        "  func(a)\n",
        "  print(\"without gpu: \", timer()-start)\n",
        "  start = timer()\n",
        "  func2(a)\n",
        "  print(\"with gpu: \", timer()-start)"
      ],
      "execution_count": null,
      "outputs": []
    },
    {
      "cell_type": "markdown",
      "metadata": {
        "id": "hdYpUNxixRN1"
      },
      "source": [
        "## Function compute_coherence_values returns a list of model, coherence values and perplexity values for different values of number of topics."
      ]
    },
    {
      "cell_type": "code",
      "metadata": {
        "id": "jI4dfKdb8JfD"
      },
      "source": [
        "# from numba import jit, cuda \n",
        "# import numpy as np\n",
        "\n",
        "# @jit\n",
        "# # (target =\"cuda\")\n",
        "def compute_coherence_values(dictionary, corpus, texts, limit, start=2, step=3):\n",
        "    coherence_values = []\n",
        "    model_list = []\n",
        "    perplexity_value = []\n",
        "    for num_topics in range(start, limit, step):\n",
        "        start = timer()\n",
        "        print(num_topics, limit, step,end=' ')\n",
        "        model = gensim.models.ldamodel.LdaModel(corpus=corpus,\n",
        "                                           id2word=id2word,\n",
        "                                           num_topics=num_topics, \n",
        "                                           random_state=1,\n",
        "                                           passes=2)\n",
        "        model_list.append(model)\n",
        "        coherencemodel = CoherenceModel(model=model, texts=texts, dictionary=dictionary, coherence='c_v')\n",
        "        coherence_values.append(coherencemodel.get_coherence())\n",
        "        perplexity_value.append(model.log_perplexity(corpus))\n",
        "        print(timer()-start)\n",
        "        print('------------')\n",
        "\n",
        "    return model_list, coherence_values, perplexity_value"
      ],
      "execution_count": null,
      "outputs": []
    },
    {
      "cell_type": "markdown",
      "metadata": {
        "id": "qjYhR1zWxx0i"
      },
      "source": [
        "### Number of topics from range 44 - 80"
      ]
    },
    {
      "cell_type": "code",
      "metadata": {
        "id": "YYcNfGhg8cW0",
        "outputId": "09d2bdb8-1f55-455f-fa99-335a41f00a5e",
        "colab": {
          "base_uri": "https://localhost:8080/",
          "height": 252
        }
      },
      "source": [
        "# Can take a long time to run.\n",
        "model_list, coherence_values, perplexity_values = compute_coherence_values(dictionary=id2word, corpus=corpus, texts=data_lemmatized, start=2, limit=40, step=6)"
      ],
      "execution_count": null,
      "outputs": [
        {
          "output_type": "stream",
          "text": [
            "2 40 6 430.057138486\n",
            "------------\n",
            "8 40 6 695.6193528270001\n",
            "------------\n",
            "14 40 6 870.9366201519997\n",
            "------------\n",
            "20 40 6 1084.9574699129998\n",
            "------------\n",
            "26 40 6 1267.991185105\n",
            "------------\n",
            "32 40 6 1499.3774375840003\n",
            "------------\n",
            "38 40 6 1887.1623107860005\n",
            "------------\n"
          ],
          "name": "stdout"
        }
      ]
    },
    {
      "cell_type": "code",
      "metadata": {
        "id": "5Lpu9zmV80kw",
        "outputId": "aa20fb97-6ee9-4bf0-b9c0-8feaaeac29bd",
        "colab": {
          "base_uri": "https://localhost:8080/",
          "height": 279
        }
      },
      "source": [
        "# Show graph\n",
        "limit=40; start=2; step=6;\n",
        "x = range(start, limit, step)\n",
        "plt.plot(x, coherence_values)\n",
        "plt.xlabel(\"Num Topics\")\n",
        "plt.ylabel(\"Coherence score\")\n",
        "plt.legend((\"coherence_values\"), loc='best')\n",
        "plt.show()"
      ],
      "execution_count": null,
      "outputs": [
        {
          "output_type": "display_data",
          "data": {
            "image/png": "[encoded data removed]",
            "text/plain": [
              "<Figure size 432x288 with 1 Axes>"
            ]
          },
          "metadata": {
            "tags": [],
            "needs_background": "light"
          }
        }
      ]
    },
    {
      "cell_type": "code",
      "metadata": {
        "id": "2tx6sPVi88sh",
        "outputId": "1d4db19a-4a1c-4df9-cbe4-45cc4eab8b1d",
        "colab": {
          "base_uri": "https://localhost:8080/",
          "height": 134
        }
      },
      "source": [
        "# Print the coherence scores\n",
        "for m, cv in zip(x, coherence_values):\n",
        "    print(\"Num Topics =\", m, \" has Coherence Value of\", round(cv, 4))"
      ],
      "execution_count": null,
      "outputs": [
        {
          "output_type": "stream",
          "text": [
            "Num Topics = 2  has Coherence Value of 0.4048\n",
            "Num Topics = 8  has Coherence Value of 0.4676\n",
            "Num Topics = 14  has Coherence Value of 0.4796\n",
            "Num Topics = 20  has Coherence Value of 0.4771\n",
            "Num Topics = 26  has Coherence Value of 0.476\n",
            "Num Topics = 32  has Coherence Value of 0.4496\n",
            "Num Topics = 38  has Coherence Value of 0.4592\n"
          ],
          "name": "stdout"
        }
      ]
    },
    {
      "cell_type": "code",
      "metadata": {
        "id": "cMw1BXLS89RE",
        "outputId": "b9f93285-3e29-4f90-b4c8-29c3288d62b3",
        "colab": {
          "base_uri": "https://localhost:8080/",
          "height": 857
        }
      },
      "source": [
        "# Select the model and print the topics\n",
        "optimal_model = model_list[2]\n",
        "model_topics = optimal_model.show_topics(formatted=False)\n",
        "pprint(optimal_model.print_topics(num_words=10))\n",
        "# pprint(model_topics)"
      ],
      "execution_count": null,
      "outputs": [
        {
          "output_type": "stream",
          "text": [
            "[(0,\n",
            "  '0.051*\"know\" + 0.046*\"think\" + 0.036*\"want\" + 0.028*\"thing\" + 0.027*\"go\" + '\n",
            "  '0.025*\"feel\" + 0.018*\"tell\" + 0.018*\"time\" + 0.018*\"say\" + 0.017*\"friend\"'),\n",
            " (1,\n",
            "  '0.104*\"play\" + 0.065*\"game\" + 0.037*\"team\" + 0.025*\"good\" + 0.018*\"lose\" + '\n",
            "  '0.017*\"player\" + 0.014*\"beat\" + 0.012*\"season\" + 0.012*\"time\" + '\n",
            "  '0.012*\"ball\"'),\n",
            " (2,\n",
            "  '0.024*\"think\" + 0.018*\"peopl\" + 0.015*\"person\" + 0.014*\"time\" + '\n",
            "  '0.013*\"live\" + 0.012*\"know\" + 0.011*\"thing\" + 0.011*\"differ\" + 0.010*\"good\" '\n",
            "  '+ 0.009*\"mean\"'),\n",
            " (3,\n",
            "  '0.035*\"work\" + 0.020*\"money\" + 0.016*\"need\" + 0.012*\"sell\" + 0.010*\"pay\" + '\n",
            "  '0.010*\"program\" + 0.009*\"price\" + 0.009*\"develop\" + 0.009*\"product\" + '\n",
            "  '0.009*\"month\"'),\n",
            " (4,\n",
            "  '0.073*\"love\" + 0.042*\"feel\" + 0.024*\"heart\" + 0.023*\"know\" + 0.020*\"life\" + '\n",
            "  '0.018*\"dream\" + 0.015*\"time\" + 0.014*\"away\" + 0.013*\"come\" + 0.012*\"live\"'),\n",
            " (5,\n",
            "  '0.061*\"test\" + 0.047*\"bring\" + 0.032*\"doctor\" + 0.029*\"urllink\" + '\n",
            "  '0.026*\"result\" + 0.022*\"partner\" + 0.020*\"level\" + 0.016*\"high\" + '\n",
            "  '0.015*\"drug\" + 0.015*\"blood\"'),\n",
            " (6,\n",
            "  '0.047*\"watch\" + 0.038*\"kill\" + 0.035*\"movi\" + 0.028*\"film\" + 0.024*\"see\" + '\n",
            "  '0.017*\"dead\" + 0.016*\"evil\" + 0.015*\"die\" + 0.015*\"scene\" + 0.014*\"death\"'),\n",
            " (7,\n",
            "  '0.033*\"music\" + 0.028*\"girl\" + 0.022*\"good\" + 0.022*\"play\" + 0.018*\"band\" + '\n",
            "  '0.017*\"listen\" + 0.015*\"song\" + 0.014*\"love\" + 0.014*\"hear\" + 0.012*\"sing\"'),\n",
            " (8,\n",
            "  '0.051*\"say\" + 0.015*\"govern\" + 0.014*\"vote\" + 0.012*\"nation\" + 0.010*\"year\" '\n",
            "  '+ 0.009*\"support\" + 0.009*\"attack\" + 0.009*\"report\" + 0.009*\"american\" + '\n",
            "  '0.008*\"right\"'),\n",
            " (9,\n",
            "  '0.054*\"go\" + 0.029*\"time\" + 0.025*\"today\" + 0.022*\"work\" + 0.020*\"come\" + '\n",
            "  '0.019*\"home\" + 0.019*\"good\" + 0.017*\"night\" + 0.017*\"week\" + 0.015*\"think\"'),\n",
            " (10,\n",
            "  '0.058*\"blog\" + 0.051*\"read\" + 0.046*\"write\" + 0.027*\"post\" + 0.024*\"book\" + '\n",
            "  '0.022*\"site\" + 0.017*\"page\" + 0.017*\"comment\" + 0.015*\"think\" + '\n",
            "  '0.015*\"link\"'),\n",
            " (11,\n",
            "  '0.018*\"look\" + 0.015*\"say\" + 0.013*\"walk\" + 0.012*\"come\" + 0.012*\"take\" + '\n",
            "  '0.011*\"head\" + 0.011*\"turn\" + 0.010*\"hand\" + 0.009*\"tell\" + 0.008*\"room\"'),\n",
            " (12,\n",
            "  '0.069*\"school\" + 0.053*\"class\" + 0.038*\"today\" + 0.027*\"teacher\" + '\n",
            "  '0.025*\"student\" + 0.018*\"test\" + 0.017*\"year\" + 0.016*\"learn\" + '\n",
            "  '0.015*\"teach\" + 0.013*\"food\"'),\n",
            " (13,\n",
            "  '0.055*\"look\" + 0.050*\"wear\" + 0.035*\"hair\" + 0.032*\"black\" + 0.021*\"color\" '\n",
            "  '+ 0.017*\"dress\" + 0.017*\"white\" + 0.017*\"shoe\" + 0.016*\"shirt\" + '\n",
            "  '0.015*\"cloth\"')]\n"
          ],
          "name": "stdout"
        }
      ]
    },
    {
      "cell_type": "markdown",
      "metadata": {
        "id": "rKzRiD7wx9jw"
      },
      "source": [
        "### Number of topics from range 44 - 80"
      ]
    },
    {
      "cell_type": "code",
      "metadata": {
        "id": "IwTEuJGkzUVv",
        "outputId": "6882d19b-94f8-4128-87b5-761f553fc31f",
        "colab": {
          "base_uri": "https://localhost:8080/",
          "height": 218
        }
      },
      "source": [
        "# Can take a long time to run.\n",
        "model_list2, coherence_values2 = compute_coherence_values(dictionary=id2word, corpus=corpus, texts=data_lemmatized, start=44, limit=80, step=6)"
      ],
      "execution_count": null,
      "outputs": [
        {
          "output_type": "stream",
          "text": [
            "44 80 6 1978.8353855500009\n",
            "------------\n",
            "50 80 6 2126.761853872\n",
            "------------\n",
            "56 80 6 2386.7235957639987\n",
            "------------\n",
            "62 80 6 2576.751829042998\n",
            "------------\n",
            "68 80 6 2772.7152031290025\n",
            "------------\n",
            "74 80 6 3548.333592723997\n",
            "------------\n"
          ],
          "name": "stdout"
        }
      ]
    },
    {
      "cell_type": "code",
      "metadata": {
        "id": "3plXKGpiuoF9",
        "outputId": "421f4670-227b-4941-8c8c-1f09e7bfe46f",
        "colab": {
          "base_uri": "https://localhost:8080/",
          "height": 279
        }
      },
      "source": [
        "# Show graph\n",
        "limit=80; start=44; step=6;\n",
        "x = range(start, limit, step)\n",
        "plt.plot(x, coherence_values2)\n",
        "plt.xlabel(\"Num Topics\")\n",
        "plt.ylabel(\"Coherence score\")\n",
        "plt.legend((\"coherence_values\"), loc='best')\n",
        "plt.show()"
      ],
      "execution_count": null,
      "outputs": [
        {
          "output_type": "display_data",
          "data": {
            "image/png": "[encoded data removed]",
            "text/plain": [
              "<Figure size 432x288 with 1 Axes>"
            ]
          },
          "metadata": {
            "tags": [],
            "needs_background": "light"
          }
        }
      ]
    },
    {
      "cell_type": "code",
      "metadata": {
        "id": "fhOFUZR6uoL-",
        "outputId": "a0495716-830b-46c0-e0b5-7631e9568e9f",
        "colab": {
          "base_uri": "https://localhost:8080/",
          "height": 118
        }
      },
      "source": [
        "# Print the coherence scores\n",
        "for m, cv in zip(x, coherence_values2):\n",
        "    print(\"Num Topics =\", m, \" has Coherence Value of\", round(cv, 4))"
      ],
      "execution_count": null,
      "outputs": [
        {
          "output_type": "stream",
          "text": [
            "Num Topics = 44  has Coherence Value of 0.4288\n",
            "Num Topics = 50  has Coherence Value of 0.4103\n",
            "Num Topics = 56  has Coherence Value of 0.4132\n",
            "Num Topics = 62  has Coherence Value of 0.3894\n",
            "Num Topics = 68  has Coherence Value of 0.3779\n",
            "Num Topics = 74  has Coherence Value of 0.3778\n"
          ],
          "name": "stdout"
        }
      ]
    },
    {
      "cell_type": "code",
      "metadata": {
        "id": "dCbGCtgqun--",
        "outputId": "042a1f5b-a9f8-450d-9895-250f00ea564b",
        "colab": {
          "base_uri": "https://localhost:8080/",
          "height": 1000
        }
      },
      "source": [
        "# Select the model and print the topics\n",
        "optimal_model = model_list2[0]\n",
        "model_topics = optimal_model.show_topics(formatted=False)\n",
        "pprint(optimal_model.print_topics(num_words=10))\n",
        "pprint(model_topics)"
      ],
      "execution_count": null,
      "outputs": [
        {
          "output_type": "stream",
          "text": [
            "[(26,\n",
            "  '0.145*\"say\" + 0.075*\"tell\" + 0.053*\"ask\" + 0.049*\"know\" + 0.031*\"think\" + '\n",
            "  '0.026*\"question\" + 0.024*\"come\" + 0.023*\"answer\" + 0.021*\"want\" + '\n",
            "  '0.021*\"talk\"'),\n",
            " (32,\n",
            "  '0.049*\"kill\" + 0.035*\"fight\" + 0.030*\"attack\" + 0.024*\"report\" + '\n",
            "  '0.019*\"nation\" + 0.016*\"american\" + 0.015*\"soldier\" + 0.015*\"say\" + '\n",
            "  '0.013*\"murder\" + 0.012*\"terror\"'),\n",
            " (42,\n",
            "  '0.174*\"wear\" + 0.080*\"black\" + 0.072*\"dress\" + 0.059*\"shoe\" + 0.058*\"cloth\" '\n",
            "  '+ 0.055*\"shirt\" + 0.036*\"pant\" + 0.020*\"short\" + 0.019*\"steal\" + '\n",
            "  '0.016*\"look\"'),\n",
            " (9,\n",
            "  '0.071*\"go\" + 0.048*\"home\" + 0.041*\"come\" + 0.024*\"time\" + 0.024*\"take\" + '\n",
            "  '0.022*\"call\" + 0.021*\"want\" + 0.021*\"wait\" + 0.018*\"hour\" + 0.015*\"phone\"'),\n",
            " (21,\n",
            "  '0.676*\"love\" + 0.096*\"dream\" + 0.026*\"true\" + 0.019*\"heart\" + '\n",
            "  '0.015*\"passion\" + 0.014*\"fall\" + 0.010*\"angel\" + 0.006*\"pirat\" + '\n",
            "  '0.006*\"chew\" + 0.005*\"hyper\"'),\n",
            " (34,\n",
            "  '0.147*\"school\" + 0.111*\"class\" + 0.083*\"test\" + 0.058*\"teacher\" + '\n",
            "  '0.037*\"year\" + 0.033*\"high\" + 0.029*\"grade\" + 0.027*\"learn\" + '\n",
            "  '0.027*\"student\" + 0.022*\"teach\"'),\n",
            " (0,\n",
            "  '0.069*\"know\" + 0.067*\"feel\" + 0.057*\"want\" + 0.042*\"think\" + 0.033*\"thing\" '\n",
            "  '+ 0.029*\"life\" + 0.023*\"time\" + 0.020*\"need\" + 0.015*\"go\" + 0.012*\"come\"'),\n",
            " (4,\n",
            "  '0.091*\"name\" + 0.065*\"dear\" + 0.045*\"french\" + 0.036*\"target\" + '\n",
            "  '0.029*\"giant\" + 0.026*\"pure\" + 0.026*\"civil\" + 0.025*\"german\" + '\n",
            "  '0.022*\"adult\" + 0.021*\"pace\"'),\n",
            " (16,\n",
            "  '0.202*\"think\" + 0.044*\"mind\" + 0.036*\"wonder\" + 0.035*\"brain\" + '\n",
            "  '0.020*\"addict\" + 0.019*\"mental\" + 0.019*\"idea\" + 0.015*\"self\" + '\n",
            "  '0.013*\"type\" + 0.012*\"concept\"'),\n",
            " (18,\n",
            "  '0.123*\"word\" + 0.091*\"church\" + 0.071*\"thank\" + 0.055*\"draw\" + 0.045*\"pray\" '\n",
            "  '+ 0.044*\"faith\" + 0.037*\"artist\" + 0.036*\"prayer\" + 0.024*\"christian\" + '\n",
            "  '0.023*\"youth\"'),\n",
            " (13,\n",
            "  '0.224*\"drink\" + 0.044*\"coffe\" + 0.031*\"beer\" + 0.023*\"wine\" + 0.020*\"glass\" '\n",
            "  '+ 0.020*\"shoot\" + 0.020*\"club\" + 0.020*\"size\" + 0.016*\"alcohol\" + '\n",
            "  '0.015*\"contest\"'),\n",
            " (39,\n",
            "  '0.083*\"sleep\" + 0.082*\"night\" + 0.042*\"wake\" + 0.035*\"tonight\" + '\n",
            "  '0.035*\"feel\" + 0.035*\"go\" + 0.030*\"birthday\" + 0.028*\"hour\" + 0.024*\"late\" '\n",
            "  '+ 0.024*\"today\"'),\n",
            " (7,\n",
            "  '0.146*\"woman\" + 0.116*\"girl\" + 0.105*\"child\" + 0.057*\"young\" + '\n",
            "  '0.041*\"parent\" + 0.040*\"kid\" + 0.030*\"boy\" + 0.025*\"old\" + 0.024*\"daughter\" '\n",
            "  '+ 0.021*\"year\"'),\n",
            " (1,\n",
            "  '0.111*\"send\" + 0.076*\"number\" + 0.059*\"mail\" + 0.047*\"member\" + '\n",
            "  '0.043*\"race\" + 0.037*\"date\" + 0.036*\"group\" + 0.031*\"religion\" + '\n",
            "  '0.027*\"rule\" + 0.027*\"messag\"'),\n",
            " (14,\n",
            "  '0.083*\"onlin\" + 0.081*\"internet\" + 0.057*\"spell\" + 0.046*\"text\" + '\n",
            "  '0.039*\"connect\" + 0.035*\"ball\" + 0.029*\"user\" + 0.028*\"download\" + '\n",
            "  '0.022*\"medium\" + 0.019*\"neat\"'),\n",
            " (12,\n",
            "  '0.066*\"round\" + 0.043*\"fix\" + 0.028*\"reach\" + 0.027*\"block\" + 0.025*\"pack\" '\n",
            "  '+ 0.024*\"cough\" + 0.023*\"toss\" + 0.021*\"thingi\" + 0.020*\"confer\" + '\n",
            "  '0.020*\"mini\"'),\n",
            " (40,\n",
            "  '0.050*\"food\" + 0.036*\"drive\" + 0.036*\"eat\" + 0.023*\"road\" + 0.019*\"driver\" '\n",
            "  '+ 0.018*\"park\" + 0.015*\"tast\" + 0.013*\"fast\" + 0.012*\"meal\" + 0.012*\"stop\"'),\n",
            " (31,\n",
            "  '0.032*\"away\" + 0.032*\"heart\" + 0.032*\"eye\" + 0.032*\"smile\" + 0.028*\"face\" + '\n",
            "  '0.025*\"look\" + 0.024*\"fall\" + 0.023*\"hand\" + 0.020*\"feel\" + 0.020*\"hold\"'),\n",
            " (3,\n",
            "  '0.110*\"shall\" + 0.072*\"evil\" + 0.050*\"power\" + 0.038*\"holi\" + 0.036*\"stage\" '\n",
            "  '+ 0.033*\"hero\" + 0.025*\"ghost\" + 0.024*\"possess\" + 0.021*\"magic\" + '\n",
            "  '0.019*\"bullshit\"'),\n",
            " (11,\n",
            "  '0.031*\"look\" + 0.018*\"room\" + 0.017*\"walk\" + 0.016*\"head\" + 0.014*\"door\" + '\n",
            "  '0.014*\"start\" + 0.013*\"come\" + 0.013*\"take\" + 0.013*\"turn\" + 0.012*\"go\"')]\n",
            "[(11,\n",
            "  [('look', 0.030882502),\n",
            "   ('room', 0.018263644),\n",
            "   ('walk', 0.016916968),\n",
            "   ('head', 0.016185839),\n",
            "   ('door', 0.014085115),\n",
            "   ('start', 0.013643534),\n",
            "   ('come', 0.013068442),\n",
            "   ('take', 0.012986523),\n",
            "   ('turn', 0.012930629),\n",
            "   ('go', 0.012325218)]),\n",
            " (33,\n",
            "  [('train', 0.14396869),\n",
            "   ('student', 0.07720259),\n",
            "   ('level', 0.068580344),\n",
            "   ('period', 0.068052374),\n",
            "   ('teach', 0.047940325),\n",
            "   ('session', 0.036664348),\n",
            "   ('bout', 0.03393018),\n",
            "   ('skill', 0.02205404),\n",
            "   ('donat', 0.017516632),\n",
            "   ('tech', 0.016359966)]),\n",
            " (36,\n",
            "  [('result', 0.07969122),\n",
            "   ('match', 0.054193046),\n",
            "   ('expect', 0.043683264),\n",
            "   ('british', 0.02064884),\n",
            "   ('set', 0.020430312),\n",
            "   ('modern', 0.020309402),\n",
            "   ('research', 0.019922024),\n",
            "   ('defeat', 0.018963223),\n",
            "   ('titl', 0.018960021),\n",
            "   ('jazz', 0.017656665)]),\n",
            " (42,\n",
            "  [('wear', 0.17409882),\n",
            "   ('black', 0.080330916),\n",
            "   ('dress', 0.072211474),\n",
            "   ('shoe', 0.058855016),\n",
            "   ('cloth', 0.058264937),\n",
            "   ('shirt', 0.055339362),\n",
            "   ('pant', 0.036248207),\n",
            "   ('short', 0.019841542),\n",
            "   ('steal', 0.01877523),\n",
            "   ('look', 0.015755363)]),\n",
            " (7,\n",
            "  [('woman', 0.14592528),\n",
            "   ('girl', 0.11633149),\n",
            "   ('child', 0.105334856),\n",
            "   ('young', 0.05739305),\n",
            "   ('parent', 0.04117602),\n",
            "   ('kid', 0.0403182),\n",
            "   ('boy', 0.030299837),\n",
            "   ('old', 0.025305161),\n",
            "   ('daughter', 0.024113718),\n",
            "   ('year', 0.020601308)]),\n",
            " (24,\n",
            "  [('theme', 0.034847654),\n",
            "   ('bird', 0.029107146),\n",
            "   ('poem', 0.029022887),\n",
            "   ('flag', 0.02863776),\n",
            "   ('boat', 0.027743367),\n",
            "   ('gold', 0.025607232),\n",
            "   ('grass', 0.02424234),\n",
            "   ('knee', 0.022541095),\n",
            "   ('town', 0.01813383),\n",
            "   ('stink', 0.016681578)]),\n",
            " (30,\n",
            "  [('water', 0.07378777),\n",
            "   ('photo', 0.05344061),\n",
            "   ('pool', 0.05004829),\n",
            "   ('swim', 0.04583973),\n",
            "   ('camera', 0.03386387),\n",
            "   ('workout', 0.03220569),\n",
            "   ('soccer', 0.026417186),\n",
            "   ('firework', 0.020364426),\n",
            "   ('beach', 0.018485397),\n",
            "   ('diet', 0.016037434)]),\n",
            " (40,\n",
            "  [('food', 0.050337132),\n",
            "   ('drive', 0.03616099),\n",
            "   ('eat', 0.035852704),\n",
            "   ('road', 0.022846648),\n",
            "   ('driver', 0.019306704),\n",
            "   ('park', 0.018180411),\n",
            "   ('tast', 0.015374804),\n",
            "   ('fast', 0.012574968),\n",
            "   ('meal', 0.012478502),\n",
            "   ('stop', 0.01182079)]),\n",
            " (20,\n",
            "  [('person', 0.023167422),\n",
            "   ('peopl', 0.023054201),\n",
            "   ('differ', 0.021325056),\n",
            "   ('live', 0.017401176),\n",
            "   ('learn', 0.016408525),\n",
            "   ('world', 0.016385686),\n",
            "   ('understand', 0.014026484),\n",
            "   ('mean', 0.012954857),\n",
            "   ('creat', 0.012573563),\n",
            "   ('time', 0.012220308)]),\n",
            " (5,\n",
            "  [('kiss', 0.09647893),\n",
            "   ('tooth', 0.04227434),\n",
            "   ('bear', 0.032502685),\n",
            "   ('tight', 0.0318796),\n",
            "   ('wing', 0.028075334),\n",
            "   ('mouth', 0.026805751),\n",
            "   ('porn', 0.02384682),\n",
            "   ('bite', 0.02190808),\n",
            "   ('duck', 0.021113312),\n",
            "   ('column', 0.0200599)])]\n"
          ],
          "name": "stdout"
        }
      ]
    },
    {
      "cell_type": "code",
      "metadata": {
        "id": "olpQ05CLx_yD",
        "outputId": "cde88b81-001d-4813-edc6-252761c56831",
        "colab": {
          "base_uri": "https://localhost:8080/",
          "height": 54
        }
      },
      "source": [
        "final_model_list=model_list+model_list2\n",
        "print(final_model_list)"
      ],
      "execution_count": null,
      "outputs": [
        {
          "output_type": "stream",
          "text": [
            "[<gensim.models.ldamodel.LdaModel object at 0x7fc9cc8a59e8>, <gensim.models.ldamodel.LdaModel object at 0x7fc9cc798be0>, <gensim.models.ldamodel.LdaModel object at 0x7fc9cbc82e48>, <gensim.models.ldamodel.LdaModel object at 0x7fc9cbd50d68>, <gensim.models.ldamodel.LdaModel object at 0x7fc9cc6e0e48>, <gensim.models.ldamodel.LdaModel object at 0x7fc9cc6e0320>, <gensim.models.ldamodel.LdaModel object at 0x7fc9c543aeb8>, <gensim.models.ldamodel.LdaModel object at 0x7fc9ca5e0e80>, <gensim.models.ldamodel.LdaModel object at 0x7fc9c7541f28>, <gensim.models.ldamodel.LdaModel object at 0x7fc9c69d5f28>, <gensim.models.ldamodel.LdaModel object at 0x7fc9cc6e0828>, <gensim.models.ldamodel.LdaModel object at 0x7fc9cbc82dd8>, <gensim.models.ldamodel.LdaModel object at 0x7fc9c2ba0fd0>]\n"
          ],
          "name": "stdout"
        }
      ]
    },
    {
      "cell_type": "code",
      "metadata": {
        "id": "4FkCl5ERyRNJ",
        "outputId": "8da422f2-0184-4416-c680-797db9597215",
        "colab": {
          "base_uri": "https://localhost:8080/",
          "height": 70
        }
      },
      "source": [
        "print(coherence_values+coherence_values2)\n",
        "final_coherence_value = coherence_values+coherence_values2\n",
        "print(final_coherence_value)"
      ],
      "execution_count": null,
      "outputs": [
        {
          "output_type": "stream",
          "text": [
            "[0.4048223019407592, 0.4676388252010352, 0.4796279020723006, 0.4770809870073456, 0.4759895900112251, 0.4495640451714338, 0.4592129140352393, 0.42881682586055375, 0.4102821117313581, 0.41324611289867125, 0.38935282883286887, 0.37792997240752146, 0.3778223605315474]\n",
            "[0.4048223019407592, 0.4676388252010352, 0.4796279020723006, 0.4770809870073456, 0.4759895900112251, 0.4495640451714338, 0.4592129140352393, 0.42881682586055375, 0.4102821117313581, 0.41324611289867125, 0.38935282883286887, 0.37792997240752146, 0.3778223605315474]\n"
          ],
          "name": "stdout"
        }
      ]
    },
    {
      "cell_type": "code",
      "metadata": {
        "id": "ztLOfVUmyeQ4",
        "outputId": "038d3f6f-de85-4140-b45d-5bacb5920304",
        "colab": {
          "base_uri": "https://localhost:8080/",
          "height": 34
        }
      },
      "source": [
        "len(final_coherence_value)"
      ],
      "execution_count": null,
      "outputs": [
        {
          "output_type": "execute_result",
          "data": {
            "text/plain": [
              "2"
            ]
          },
          "metadata": {
            "tags": []
          },
          "execution_count": 20
        }
      ]
    },
    {
      "cell_type": "markdown",
      "metadata": {
        "id": "hVI4O4f8yJAv"
      },
      "source": [
        "Graph of coherence score vs no of topics (2-80)"
      ]
    },
    {
      "cell_type": "code",
      "metadata": {
        "id": "DLbWOjyUyg4p",
        "outputId": "60b19dcb-ca58-44f5-d23a-ce6270c9133e",
        "colab": {
          "base_uri": "https://localhost:8080/",
          "height": 279
        }
      },
      "source": [
        "# Show graph\n",
        "limit=80; start=2; step=6;\n",
        "x = range(start, limit, step)\n",
        "plt.plot(x, final_coherence_value)\n",
        "plt.xlabel(\"Num Topics\")\n",
        "plt.ylabel(\"Coherence score\")\n",
        "plt.legend((\"coherence_values\"), loc='best')\n",
        "plt.show()"
      ],
      "execution_count": null,
      "outputs": [
        {
          "output_type": "display_data",
          "data": {
            "image/png": "[encoded data removed]",
            "text/plain": [
              "<Figure size 432x288 with 1 Axes>"
            ]
          },
          "metadata": {
            "tags": [],
            "needs_background": "light"
          }
        }
      ]
    },
    {
      "cell_type": "code",
      "metadata": {
        "id": "vyhL-Znh7JpD"
      },
      "source": [
        "import pickle\n",
        "Model = open('model.pkl', 'wb')\n",
        "pickle.dump(model_list[2], Model)\n",
        "Model.close()"
      ],
      "execution_count": null,
      "outputs": []
    },
    {
      "cell_type": "code",
      "metadata": {
        "id": "z2_c37NA9Baw"
      },
      "source": [
        "file = pickle.load(open('/content/model.pkl', 'rb'))"
      ],
      "execution_count": null,
      "outputs": []
    },
    {
      "cell_type": "code",
      "metadata": {
        "id": "okbgENWi-O4J",
        "outputId": "6e090870-c475-45df-b26e-7a09501edead",
        "colab": {
          "base_uri": "https://localhost:8080/",
          "height": 34
        }
      },
      "source": [
        "file.log_perplexity(corpus)"
      ],
      "execution_count": null,
      "outputs": [
        {
          "output_type": "execute_result",
          "data": {
            "text/plain": [
              "-7.0532009114097525"
            ]
          },
          "metadata": {
            "tags": []
          },
          "execution_count": 48
        }
      ]
    },
    {
      "cell_type": "code",
      "metadata": {
        "id": "QsqzLl7Q9HwW",
        "outputId": "4cf2c63e-af31-44b2-999e-fd752b1a41d0",
        "colab": {
          "base_uri": "https://localhost:8080/",
          "height": 857
        }
      },
      "source": [
        "pprint(file.print_topics())\n"
      ],
      "execution_count": null,
      "outputs": [
        {
          "output_type": "stream",
          "text": [
            "[(0,\n",
            "  '0.051*\"know\" + 0.046*\"think\" + 0.036*\"want\" + 0.028*\"thing\" + 0.027*\"go\" + '\n",
            "  '0.025*\"feel\" + 0.018*\"tell\" + 0.018*\"time\" + 0.018*\"say\" + 0.017*\"friend\"'),\n",
            " (1,\n",
            "  '0.104*\"play\" + 0.065*\"game\" + 0.037*\"team\" + 0.025*\"good\" + 0.018*\"lose\" + '\n",
            "  '0.017*\"player\" + 0.014*\"beat\" + 0.012*\"season\" + 0.012*\"time\" + '\n",
            "  '0.012*\"ball\"'),\n",
            " (2,\n",
            "  '0.024*\"think\" + 0.018*\"peopl\" + 0.015*\"person\" + 0.014*\"time\" + '\n",
            "  '0.013*\"live\" + 0.012*\"know\" + 0.011*\"thing\" + 0.011*\"differ\" + 0.010*\"good\" '\n",
            "  '+ 0.009*\"mean\"'),\n",
            " (3,\n",
            "  '0.035*\"work\" + 0.020*\"money\" + 0.016*\"need\" + 0.012*\"sell\" + 0.010*\"pay\" + '\n",
            "  '0.010*\"program\" + 0.009*\"price\" + 0.009*\"develop\" + 0.009*\"product\" + '\n",
            "  '0.009*\"month\"'),\n",
            " (4,\n",
            "  '0.073*\"love\" + 0.042*\"feel\" + 0.024*\"heart\" + 0.023*\"know\" + 0.020*\"life\" + '\n",
            "  '0.018*\"dream\" + 0.015*\"time\" + 0.014*\"away\" + 0.013*\"come\" + 0.012*\"live\"'),\n",
            " (5,\n",
            "  '0.061*\"test\" + 0.047*\"bring\" + 0.032*\"doctor\" + 0.029*\"urllink\" + '\n",
            "  '0.026*\"result\" + 0.022*\"partner\" + 0.020*\"level\" + 0.016*\"high\" + '\n",
            "  '0.015*\"drug\" + 0.015*\"blood\"'),\n",
            " (6,\n",
            "  '0.047*\"watch\" + 0.038*\"kill\" + 0.035*\"movi\" + 0.028*\"film\" + 0.024*\"see\" + '\n",
            "  '0.017*\"dead\" + 0.016*\"evil\" + 0.015*\"die\" + 0.015*\"scene\" + 0.014*\"death\"'),\n",
            " (7,\n",
            "  '0.033*\"music\" + 0.028*\"girl\" + 0.022*\"good\" + 0.022*\"play\" + 0.018*\"band\" + '\n",
            "  '0.017*\"listen\" + 0.015*\"song\" + 0.014*\"love\" + 0.014*\"hear\" + 0.012*\"sing\"'),\n",
            " (8,\n",
            "  '0.051*\"say\" + 0.015*\"govern\" + 0.014*\"vote\" + 0.012*\"nation\" + 0.010*\"year\" '\n",
            "  '+ 0.009*\"support\" + 0.009*\"attack\" + 0.009*\"report\" + 0.009*\"american\" + '\n",
            "  '0.008*\"right\"'),\n",
            " (9,\n",
            "  '0.054*\"go\" + 0.029*\"time\" + 0.025*\"today\" + 0.022*\"work\" + 0.020*\"come\" + '\n",
            "  '0.019*\"home\" + 0.019*\"good\" + 0.017*\"night\" + 0.017*\"week\" + 0.015*\"think\"'),\n",
            " (10,\n",
            "  '0.058*\"blog\" + 0.051*\"read\" + 0.046*\"write\" + 0.027*\"post\" + 0.024*\"book\" + '\n",
            "  '0.022*\"site\" + 0.017*\"page\" + 0.017*\"comment\" + 0.015*\"think\" + '\n",
            "  '0.015*\"link\"'),\n",
            " (11,\n",
            "  '0.018*\"look\" + 0.015*\"say\" + 0.013*\"walk\" + 0.012*\"come\" + 0.012*\"take\" + '\n",
            "  '0.011*\"head\" + 0.011*\"turn\" + 0.010*\"hand\" + 0.009*\"tell\" + 0.008*\"room\"'),\n",
            " (12,\n",
            "  '0.069*\"school\" + 0.053*\"class\" + 0.038*\"today\" + 0.027*\"teacher\" + '\n",
            "  '0.025*\"student\" + 0.018*\"test\" + 0.017*\"year\" + 0.016*\"learn\" + '\n",
            "  '0.015*\"teach\" + 0.013*\"food\"'),\n",
            " (13,\n",
            "  '0.055*\"look\" + 0.050*\"wear\" + 0.035*\"hair\" + 0.032*\"black\" + 0.021*\"color\" '\n",
            "  '+ 0.017*\"dress\" + 0.017*\"white\" + 0.017*\"shoe\" + 0.016*\"shirt\" + '\n",
            "  '0.015*\"cloth\"')]\n"
          ],
          "name": "stdout"
        }
      ]
    },
    {
      "cell_type": "markdown",
      "metadata": {
        "id": "3bHckA3nKIN_"
      },
      "source": [
        "### Since no of topics between 10-30 gave max values, so now the range is from step 10-25"
      ]
    },
    {
      "cell_type": "code",
      "metadata": {
        "id": "N6gMMjWtJjHq",
        "outputId": "0ab7dda1-c0af-4380-fccd-b5db3031123e",
        "colab": {
          "base_uri": "https://localhost:8080/",
          "height": 286
        }
      },
      "source": [
        "# Can take a long time to run.\n",
        "model_list, coherence_values, perplexity_values = compute_coherence_values(dictionary=id2word, corpus=corpus, texts=data_lemmatized, start=10, limit=25, step=2)"
      ],
      "execution_count": null,
      "outputs": [
        {
          "output_type": "stream",
          "text": [
            "10 25 2 1049.3046857380004\n",
            "------------\n",
            "12 25 2 1104.515523785\n",
            "------------\n",
            "14 25 2 1152.6483310570002\n",
            "------------\n",
            "16 25 2 1247.7988217539996\n",
            "------------\n",
            "18 25 2 1286.7527787950003\n",
            "------------\n",
            "20 25 2 1380.2429301009997\n",
            "------------\n",
            "22 25 2 1469.5290815070002\n",
            "------------\n",
            "24 25 2 1524.9638044849999\n",
            "------------\n"
          ],
          "name": "stdout"
        }
      ]
    },
    {
      "cell_type": "code",
      "metadata": {
        "id": "OWMH21m2KUY5",
        "outputId": "9ff57cac-f572-491b-c799-694692203a3b",
        "colab": {
          "base_uri": "https://localhost:8080/",
          "height": 279
        }
      },
      "source": [
        "# Show graph\n",
        "limit=25; start=10; step=2;\n",
        "x = range(start, limit, step)\n",
        "plt.plot(x, coherence_values)\n",
        "plt.xlabel(\"Num Topics\")\n",
        "plt.ylabel(\"Coherence score\")\n",
        "plt.legend((\"coherence_values\"), loc='best')\n",
        "plt.show()"
      ],
      "execution_count": null,
      "outputs": [
        {
          "output_type": "display_data",
          "data": {
            "image/png": "[encoded data removed]",
            "text/plain": [
              "<Figure size 432x288 with 1 Axes>"
            ]
          },
          "metadata": {
            "tags": [],
            "needs_background": "light"
          }
        }
      ]
    },
    {
      "cell_type": "code",
      "metadata": {
        "id": "ZUDb4p2-r533",
        "outputId": "7ed5e373-a015-48be-d96b-f1593ed2f91f",
        "colab": {
          "base_uri": "https://localhost:8080/",
          "height": 151
        }
      },
      "source": [
        "# Print the coherence scores\n",
        "for m, cv in zip(x, coherence_values):\n",
        "    print(\"Num Topics =\", m, \" has Coherence Value of\", round(cv, 4))"
      ],
      "execution_count": null,
      "outputs": [
        {
          "output_type": "stream",
          "text": [
            "Num Topics = 10  has Coherence Value of 0.4664\n",
            "Num Topics = 12  has Coherence Value of 0.4635\n",
            "Num Topics = 14  has Coherence Value of 0.4796\n",
            "Num Topics = 16  has Coherence Value of 0.4684\n",
            "Num Topics = 18  has Coherence Value of 0.4611\n",
            "Num Topics = 20  has Coherence Value of 0.4771\n",
            "Num Topics = 22  has Coherence Value of 0.4865\n",
            "Num Topics = 24  has Coherence Value of 0.4759\n"
          ],
          "name": "stdout"
        }
      ]
    },
    {
      "cell_type": "code",
      "metadata": {
        "id": "WCS9wm-WsKE7",
        "outputId": "2c698bb1-bf96-442c-c235-754a7ee23e22",
        "colab": {
          "base_uri": "https://localhost:8080/",
          "height": 282
        }
      },
      "source": [
        "# Show graph\n",
        "limit=25; start=10; step=2;\n",
        "x = range(start, limit, step)\n",
        "plt.plot(x, perplexity_values)\n",
        "plt.xlabel(\"Num Topics\")\n",
        "plt.ylabel(\"Perplexity score\")\n",
        "plt.legend((\"perplexity_values\"), loc='best')\n",
        "plt.show()"
      ],
      "execution_count": null,
      "outputs": [
        {
          "output_type": "display_data",
          "data": {
            "image/png": "[encoded data removed]",
            "text/plain": [
              "<Figure size 432x288 with 1 Axes>"
            ]
          },
          "metadata": {
            "tags": [],
            "needs_background": "light"
          }
        }
      ]
    },
    {
      "cell_type": "code",
      "metadata": {
        "id": "Y7R_VmTnsRBe",
        "outputId": "c1e4d6a3-27a2-46b6-9cdb-f757465061d7",
        "colab": {
          "base_uri": "https://localhost:8080/",
          "height": 151
        }
      },
      "source": [
        "# Print the perplexity scores\n",
        "for m, cv in zip(x, perplexity_values):\n",
        "    print(\"Num Topics =\", m, \" has Perplexity Value of\", round(cv, 4))"
      ],
      "execution_count": null,
      "outputs": [
        {
          "output_type": "stream",
          "text": [
            "Num Topics = 10  has Perplexity Value of -7.0248\n",
            "Num Topics = 12  has Perplexity Value of -7.0445\n",
            "Num Topics = 14  has Perplexity Value of -7.0532\n",
            "Num Topics = 16  has Perplexity Value of -7.0786\n",
            "Num Topics = 18  has Perplexity Value of -7.0816\n",
            "Num Topics = 20  has Perplexity Value of -7.1051\n",
            "Num Topics = 22  has Perplexity Value of -7.1167\n",
            "Num Topics = 24  has Perplexity Value of -7.131\n"
          ],
          "name": "stdout"
        }
      ]
    },
    {
      "cell_type": "markdown",
      "metadata": {
        "id": "jGu5AOlCua_Z"
      },
      "source": [
        "### Best model i.e with no of topics = 22"
      ]
    },
    {
      "cell_type": "code",
      "metadata": {
        "id": "Q38p-t2msfXE",
        "outputId": "cb53b2b4-b40c-47dc-d0ee-907e9304f46d",
        "colab": {
          "base_uri": "https://localhost:8080/",
          "height": 1000
        }
      },
      "source": [
        "# Select the model and print the topics\n",
        "optimal_model = model_list[6]\n",
        "model_topics = optimal_model.show_topics(formatted=False)\n",
        "pprint(optimal_model.print_topics(num_words=10))\n",
        "pprint(model_topics)"
      ],
      "execution_count": null,
      "outputs": [
        {
          "output_type": "stream",
          "text": [
            "[(0,\n",
            "  '0.062*\"go\" + 0.045*\"today\" + 0.032*\"think\" + 0.028*\"know\" + 0.020*\"talk\" + '\n",
            "  '0.017*\"good\" + 0.017*\"want\" + 0.017*\"come\" + 0.017*\"thing\" + 0.017*\"feel\"'),\n",
            " (20,\n",
            "  '0.016*\"question\" + 0.015*\"differ\" + 0.014*\"person\" + 0.011*\"creat\" + '\n",
            "  '0.011*\"mean\" + 0.011*\"understand\" + 0.010*\"human\" + 0.010*\"peopl\" + '\n",
            "  '0.009*\"answer\" + 0.009*\"think\"'),\n",
            " (19,\n",
            "  '0.096*\"play\" + 0.054*\"game\" + 0.044*\"watch\" + 0.040*\"good\" + 0.031*\"team\" + '\n",
            "  '0.031*\"movi\" + 0.018*\"time\" + 0.013*\"see\" + 0.013*\"lose\" + 0.012*\"player\"'),\n",
            " (13,\n",
            "  '0.077*\"wear\" + 0.058*\"look\" + 0.044*\"drink\" + 0.029*\"dress\" + 0.026*\"shoe\" '\n",
            "  '+ 0.024*\"shirt\" + 0.024*\"cloth\" + 0.019*\"woman\" + 0.015*\"pant\" + '\n",
            "  '0.013*\"french\"'),\n",
            " (17,\n",
            "  '0.129*\"write\" + 0.126*\"read\" + 0.070*\"book\" + 0.026*\"word\" + 0.018*\"think\" '\n",
            "  '+ 0.018*\"page\" + 0.015*\"paper\" + 0.015*\"interest\" + 0.014*\"letter\" + '\n",
            "  '0.012*\"blog\"'),\n",
            " (8,\n",
            "  '0.101*\"say\" + 0.029*\"woman\" + 0.025*\"tell\" + 0.019*\"ask\" + 0.019*\"kill\" + '\n",
            "  '0.016*\"vote\" + 0.013*\"call\" + 0.013*\"attack\" + 0.012*\"come\" + '\n",
            "  '0.011*\"right\"'),\n",
            " (7,\n",
            "  '0.068*\"school\" + 0.054*\"class\" + 0.046*\"year\" + 0.032*\"child\" + '\n",
            "  '0.030*\"teacher\" + 0.029*\"girl\" + 0.027*\"student\" + 0.024*\"parent\" + '\n",
            "  '0.023*\"learn\" + 0.022*\"kid\"'),\n",
            " (6,\n",
            "  '0.060*\"black\" + 0.054*\"hair\" + 0.037*\"color\" + 0.031*\"white\" + '\n",
            "  '0.025*\"bring\" + 0.025*\"blue\" + 0.023*\"look\" + 0.020*\"paint\" + 0.017*\"dark\" '\n",
            "  '+ 0.012*\"green\"'),\n",
            " (12,\n",
            "  '0.049*\"nbsp\" + 0.046*\"water\" + 0.045*\"rain\" + 0.028*\"weight\" + 0.023*\"cold\" '\n",
            "  '+ 0.018*\"fish\" + 0.016*\"lose\" + 0.014*\"warm\" + 0.013*\"pound\" + '\n",
            "  '0.013*\"tree\"'),\n",
            " (21,\n",
            "  '0.110*\"test\" + 0.040*\"church\" + 0.031*\"doctor\" + 0.027*\"take\" + '\n",
            "  '0.024*\"result\" + 0.024*\"religion\" + 0.020*\"level\" + 0.016*\"christian\" + '\n",
            "  '0.015*\"belief\" + 0.014*\"blood\"'),\n",
            " (15,\n",
            "  '0.074*\"hate\" + 0.051*\"peopl\" + 0.036*\"stupid\" + 0.031*\"shit\" + 0.029*\"fuck\" '\n",
            "  '+ 0.028*\"suck\" + 0.024*\"damn\" + 0.020*\"mean\" + 0.020*\"bitch\" + '\n",
            "  '0.018*\"piss\"'),\n",
            " (9,\n",
            "  '0.046*\"go\" + 0.035*\"time\" + 0.024*\"night\" + 0.024*\"home\" + 0.023*\"work\" + '\n",
            "  '0.021*\"week\" + 0.019*\"come\" + 0.019*\"good\" + 0.017*\"hour\" + 0.016*\"today\"'),\n",
            " (1,\n",
            "  '0.075*\"work\" + 0.050*\"money\" + 0.027*\"need\" + 0.021*\"pay\" + 0.021*\"sell\" + '\n",
            "  '0.020*\"month\" + 0.017*\"week\" + 0.014*\"price\" + 0.014*\"number\" + '\n",
            "  '0.013*\"store\"'),\n",
            " (10,\n",
            "  '0.099*\"birthday\" + 0.078*\"would\" + 0.058*\"husband\" + 0.046*\"wife\" + '\n",
            "  '0.032*\"daughter\" + 0.031*\"present\" + 0.022*\"cousin\" + 0.021*\"piano\" + '\n",
            "  '0.020*\"gift\" + 0.019*\"guest\"'),\n",
            " (5,\n",
            "  '0.049*\"feel\" + 0.021*\"eye\" + 0.021*\"dream\" + 0.020*\"away\" + 0.017*\"know\" + '\n",
            "  '0.017*\"heart\" + 0.017*\"pain\" + 0.017*\"hand\" + 0.015*\"face\" + 0.015*\"hold\"'),\n",
            " (16,\n",
            "  '0.055*\"know\" + 0.051*\"think\" + 0.038*\"want\" + 0.032*\"thing\" + 0.028*\"feel\" '\n",
            "  '+ 0.026*\"time\" + 0.022*\"friend\" + 0.021*\"good\" + 0.019*\"peopl\" + '\n",
            "  '0.015*\"life\"'),\n",
            " (3,\n",
            "  '0.237*\"love\" + 0.036*\"life\" + 0.034*\"live\" + 0.027*\"heart\" + 0.019*\"thank\" '\n",
            "  '+ 0.018*\"pray\" + 0.017*\"shall\" + 0.015*\"true\" + 0.013*\"great\" + '\n",
            "  '0.012*\"bless\"'),\n",
            " (18,\n",
            "  '0.083*\"music\" + 0.045*\"song\" + 0.045*\"band\" + 0.044*\"play\" + 0.039*\"listen\" '\n",
            "  '+ 0.033*\"sing\" + 0.028*\"hear\" + 0.027*\"film\" + 0.023*\"good\" + '\n",
            "  '0.020*\"sound\"'),\n",
            " (14,\n",
            "  '0.020*\"year\" + 0.014*\"govern\" + 0.012*\"nation\" + 0.011*\"time\" + '\n",
            "  '0.011*\"develop\" + 0.010*\"support\" + 0.009*\"event\" + 0.008*\"leader\" + '\n",
            "  '0.008*\"begin\" + 0.007*\"today\"'),\n",
            " (4,\n",
            "  '0.045*\"food\" + 0.039*\"smoke\" + 0.037*\"eat\" + 0.035*\"smell\" + 0.034*\"tast\" + '\n",
            "  '0.019*\"burn\" + 0.014*\"milk\" + 0.012*\"cream\" + 0.012*\"cook\" + '\n",
            "  '0.011*\"chicken\"')]\n",
            "[(1,\n",
            "  [('work', 0.07539921),\n",
            "   ('money', 0.050027225),\n",
            "   ('need', 0.02712484),\n",
            "   ('pay', 0.021375474),\n",
            "   ('sell', 0.020792123),\n",
            "   ('month', 0.020090273),\n",
            "   ('week', 0.017374553),\n",
            "   ('price', 0.013788657),\n",
            "   ('number', 0.013781265),\n",
            "   ('store', 0.012564834)]),\n",
            " (11,\n",
            "  [('look', 0.02262619),\n",
            "   ('walk', 0.015706506),\n",
            "   ('go', 0.015191297),\n",
            "   ('come', 0.015136683),\n",
            "   ('take', 0.012579133),\n",
            "   ('turn', 0.012328169),\n",
            "   ('say', 0.011942903),\n",
            "   ('head', 0.011167165),\n",
            "   ('start', 0.010995133),\n",
            "   ('think', 0.01069196)]),\n",
            " (16,\n",
            "  [('know', 0.055221096),\n",
            "   ('think', 0.05100684),\n",
            "   ('want', 0.037881255),\n",
            "   ('thing', 0.032492753),\n",
            "   ('feel', 0.027531028),\n",
            "   ('time', 0.026005004),\n",
            "   ('friend', 0.021611739),\n",
            "   ('good', 0.0207126),\n",
            "   ('peopl', 0.019233461),\n",
            "   ('life', 0.015243958)]),\n",
            " (3,\n",
            "  [('love', 0.23731162),\n",
            "   ('life', 0.036201756),\n",
            "   ('live', 0.034431256),\n",
            "   ('heart', 0.02683223),\n",
            "   ('thank', 0.019329118),\n",
            "   ('pray', 0.018399676),\n",
            "   ('shall', 0.016507715),\n",
            "   ('true', 0.015249424),\n",
            "   ('great', 0.012695956),\n",
            "   ('bless', 0.012033936)]),\n",
            " (15,\n",
            "  [('hate', 0.07387182),\n",
            "   ('peopl', 0.051266164),\n",
            "   ('stupid', 0.035886165),\n",
            "   ('shit', 0.03139162),\n",
            "   ('fuck', 0.028641911),\n",
            "   ('suck', 0.02775669),\n",
            "   ('damn', 0.024333555),\n",
            "   ('mean', 0.019946072),\n",
            "   ('bitch', 0.019722952),\n",
            "   ('piss', 0.017664855)]),\n",
            " (19,\n",
            "  [('play', 0.09572685),\n",
            "   ('game', 0.05416197),\n",
            "   ('watch', 0.044463284),\n",
            "   ('good', 0.039524447),\n",
            "   ('team', 0.031185392),\n",
            "   ('movi', 0.030618815),\n",
            "   ('time', 0.018126385),\n",
            "   ('see', 0.013421152),\n",
            "   ('lose', 0.013130271),\n",
            "   ('player', 0.011501091)]),\n",
            " (5,\n",
            "  [('feel', 0.04871108),\n",
            "   ('eye', 0.021239208),\n",
            "   ('dream', 0.020743005),\n",
            "   ('away', 0.020480825),\n",
            "   ('know', 0.0169577),\n",
            "   ('heart', 0.016890114),\n",
            "   ('pain', 0.016661534),\n",
            "   ('hand', 0.016653646),\n",
            "   ('face', 0.015067949),\n",
            "   ('hold', 0.015013099)]),\n",
            " (10,\n",
            "  [('birthday', 0.09852252),\n",
            "   ('would', 0.07768026),\n",
            "   ('husband', 0.058247406),\n",
            "   ('wife', 0.046243984),\n",
            "   ('daughter', 0.032198247),\n",
            "   ('present', 0.031154014),\n",
            "   ('cousin', 0.02214713),\n",
            "   ('piano', 0.021138538),\n",
            "   ('gift', 0.01966191),\n",
            "   ('guest', 0.019213255)]),\n",
            " (13,\n",
            "  [('wear', 0.077075146),\n",
            "   ('look', 0.05751441),\n",
            "   ('drink', 0.043548066),\n",
            "   ('dress', 0.02890971),\n",
            "   ('shoe', 0.026055694),\n",
            "   ('shirt', 0.024499277),\n",
            "   ('cloth', 0.023562197),\n",
            "   ('woman', 0.019002829),\n",
            "   ('pant', 0.014858198),\n",
            "   ('french', 0.0129587)]),\n",
            " (2,\n",
            "  [('blog', 0.05599665),\n",
            "   ('post', 0.03385971),\n",
            "   ('site', 0.03128186),\n",
            "   ('email', 0.023760246),\n",
            "   ('link', 0.02359319),\n",
            "   ('comment', 0.02262802),\n",
            "   ('check', 0.01983677),\n",
            "   ('send', 0.017904155),\n",
            "   ('websit', 0.017419428),\n",
            "   ('look', 0.01537533)])]\n"
          ],
          "name": "stdout"
        }
      ]
    },
    {
      "cell_type": "code",
      "metadata": {
        "id": "3k9dTFqPtQOt"
      },
      "source": [
        "import pickle\n",
        "Model = open('model.pkl', 'wb')\n",
        "pickle.dump(model_list[6], Model)\n",
        "Model.close()"
      ],
      "execution_count": null,
      "outputs": []
    },
    {
      "cell_type": "code",
      "metadata": {
        "id": "GfheoBRzyVVJ"
      },
      "source": [
        "import pickle\n",
        "model = pickle.load(open('//content//drive//My Drive//Colab Notebooks//Blog authorship corpus//model.pkl', 'rb'))"
      ],
      "execution_count": null,
      "outputs": []
    },
    {
      "cell_type": "markdown",
      "metadata": {
        "id": "22jIKkPzygCP"
      },
      "source": [
        "### Function compute_coherence_values would return list of models, coherence score and perplexity value by varying the no of passes."
      ]
    },
    {
      "cell_type": "code",
      "metadata": {
        "id": "yIKukCHhykLo"
      },
      "source": [
        "def compute_coherence_values(dictionary, corpus, texts, limit, start=1, step=1):\n",
        "    coherence_values = []\n",
        "    model_list = []\n",
        "    perplexity_value = []\n",
        "    for passes in range(start, limit, step):\n",
        "        start = timer()\n",
        "        print(passes, limit, step,end=' ')\n",
        "        model = gensim.models.ldamodel.LdaModel(corpus=corpus,\n",
        "                                           id2word=id2word,\n",
        "                                           num_topics=22, \n",
        "                                           random_state=1,\n",
        "                                           passes=passes)\n",
        "        model_list.append(model)\n",
        "        coherencemodel = CoherenceModel(model=model, texts=texts, dictionary=dictionary, coherence='c_v')\n",
        "        coherence_values.append(coherencemodel.get_coherence())\n",
        "        perplexity_value.append(model.log_perplexity(corpus))\n",
        "        print(timer()-start)\n",
        "        print('------------')\n",
        "\n",
        "    return model_list, coherence_values, perplexity_value"
      ],
      "execution_count": null,
      "outputs": []
    },
    {
      "cell_type": "markdown",
      "metadata": {
        "id": "pm2AgYT0yrv1"
      },
      "source": [
        "### The following line prints\n",
        "no of passes, max passes, diff b/w passes and seconds it took to compute.\n",
        "### No of Passes from 1-5 on the best model i.e with 22 no of topics"
      ]
    },
    {
      "cell_type": "code",
      "metadata": {
        "id": "rLXKieBd1SGu",
        "outputId": "7a8d9ee5-e0f1-42c1-9599-8ca4c92b9b36",
        "colab": {
          "base_uri": "https://localhost:8080/",
          "height": 185
        }
      },
      "source": [
        "# Can take a long time to run.\n",
        "model_list, coherence_values, perplexity_values = compute_coherence_values(dictionary=id2word, corpus=corpus, texts=data_lemmatized, start=1, limit=6, step=1)"
      ],
      "execution_count": null,
      "outputs": [
        {
          "output_type": "stream",
          "text": [
            "1 6 1 1554.0581276220003\n",
            "------------\n",
            "2 6 1 1969.0414118040003\n",
            "------------\n",
            "3 6 1 2343.765638445\n",
            "------------\n",
            "4 6 1 2685.377140058001\n",
            "------------\n",
            "5 6 1 2935.539214957\n",
            "------------\n"
          ],
          "name": "stdout"
        }
      ]
    },
    {
      "cell_type": "code",
      "metadata": {
        "id": "PWDtv_ItitqJ",
        "outputId": "b0786d33-7afa-496f-d9ae-e947da0d7a04",
        "colab": {
          "base_uri": "https://localhost:8080/",
          "height": 279
        }
      },
      "source": [
        "# Show graph\n",
        "limit=6; start=1; step=1;\n",
        "x = range(start, limit, step)\n",
        "plt.plot(x, coherence_values)\n",
        "plt.xlabel(\"Passes\")\n",
        "plt.ylabel(\"Coherence score\")\n",
        "plt.legend((\"coherence_values\"), loc='best')\n",
        "plt.show()"
      ],
      "execution_count": null,
      "outputs": [
        {
          "output_type": "display_data",
          "data": {
            "image/png": "[encoded data removed]",
            "text/plain": [
              "<Figure size 432x288 with 1 Axes>"
            ]
          },
          "metadata": {
            "tags": [],
            "needs_background": "light"
          }
        }
      ]
    },
    {
      "cell_type": "code",
      "metadata": {
        "id": "M2TLbmCRYcj-",
        "outputId": "95ef8dca-5b3a-4372-d022-34631a36221e",
        "colab": {
          "base_uri": "https://localhost:8080/",
          "height": 279
        }
      },
      "source": [
        "# Show graph\n",
        "limit=6; start=1; step=1;\n",
        "x = range(start, limit, step)\n",
        "plt.plot(x, perplexity_values)\n",
        "plt.xlabel(\"Passes\")\n",
        "plt.ylabel(\"Perplexity score\")\n",
        "plt.legend((\"perplexity_values\"), loc='best')\n",
        "plt.show()"
      ],
      "execution_count": null,
      "outputs": [
        {
          "output_type": "display_data",
          "data": {
            "image/png": "[encoded data removed]",
            "text/plain": [
              "<Figure size 432x288 with 1 Axes>"
            ]
          },
          "metadata": {
            "tags": [],
            "needs_background": "light"
          }
        }
      ]
    },
    {
      "cell_type": "code",
      "metadata": {
        "id": "KDx3fjWvhrsV",
        "outputId": "1866febf-de24-4e2f-c2f3-6b0a07dba2fa",
        "colab": {
          "base_uri": "https://localhost:8080/",
          "height": 101
        }
      },
      "source": [
        "# Print the perplexity scores\n",
        "p=[1,2,3,4,5]\n",
        "for m, cv in zip(p, perplexity_values):\n",
        "    print(\"Num Passes =\", m, \" has Perplexity Value of\", round(cv, 4))"
      ],
      "execution_count": null,
      "outputs": [
        {
          "output_type": "stream",
          "text": [
            "Num Passes = 1  has Perplexity Value of -7.1204\n",
            "Num Passes = 2  has Perplexity Value of -7.1167\n",
            "Num Passes = 3  has Perplexity Value of -7.1165\n",
            "Num Passes = 4  has Perplexity Value of -7.1163\n",
            "Num Passes = 5  has Perplexity Value of -7.1165\n"
          ],
          "name": "stdout"
        }
      ]
    },
    {
      "cell_type": "code",
      "metadata": {
        "id": "rr9AHFLSXyJm",
        "outputId": "7abefee4-fc64-4a82-fe8e-147f3122b34b",
        "colab": {
          "base_uri": "https://localhost:8080/",
          "height": 101
        }
      },
      "source": [
        "# Print the coherence scores\n",
        "p=[1,2,3,4,5]\n",
        "for m, cv in zip(p, coherence_values):\n",
        "    print(\"Num Passes =\", m, \" has Coherence Score of\", round(cv, 4))"
      ],
      "execution_count": null,
      "outputs": [
        {
          "output_type": "stream",
          "text": [
            "Num Passes = 1  has Coherence Score of 0.4825\n",
            "Num Passes = 2  has Coherence Score of 0.4865\n",
            "Num Passes = 3  has Coherence Score of 0.4882\n",
            "Num Passes = 4  has Coherence Score of 0.4898\n",
            "Num Passes = 5  has Coherence Score of 0.4942\n"
          ],
          "name": "stdout"
        }
      ]
    },
    {
      "cell_type": "markdown",
      "metadata": {
        "id": "_Qr3F-yEi6-M"
      },
      "source": [
        "\n",
        "\n",
        "1.   model with 22 no of topics and __2__ passes gave __0.4865 coherence value__.\n",
        "Increasing the no of passes to __5__ gave __0.4942__ coherence value.\n",
        "2.   No significant change was observed in perplexity score.\n",
        "\n"
      ]
    },
    {
      "cell_type": "markdown",
      "metadata": {
        "id": "scpHH67e1-jB"
      },
      "source": [
        "### No of Passes from 6-10 on the best model i.e with 22 no of topics"
      ]
    },
    {
      "cell_type": "code",
      "metadata": {
        "id": "mCyxVTAejixy",
        "outputId": "dae046cf-89bc-4590-f12a-b8804bc0b8da",
        "colab": {
          "base_uri": "https://localhost:8080/",
          "height": 185
        }
      },
      "source": [
        "model_list, coherence_values, perplexity_values = compute_coherence_values(dictionary=id2word, corpus=corpus, texts=data_lemmatized, start=6, limit=11, step=1)"
      ],
      "execution_count": null,
      "outputs": [
        {
          "output_type": "stream",
          "text": [
            "6 11 1 2651.487138977\n",
            "------------\n",
            "7 11 1 2940.4907407319997\n",
            "------------\n",
            "8 11 1 3221.3595890669994\n",
            "------------\n",
            "9 11 1 3532.8401550180006\n",
            "------------\n",
            "10 11 1 3842.5153331460006\n",
            "------------\n"
          ],
          "name": "stdout"
        }
      ]
    },
    {
      "cell_type": "code",
      "metadata": {
        "id": "z_AtMjff1Y5P",
        "outputId": "04302c4b-c263-4cc5-f4b0-e5195bb2268d",
        "colab": {
          "base_uri": "https://localhost:8080/",
          "height": 279
        }
      },
      "source": [
        "# Show graph\n",
        "limit=11; start=6; step=1;\n",
        "x = range(start, limit, step)\n",
        "plt.plot(x, coherence_values)\n",
        "plt.xlabel(\"Passes\")\n",
        "plt.ylabel(\"Coherence score\")\n",
        "plt.legend((\"coherence_values\"), loc='best')\n",
        "plt.show()"
      ],
      "execution_count": null,
      "outputs": [
        {
          "output_type": "display_data",
          "data": {
            "image/png": "[encoded data removed]",
            "text/plain": [
              "<Figure size 432x288 with 1 Axes>"
            ]
          },
          "metadata": {
            "tags": [],
            "needs_background": "light"
          }
        }
      ]
    },
    {
      "cell_type": "code",
      "metadata": {
        "id": "BHvn_tuE1ZGg",
        "outputId": "4275f35e-9070-445b-ec5b-1c70868faeac",
        "colab": {
          "base_uri": "https://localhost:8080/",
          "height": 290
        }
      },
      "source": [
        "# Show graph\n",
        "limit=11; start=6; step=1;\n",
        "x = range(start, limit, step)\n",
        "plt.plot(x, perplexity_values)\n",
        "plt.xlabel(\"Passes\")\n",
        "plt.ylabel(\"Perplexity score\")\n",
        "plt.legend((\"perplexity_values\"), loc='best')\n",
        "plt.show()"
      ],
      "execution_count": null,
      "outputs": [
        {
          "output_type": "display_data",
          "data": {
            "image/png": "[encoded data removed]",
            "text/plain": [
              "<Figure size 432x288 with 1 Axes>"
            ]
          },
          "metadata": {
            "tags": [],
            "needs_background": "light"
          }
        }
      ]
    },
    {
      "cell_type": "code",
      "metadata": {
        "id": "MQ-3V66L1YkD",
        "outputId": "7368c19d-3f84-4dd1-a7f0-ac32742da707",
        "colab": {
          "base_uri": "https://localhost:8080/",
          "height": 101
        }
      },
      "source": [
        "# Print the perplexity scores\n",
        "p=[6,7,8,9,10]\n",
        "for m, cv in zip(p, perplexity_values):\n",
        "    print(\"Num Passes =\", m, \" has Perplexity Value of\", round(cv, 4))"
      ],
      "execution_count": null,
      "outputs": [
        {
          "output_type": "stream",
          "text": [
            "Num Passes = 6  has Perplexity Value of -7.1165\n",
            "Num Passes = 7  has Perplexity Value of -7.1165\n",
            "Num Passes = 8  has Perplexity Value of -7.1166\n",
            "Num Passes = 9  has Perplexity Value of -7.1167\n",
            "Num Passes = 10  has Perplexity Value of -7.1167\n"
          ],
          "name": "stdout"
        }
      ]
    },
    {
      "cell_type": "code",
      "metadata": {
        "id": "oozWDpeV1YaB",
        "outputId": "22787478-ac59-48ae-9134-1d70e64df47c",
        "colab": {
          "base_uri": "https://localhost:8080/",
          "height": 101
        }
      },
      "source": [
        "# Print the coherence scores\n",
        "c=[6,7,8,9,10]\n",
        "for m, cv in zip(c, coherence_values):\n",
        "    print(\"Num Passes =\", m, \" has Coherence Score of\", round(cv, 4))"
      ],
      "execution_count": null,
      "outputs": [
        {
          "output_type": "stream",
          "text": [
            "Num Passes = 6  has Coherence Score of 0.4939\n",
            "Num Passes = 7  has Coherence Score of 0.4934\n",
            "Num Passes = 8  has Coherence Score of 0.495\n",
            "Num Passes = 9  has Coherence Score of 0.4928\n",
            "Num Passes = 10  has Coherence Score of 0.4946\n"
          ],
          "name": "stdout"
        }
      ]
    },
    {
      "cell_type": "markdown",
      "metadata": {
        "id": "GYZsqFfs2JfS"
      },
      "source": [
        "### Combined visualizations from no of passes 1-10"
      ]
    },
    {
      "cell_type": "code",
      "metadata": {
        "id": "_qPJbQU82UvT"
      },
      "source": [
        "total_coherence_values = [0.4825, 0.4865, 0.4882, 0.4898, 0.4942, 0.4939, 0.4934, 0.495, 0.4928, 0.4946]\n",
        "total_perplexity_values = [-7.1204, -7.1167, -7.1165, -7.1163, -7.1165, -7.1165, -7.1165, -7.1166, -7.1167, -7.1167]\n",
        "passes = [1, 2, 3, 4, 5, 6, 7, 8, 9, 10]"
      ],
      "execution_count": null,
      "outputs": []
    },
    {
      "cell_type": "code",
      "metadata": {
        "id": "-NbAIk7-1tVD",
        "outputId": "939b34b7-8214-49d5-a93c-ab55eefb7b8a",
        "colab": {
          "base_uri": "https://localhost:8080/",
          "height": 279
        }
      },
      "source": [
        "# Show graph\n",
        "limit=11; start=1; step=1;\n",
        "x = range(start, limit, step)\n",
        "plt.plot(x, total_coherence_values)\n",
        "plt.xlabel(\"Passes\")\n",
        "plt.ylabel(\"Coherence score\")\n",
        "plt.legend((\"coherence_values\"), loc='best')\n",
        "plt.show()"
      ],
      "execution_count": null,
      "outputs": [
        {
          "output_type": "display_data",
          "data": {
            "image/png": "[encoded data removed]",
            "text/plain": [
              "<Figure size 432x288 with 1 Axes>"
            ]
          },
          "metadata": {
            "tags": [],
            "needs_background": "light"
          }
        }
      ]
    },
    {
      "cell_type": "code",
      "metadata": {
        "id": "n1Gg7Fs62nCM",
        "outputId": "f1ca8533-f4f2-44a9-bf6a-057fde96670a",
        "colab": {
          "base_uri": "https://localhost:8080/",
          "height": 279
        }
      },
      "source": [
        "# Show graph\n",
        "limit=11; start=1; step=1;\n",
        "x = range(start, limit, step)\n",
        "plt.plot(x, total_perplexity_values)\n",
        "plt.xlabel(\"Passes\")\n",
        "plt.ylabel(\"Perplexity score\")\n",
        "plt.legend((\"perplexity_values\"), loc='best')\n",
        "plt.show()"
      ],
      "execution_count": null,
      "outputs": [
        {
          "output_type": "display_data",
          "data": {
            "image/png": "[encoded data removed]",
            "text/plain": [
              "<Figure size 432x288 with 1 Axes>"
            ]
          },
          "metadata": {
            "tags": [],
            "needs_background": "light"
          }
        }
      ]
    },
    {
      "cell_type": "code",
      "metadata": {
        "id": "w8kmo30e24Kr",
        "outputId": "395d8028-1882-4c4c-87e8-40f2974f8790",
        "colab": {
          "base_uri": "https://localhost:8080/",
          "height": 185
        }
      },
      "source": [
        "# Print the perplexity scores\n",
        "for m, cv in zip(passes, total_perplexity_values):\n",
        "    print(\"Num Passes =\", m, \" has Perplexity Value of\", round(cv, 4))"
      ],
      "execution_count": null,
      "outputs": [
        {
          "output_type": "stream",
          "text": [
            "Num Passes = 1  has Perplexity Value of -7.1204\n",
            "Num Passes = 2  has Perplexity Value of -7.1167\n",
            "Num Passes = 3  has Perplexity Value of -7.1165\n",
            "Num Passes = 4  has Perplexity Value of -7.1163\n",
            "Num Passes = 5  has Perplexity Value of -7.1165\n",
            "Num Passes = 6  has Perplexity Value of -7.1165\n",
            "Num Passes = 7  has Perplexity Value of -7.1165\n",
            "Num Passes = 8  has Perplexity Value of -7.1166\n",
            "Num Passes = 9  has Perplexity Value of -7.1167\n",
            "Num Passes = 10  has Perplexity Value of -7.1167\n"
          ],
          "name": "stdout"
        }
      ]
    },
    {
      "cell_type": "code",
      "metadata": {
        "id": "nUMKr1Gc24Bl",
        "outputId": "eba92327-57b8-4662-f358-abdaadf0f934",
        "colab": {
          "base_uri": "https://localhost:8080/",
          "height": 185
        }
      },
      "source": [
        "# Print the coherence scores\n",
        "for m, cv in zip(passes, total_coherence_values):\n",
        "    print(\"Num Passes =\", m, \" has Coherence Score of\", round(cv, 4))"
      ],
      "execution_count": null,
      "outputs": [
        {
          "output_type": "stream",
          "text": [
            "Num Passes = 1  has Coherence Score of 0.4825\n",
            "Num Passes = 2  has Coherence Score of 0.4865\n",
            "Num Passes = 3  has Coherence Score of 0.4882\n",
            "Num Passes = 4  has Coherence Score of 0.4898\n",
            "Num Passes = 5  has Coherence Score of 0.4942\n",
            "Num Passes = 6  has Coherence Score of 0.4939\n",
            "Num Passes = 7  has Coherence Score of 0.4934\n",
            "Num Passes = 8  has Coherence Score of 0.495\n",
            "Num Passes = 9  has Coherence Score of 0.4928\n",
            "Num Passes = 10  has Coherence Score of 0.4946\n"
          ],
          "name": "stdout"
        }
      ]
    },
    {
      "cell_type": "markdown",
      "metadata": {
        "id": "XDsNzLWW3AmG"
      },
      "source": [
        "Storing model with passes = 8"
      ]
    },
    {
      "cell_type": "code",
      "metadata": {
        "id": "3wwnbcXW3D8u"
      },
      "source": [
        "import pickle\n",
        "Model = open('model_T22_P8.pkl', 'wb')\n",
        "pickle.dump(model_list[2], Model)\n",
        "Model.close()"
      ],
      "execution_count": null,
      "outputs": []
    },
    {
      "cell_type": "markdown",
      "metadata": {
        "id": "gAAQwBqzl0B8"
      },
      "source": [
        "### No of Passes from 11-12 on the best model i.e with 22 no of topics"
      ]
    },
    {
      "cell_type": "code",
      "metadata": {
        "id": "0XTtGg89l9RD",
        "outputId": "65abf765-19d9-43cf-db28-c019fd11fda6",
        "colab": {
          "base_uri": "https://localhost:8080/",
          "height": 84
        }
      },
      "source": [
        "model_list, coherence_values, perplexity_values = compute_coherence_values(dictionary=id2word, corpus=corpus, texts=data_lemmatized, start=11, limit=13, step=1)"
      ],
      "execution_count": null,
      "outputs": [
        {
          "output_type": "stream",
          "text": [
            "11 13 1 5958.0937481149995\n",
            "------------\n",
            "12 13 1 6298.012905743\n",
            "------------\n"
          ],
          "name": "stdout"
        }
      ]
    },
    {
      "cell_type": "code",
      "metadata": {
        "id": "IX59Dq1omGtL",
        "outputId": "a4c01ed0-77bc-4139-93ea-dcf66ccf4a99",
        "colab": {
          "base_uri": "https://localhost:8080/",
          "height": 279
        }
      },
      "source": [
        "# Show graph\n",
        "limit=13; start=11; step=1;\n",
        "x = range(start, limit, step)\n",
        "plt.plot(x, coherence_values)\n",
        "plt.xlabel(\"Passes\")\n",
        "plt.ylabel(\"Coherence score\")\n",
        "plt.legend((\"coherence_values\"), loc='best')\n",
        "plt.show()"
      ],
      "execution_count": null,
      "outputs": [
        {
          "output_type": "display_data",
          "data": {
            "image/png": "[encoded data removed]",
            "text/plain": [
              "<Figure size 432x288 with 1 Axes>"
            ]
          },
          "metadata": {
            "tags": [],
            "needs_background": "light"
          }
        }
      ]
    },
    {
      "cell_type": "code",
      "metadata": {
        "id": "rOZfxlakmHZy",
        "outputId": "84413c18-b919-4fd2-b3a4-47ad33c396fb",
        "colab": {
          "base_uri": "https://localhost:8080/",
          "height": 290
        }
      },
      "source": [
        "# Show graph\n",
        "limit=13; start=11; step=1;\n",
        "x = range(start, limit, step)\n",
        "plt.plot(x, perplexity_values)\n",
        "plt.xlabel(\"Passes\")\n",
        "plt.ylabel(\"Perplexity score\")\n",
        "plt.legend((\"perplexity_values\"), loc='best')\n",
        "plt.show()"
      ],
      "execution_count": null,
      "outputs": [
        {
          "output_type": "display_data",
          "data": {
            "image/png": "[encoded data removed]",
            "text/plain": [
              "<Figure size 432x288 with 1 Axes>"
            ]
          },
          "metadata": {
            "tags": [],
            "needs_background": "light"
          }
        }
      ]
    },
    {
      "cell_type": "code",
      "metadata": {
        "id": "vdhFTW21mHIL",
        "outputId": "bdd033e8-3178-4f1d-90dd-fde971dcf84e",
        "colab": {
          "base_uri": "https://localhost:8080/",
          "height": 50
        }
      },
      "source": [
        "# Print the perplexity scores\n",
        "p=[11, 12]\n",
        "for m, cv in zip(p, perplexity_values):\n",
        "    print(\"Num Passes =\", m, \" has Perplexity Value of\", round(cv, 4))"
      ],
      "execution_count": null,
      "outputs": [
        {
          "output_type": "stream",
          "text": [
            "Num Passes = 11  has Perplexity Value of -7.117\n",
            "Num Passes = 12  has Perplexity Value of -7.117\n"
          ],
          "name": "stdout"
        }
      ]
    },
    {
      "cell_type": "code",
      "metadata": {
        "id": "wXGJD3h4mGfi",
        "outputId": "33ea2b9a-a937-4bdb-852c-2915a8f48175",
        "colab": {
          "base_uri": "https://localhost:8080/",
          "height": 50
        }
      },
      "source": [
        "# Print the coherence scores\n",
        "c = [11, 12]\n",
        "for m, cv in zip(c, coherence_values):\n",
        "    print(\"Num Passes =\", m, \" has Coherence Score of\", round(cv, 4))"
      ],
      "execution_count": null,
      "outputs": [
        {
          "output_type": "stream",
          "text": [
            "Num Passes = 11  has Coherence Score of 0.494\n",
            "Num Passes = 12  has Coherence Score of 0.4945\n"
          ],
          "name": "stdout"
        }
      ]
    },
    {
      "cell_type": "markdown",
      "metadata": {
        "id": "lh_i80SDBZv6"
      },
      "source": [
        "Conclusion: no of passes 8 gave best results i.e coherence of 0.495"
      ]
    },
    {
      "cell_type": "markdown",
      "metadata": {
        "id": "_SxjzSEufnCn"
      },
      "source": [
        "# Regression Analysis\n",
        "## y = ax<sup>b</sup>"
      ]
    },
    {
      "cell_type": "markdown",
      "metadata": {
        "id": "cRYa46YX3vXo"
      },
      "source": [
        "## No of Topics = 22"
      ]
    },
    {
      "cell_type": "code",
      "metadata": {
        "id": "aR_Y9lpVEsa4"
      },
      "source": [
        "y = [0.4048223019407592, 0.4676388252010352, 0.4796279020723006, 0.4770809870073456, 0.4759895900112251, 0.4495640451714338, 0.4592129140352393, 0.42881682586055375, 0.4102821117313581, 0.41324611289867125, 0.38935282883286887, 0.37792997240752146, 0.3778223605315474]\n",
        "x = [2,8,14,20,26,32,38,44,50,56,62,68,74]"
      ],
      "execution_count": null,
      "outputs": []
    },
    {
      "cell_type": "code",
      "metadata": {
        "id": "TGdQjU4UG7I-"
      },
      "source": [
        "import numpy as np"
      ],
      "execution_count": null,
      "outputs": []
    },
    {
      "cell_type": "code",
      "metadata": {
        "id": "cliOsaDfHOo_"
      },
      "source": [
        "Y = np.array(y)\n",
        "X = np.array(x)"
      ],
      "execution_count": null,
      "outputs": []
    },
    {
      "cell_type": "code",
      "metadata": {
        "id": "_gMh2oiMHVVT",
        "outputId": "f784c322-7892-4b6d-cb77-93b910fd510a",
        "colab": {
          "base_uri": "https://localhost:8080/",
          "height": 67
        }
      },
      "source": [
        "print(Y)"
      ],
      "execution_count": null,
      "outputs": [
        {
          "output_type": "stream",
          "text": [
            "[0.4048223  0.46763883 0.4796279  0.47708099 0.47598959 0.44956405\n",
            " 0.45921291 0.42881683 0.41028211 0.41324611 0.38935283 0.37792997\n",
            " 0.37782236]\n"
          ],
          "name": "stdout"
        }
      ]
    },
    {
      "cell_type": "code",
      "metadata": {
        "id": "CqWGz7avHgGt"
      },
      "source": [
        "a=[1,2,3,4,5]\n",
        "b=[5,4,3,2,1]\n",
        "m=np.array(a)\n",
        "n=np.array(b)"
      ],
      "execution_count": null,
      "outputs": []
    },
    {
      "cell_type": "code",
      "metadata": {
        "id": "XvGx4WPqKmgE"
      },
      "source": [
        "z = np.log(Y)\n",
        "w = np.log(X)"
      ],
      "execution_count": null,
      "outputs": []
    },
    {
      "cell_type": "code",
      "metadata": {
        "id": "bns1cexVLl-V"
      },
      "source": [
        "val1 = 13*np.sum(z*w)"
      ],
      "execution_count": null,
      "outputs": []
    },
    {
      "cell_type": "code",
      "metadata": {
        "id": "ygT9TJIiLu_f"
      },
      "source": [
        "val2 = -1*np.sum(z)*np.sum(w)"
      ],
      "execution_count": null,
      "outputs": []
    },
    {
      "cell_type": "code",
      "metadata": {
        "id": "Vvl6ul-gL5jT"
      },
      "source": [
        "val3 = 13*np.sum(np.square(w))"
      ],
      "execution_count": null,
      "outputs": []
    },
    {
      "cell_type": "code",
      "metadata": {
        "id": "KPgrYAMkMA0a"
      },
      "source": [
        "val4 = -1*np.square(np.sum(w))"
      ],
      "execution_count": null,
      "outputs": []
    },
    {
      "cell_type": "code",
      "metadata": {
        "id": "xRl33jTQMI5P",
        "outputId": "7fc10530-60fa-47f2-b794-f557b9f41ba2",
        "colab": {
          "base_uri": "https://localhost:8080/",
          "height": 34
        }
      },
      "source": [
        "a1 = (val1 + val2)/(val3 + val4)\n",
        "a1"
      ],
      "execution_count": null,
      "outputs": [
        {
          "output_type": "execute_result",
          "data": {
            "text/plain": [
              "-0.032728779481990905"
            ]
          },
          "metadata": {
            "tags": []
          },
          "execution_count": 27
        }
      ]
    },
    {
      "cell_type": "code",
      "metadata": {
        "id": "kSYGfDpTNlV2"
      },
      "source": [
        "a0 = np.mean(z) - a1*np.mean(w)"
      ],
      "execution_count": null,
      "outputs": []
    },
    {
      "cell_type": "code",
      "metadata": {
        "id": "f5a7hgX6OR_k"
      },
      "source": [
        "a = np.exp(a0)\n",
        "b = a1"
      ],
      "execution_count": null,
      "outputs": []
    },
    {
      "cell_type": "markdown",
      "metadata": {
        "id": "z8eqom17y7Ja"
      },
      "source": [
        "The equation y = ax<sup>b</sup> gives the values from 1.001-0.888 which is not close to real coherence values for no of topics 2-80"
      ]
    },
    {
      "cell_type": "code",
      "metadata": {
        "id": "aQHggqOtPbT4",
        "outputId": "6f84c54c-3a79-4748-9038-0ec8003d2fd1",
        "colab": {
          "base_uri": "https://localhost:8080/",
          "height": 235
        }
      },
      "source": [
        "for i in range(2,80,6):\n",
        "  print(np.power(a*i,b), i)"
      ],
      "execution_count": null,
      "outputs": [
        {
          "output_type": "stream",
          "text": [
            "1.001379043035236 2\n",
            "0.9569600538503981 8\n",
            "0.939592347051057 14\n",
            "0.9286877537612365 20\n",
            "0.9207473802700071 26\n",
            "0.9145113940966838 32\n",
            "0.9093822091931468 38\n",
            "0.9050293057188233 44\n",
            "0.9012507267319225 50\n",
            "0.8979140808719347 56\n",
            "0.8949279050837623 62\n",
            "0.8922263857174129 68\n",
            "0.8897605983469568 74\n"
          ],
          "name": "stdout"
        }
      ]
    },
    {
      "cell_type": "code",
      "metadata": {
        "id": "z02VDhu7JIZC",
        "outputId": "87874437-96f6-413e-9257-906b4329aea6",
        "colab": {
          "base_uri": "https://localhost:8080/",
          "height": 67
        }
      },
      "source": [
        "# np.log(Y*X)\n",
        "print(np.log(m*n))\n",
        "print(np.log(m))\n",
        "print(np.log(n))"
      ],
      "execution_count": null,
      "outputs": [
        {
          "output_type": "stream",
          "text": [
            "[1.60943791 2.07944154 2.19722458 2.07944154 1.60943791]\n",
            "[0.         0.69314718 1.09861229 1.38629436 1.60943791]\n",
            "[1.60943791 1.38629436 1.09861229 0.69314718 0.        ]\n"
          ],
          "name": "stdout"
        }
      ]
    },
    {
      "cell_type": "code",
      "metadata": {
        "id": "Z2sRcktPQ-oN",
        "outputId": "81d79c3e-b53e-4856-e093-d171e0971092",
        "colab": {
          "base_uri": "https://localhost:8080/",
          "height": 235
        }
      },
      "source": [
        "tuple(zip(x, y))"
      ],
      "execution_count": null,
      "outputs": [
        {
          "output_type": "execute_result",
          "data": {
            "text/plain": [
              "((2, 0.4048223019407592),\n",
              " (8, 0.4676388252010352),\n",
              " (14, 0.4796279020723006),\n",
              " (20, 0.4770809870073456),\n",
              " (26, 0.4759895900112251),\n",
              " (32, 0.4495640451714338),\n",
              " (38, 0.4592129140352393),\n",
              " (44, 0.42881682586055375),\n",
              " (50, 0.4102821117313581),\n",
              " (56, 0.41324611289867125),\n",
              " (62, 0.38935282883286887),\n",
              " (68, 0.37792997240752146),\n",
              " (74, 0.3778223605315474))"
            ]
          },
          "metadata": {
            "tags": []
          },
          "execution_count": 45
        }
      ]
    },
    {
      "cell_type": "markdown",
      "metadata": {
        "id": "rDcXPpTfzLDe"
      },
      "source": [
        "The final mathematical equation formed between coherence value and no of topics."
      ]
    },
    {
      "cell_type": "code",
      "metadata": {
        "id": "mW5ylRLeUBdt"
      },
      "source": [
        "# y = coherence\n",
        "# x = no of topics\n",
        "y = 0.01729658174701116 log(x) + 0.4676388252010352"
      ],
      "execution_count": null,
      "outputs": []
    },
    {
      "cell_type": "markdown",
      "metadata": {
        "id": "KGlkmg4DVGe9"
      },
      "source": [
        "[Wolfram](https://www.wolframalpha.com/input/?i=fit+%5B%282%2C+0.4048223019407592%29%2C++%288%2C+0.4676388252010352%29%2C++%2814%2C+0.4796279020723006%29%2C++%2820%2C+0.4770809870073456%29%2C++%2826%2C+0.4759895900112251%29%2C++%2832%2C+0.4495640451714338%29%2C++%2838%2C+0.4592129140352393%29%2C++%2844%2C+0.42881682586055375%29%2C++%2850%2C+0.4102821117313581%29%2C++%2856%2C+0.41324611289867125%29%2C++%2862%2C+0.38935282883286887%29%2C++%2868%2C+0.37792997240752146%29%2C++%2874%2C+0.3778223605315474%29%5D)"
      ]
    },
    {
      "cell_type": "markdown",
      "metadata": {
        "id": "X46EMCDB39A3"
      },
      "source": [
        "## No of passes = 1-10"
      ]
    },
    {
      "cell_type": "code",
      "metadata": {
        "id": "ky_f_HEn5aOo"
      },
      "source": [
        "total_coherence_values = [0.4825, 0.4865, 0.4882, 0.4898, 0.4942, 0.4939, 0.4934, 0.495, 0.4928, 0.4946, 0.494, 0.4945]\n",
        "total_perplexity_values = [-7.1204, -7.1167, -7.1165, -7.1163, -7.1165, -7.1165, -7.1165, -7.1166, -7.1167, -7.1167, -7.117]\n",
        "passes = [1, 2, 3, 4, 5, 6, 7, 8, 9, 10, 11, 12]"
      ],
      "execution_count": null,
      "outputs": []
    },
    {
      "cell_type": "code",
      "metadata": {
        "id": "wc_Twnwd0jBN"
      },
      "source": [
        "import numpy as np\n",
        "Y = np.array(total_coherence_values)\n",
        "X = np.array(passes)"
      ],
      "execution_count": null,
      "outputs": []
    },
    {
      "cell_type": "code",
      "metadata": {
        "id": "wjQ2a8-c0jHT"
      },
      "source": [
        "z = np.log(Y)\n",
        "w = np.log(X)"
      ],
      "execution_count": null,
      "outputs": []
    },
    {
      "cell_type": "code",
      "metadata": {
        "id": "ifdac0PQ2DIP",
        "outputId": "7c75c957-be86-4912-bb1b-92632d964088",
        "colab": {
          "base_uri": "https://localhost:8080/",
          "height": 34
        }
      },
      "source": [
        "l = len(passes)\n",
        "l"
      ],
      "execution_count": null,
      "outputs": [
        {
          "output_type": "execute_result",
          "data": {
            "text/plain": [
              "12"
            ]
          },
          "metadata": {
            "tags": []
          },
          "execution_count": 5
        }
      ]
    },
    {
      "cell_type": "code",
      "metadata": {
        "id": "gfpQGxHf0i-9"
      },
      "source": [
        "val1 = l*np.sum(z*w)\n",
        "\n",
        "val2 = -1*np.sum(z)*np.sum(w)\n",
        "\n",
        "val3 = l*np.sum(np.square(w))\n",
        "\n",
        "val4 = -1*np.square(np.sum(w))"
      ],
      "execution_count": null,
      "outputs": []
    },
    {
      "cell_type": "code",
      "metadata": {
        "id": "HAWbCcDJ0i8I"
      },
      "source": [
        "a1 = (val1 + val2)/(val3 + val4)\n",
        "\n",
        "a0 = np.mean(z) - a1*np.mean(w)"
      ],
      "execution_count": null,
      "outputs": []
    },
    {
      "cell_type": "code",
      "metadata": {
        "id": "aXZByPJU1ql4"
      },
      "source": [
        "a = np.exp(a0)\n",
        "b = a1"
      ],
      "execution_count": null,
      "outputs": []
    },
    {
      "cell_type": "code",
      "metadata": {
        "id": "-OHe-Lcx1zt-",
        "outputId": "ee9a42eb-6520-492b-cb19-30f00669a101",
        "colab": {
          "base_uri": "https://localhost:8080/",
          "height": 218
        }
      },
      "source": [
        "for i in range(1,13):\n",
        "  print(np.power(a*i,b), i)"
      ],
      "execution_count": null,
      "outputs": [
        {
          "output_type": "stream",
          "text": [
            "0.9926289682965652 1\n",
            "0.9996552103541071 2\n",
            "1.0037883315501843 3\n",
            "1.0067311870849538 4\n",
            "1.0090197833893488 5\n",
            "1.0108935642375914 6\n",
            "1.0124805378411275 7\n",
            "1.0138572505318773 8\n",
            "1.0150731509331365 9\n",
            "1.0161620464759364 10\n",
            "1.0171480785426759 11\n",
            "1.0180490907269437 12\n"
          ],
          "name": "stdout"
        }
      ]
    },
    {
      "cell_type": "code",
      "metadata": {
        "id": "KtaMSB6e2OQs",
        "outputId": "5f8c5568-8533-44a5-9cf9-a9207ffa8786",
        "colab": {
          "base_uri": "https://localhost:8080/",
          "height": 218
        }
      },
      "source": [
        "tuple(zip(passes, total_coherence_values))"
      ],
      "execution_count": null,
      "outputs": [
        {
          "output_type": "execute_result",
          "data": {
            "text/plain": [
              "((1, 0.4825),\n",
              " (2, 0.4865),\n",
              " (3, 0.4882),\n",
              " (4, 0.4898),\n",
              " (5, 0.4942),\n",
              " (6, 0.4939),\n",
              " (7, 0.4934),\n",
              " (8, 0.495),\n",
              " (9, 0.4928),\n",
              " (10, 0.4946),\n",
              " (11, 0.494),\n",
              " (12, 0.4945))"
            ]
          },
          "metadata": {
            "tags": []
          },
          "execution_count": 10
        }
      ]
    },
    {
      "cell_type": "code",
      "metadata": {
        "id": "kGJBayAI2wRn"
      },
      "source": [
        "# logarithmic\n",
        "import math\n",
        "y = 0.00245258*np.log(passes) + 0.4865"
      ],
      "execution_count": null,
      "outputs": []
    },
    {
      "cell_type": "code",
      "metadata": {
        "id": "VJh5MELf5DA8",
        "outputId": "c5c26a49-c675-4e02-9d33-58d5cfd65bd7",
        "colab": {
          "base_uri": "https://localhost:8080/",
          "height": 84
        }
      },
      "source": [
        "print(passes)\n",
        "print(y)\n",
        "print(total_coherence_values)"
      ],
      "execution_count": null,
      "outputs": [
        {
          "output_type": "stream",
          "text": [
            "[1, 2, 3, 4, 5, 6, 7, 8, 9, 10, 11, 12]\n",
            "[0.4865     0.4882     0.48919443 0.4899     0.49044728 0.49089443\n",
            " 0.4912725  0.4916     0.49188887 0.49214727 0.49238103 0.49259443]\n",
            "[0.4825, 0.4865, 0.4882, 0.4898, 0.4942, 0.4939, 0.4934, 0.495, 0.4928, 0.4946, 0.494, 0.4945]\n"
          ],
          "name": "stdout"
        }
      ]
    },
    {
      "cell_type": "code",
      "metadata": {
        "id": "eles-6sB5gKm"
      },
      "source": [
        "mse = np.sum(np.square(np.subtract(y, Y)))/l"
      ],
      "execution_count": null,
      "outputs": []
    },
    {
      "cell_type": "code",
      "metadata": {
        "id": "EFvBVB9s8HLi",
        "outputId": "b24b6f83-1ed7-48a5-d97a-a00623673f2c",
        "colab": {
          "base_uri": "https://localhost:8080/",
          "height": 34
        }
      },
      "source": [
        "print(\"mean square error = \", mse)"
      ],
      "execution_count": null,
      "outputs": [
        {
          "output_type": "stream",
          "text": [
            "mean square error =  6.015818515753374e-06\n"
          ],
          "name": "stdout"
        }
      ]
    },
    {
      "cell_type": "markdown",
      "metadata": {
        "id": "MEDiPMpj2z4m"
      },
      "source": [
        "[Wolfram](https://www.wolframalpha.com/input/?i=fit+%5B%281%2C+0.4825%29%2C++%282%2C+0.4865%29%2C++%283%2C+0.4882%29%2C++%284%2C+0.4898%29%2C++%285%2C+0.4942%29%2C++%286%2C+0.4939%29%2C++%287%2C+0.4934%29%2C++%288%2C+0.495%29%2C++%289%2C+0.4928%29%2C++%2810%2C+0.4946%29%2C++%2811%2C+0.494%29%2C++%2812%2C+0.4945%29%5D)"
      ]
    }
  ]
}